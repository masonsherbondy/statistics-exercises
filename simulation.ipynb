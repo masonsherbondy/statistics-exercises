{
 "cells": [
  {
   "cell_type": "code",
   "execution_count": 1,
   "id": "49b9b99f",
   "metadata": {},
   "outputs": [],
   "source": [
    "%matplotlib inline\n",
    "import numpy as np\n",
    "import pandas as pd"
   ]
  },
  {
   "cell_type": "markdown",
   "id": "6b1c6389",
   "metadata": {},
   "source": [
    "## Exercise 1\n",
    "How likely is it that you roll doubles when rolling two dice?"
   ]
  },
  {
   "cell_type": "code",
   "execution_count": 2,
   "id": "6b0405f0",
   "metadata": {},
   "outputs": [],
   "source": [
    "die1 = np.random.choice([1, 2, 3, 4, 5, 6], 1_000_000)\n",
    "die2 = np.random.choice([1, 2, 3, 4, 5, 6], 1_000_000)"
   ]
  },
  {
   "cell_type": "code",
   "execution_count": 3,
   "id": "7a1cbf4b",
   "metadata": {},
   "outputs": [
    {
     "data": {
      "text/plain": [
       "array([False, False, False, ..., False, False,  True])"
      ]
     },
     "execution_count": 3,
     "metadata": {},
     "output_type": "execute_result"
    }
   ],
   "source": [
    "doubles = die1 == die2\n",
    "doubles"
   ]
  },
  {
   "cell_type": "code",
   "execution_count": 4,
   "id": "8df7d2cf",
   "metadata": {},
   "outputs": [
    {
     "data": {
      "text/plain": [
       "0.166666"
      ]
     },
     "execution_count": 4,
     "metadata": {},
     "output_type": "execute_result"
    }
   ],
   "source": [
    "doubles.mean()\n",
    "#there is a 17% chance that you will roll doubles when rolling 2 dice"
   ]
  },
  {
   "cell_type": "markdown",
   "id": "e1a79a24",
   "metadata": {},
   "source": [
    "## global variable n_trials"
   ]
  },
  {
   "cell_type": "code",
   "execution_count": 5,
   "id": "d9f4d35b",
   "metadata": {},
   "outputs": [],
   "source": [
    "n_trials = 1_000_000"
   ]
  },
  {
   "cell_type": "markdown",
   "id": "206fab6e",
   "metadata": {},
   "source": [
    "## Exercise 2\n",
    "If you flip 8 coins, what is the probability of getting exactly 3 heads? What is the probability of getting more than 3 heads?"
   ]
  },
  {
   "cell_type": "code",
   "execution_count": 6,
   "id": "21258653",
   "metadata": {},
   "outputs": [],
   "source": [
    "n_coins = 8\n",
    "\n",
    "coins = np.random.choice([0, 1], size = (n_trials, n_coins)) \n",
    "coins = pd.DataFrame(coins)"
   ]
  },
  {
   "cell_type": "code",
   "execution_count": 7,
   "id": "a1a51e82",
   "metadata": {},
   "outputs": [
    {
     "data": {
      "text/plain": [
       "(1000000, 8)"
      ]
     },
     "execution_count": 7,
     "metadata": {},
     "output_type": "execute_result"
    }
   ],
   "source": [
    "coins.shape"
   ]
  },
  {
   "cell_type": "code",
   "execution_count": 8,
   "id": "460661cb",
   "metadata": {},
   "outputs": [
    {
     "data": {
      "text/html": [
       "<div>\n",
       "<style scoped>\n",
       "    .dataframe tbody tr th:only-of-type {\n",
       "        vertical-align: middle;\n",
       "    }\n",
       "\n",
       "    .dataframe tbody tr th {\n",
       "        vertical-align: top;\n",
       "    }\n",
       "\n",
       "    .dataframe thead th {\n",
       "        text-align: right;\n",
       "    }\n",
       "</style>\n",
       "<table border=\"1\" class=\"dataframe\">\n",
       "  <thead>\n",
       "    <tr style=\"text-align: right;\">\n",
       "      <th></th>\n",
       "      <th>0</th>\n",
       "      <th>1</th>\n",
       "      <th>2</th>\n",
       "      <th>3</th>\n",
       "      <th>4</th>\n",
       "      <th>5</th>\n",
       "      <th>6</th>\n",
       "      <th>7</th>\n",
       "    </tr>\n",
       "  </thead>\n",
       "  <tbody>\n",
       "    <tr>\n",
       "      <th>0</th>\n",
       "      <td>1</td>\n",
       "      <td>0</td>\n",
       "      <td>1</td>\n",
       "      <td>1</td>\n",
       "      <td>0</td>\n",
       "      <td>0</td>\n",
       "      <td>1</td>\n",
       "      <td>1</td>\n",
       "    </tr>\n",
       "    <tr>\n",
       "      <th>1</th>\n",
       "      <td>1</td>\n",
       "      <td>1</td>\n",
       "      <td>0</td>\n",
       "      <td>0</td>\n",
       "      <td>1</td>\n",
       "      <td>1</td>\n",
       "      <td>0</td>\n",
       "      <td>0</td>\n",
       "    </tr>\n",
       "    <tr>\n",
       "      <th>2</th>\n",
       "      <td>0</td>\n",
       "      <td>1</td>\n",
       "      <td>1</td>\n",
       "      <td>0</td>\n",
       "      <td>1</td>\n",
       "      <td>1</td>\n",
       "      <td>0</td>\n",
       "      <td>0</td>\n",
       "    </tr>\n",
       "    <tr>\n",
       "      <th>3</th>\n",
       "      <td>1</td>\n",
       "      <td>1</td>\n",
       "      <td>1</td>\n",
       "      <td>0</td>\n",
       "      <td>0</td>\n",
       "      <td>0</td>\n",
       "      <td>1</td>\n",
       "      <td>1</td>\n",
       "    </tr>\n",
       "    <tr>\n",
       "      <th>4</th>\n",
       "      <td>1</td>\n",
       "      <td>1</td>\n",
       "      <td>1</td>\n",
       "      <td>0</td>\n",
       "      <td>0</td>\n",
       "      <td>0</td>\n",
       "      <td>0</td>\n",
       "      <td>1</td>\n",
       "    </tr>\n",
       "  </tbody>\n",
       "</table>\n",
       "</div>"
      ],
      "text/plain": [
       "   0  1  2  3  4  5  6  7\n",
       "0  1  0  1  1  0  0  1  1\n",
       "1  1  1  0  0  1  1  0  0\n",
       "2  0  1  1  0  1  1  0  0\n",
       "3  1  1  1  0  0  0  1  1\n",
       "4  1  1  1  0  0  0  0  1"
      ]
     },
     "execution_count": 8,
     "metadata": {},
     "output_type": "execute_result"
    }
   ],
   "source": [
    "coins.head()"
   ]
  },
  {
   "cell_type": "code",
   "execution_count": 9,
   "id": "2b47228a",
   "metadata": {},
   "outputs": [],
   "source": [
    "coins['heads'] = coins.sum(axis = 1)"
   ]
  },
  {
   "cell_type": "code",
   "execution_count": 10,
   "id": "61f6b4e2",
   "metadata": {},
   "outputs": [
    {
     "data": {
      "text/html": [
       "<div>\n",
       "<style scoped>\n",
       "    .dataframe tbody tr th:only-of-type {\n",
       "        vertical-align: middle;\n",
       "    }\n",
       "\n",
       "    .dataframe tbody tr th {\n",
       "        vertical-align: top;\n",
       "    }\n",
       "\n",
       "    .dataframe thead th {\n",
       "        text-align: right;\n",
       "    }\n",
       "</style>\n",
       "<table border=\"1\" class=\"dataframe\">\n",
       "  <thead>\n",
       "    <tr style=\"text-align: right;\">\n",
       "      <th></th>\n",
       "      <th>0</th>\n",
       "      <th>1</th>\n",
       "      <th>2</th>\n",
       "      <th>3</th>\n",
       "      <th>4</th>\n",
       "      <th>5</th>\n",
       "      <th>6</th>\n",
       "      <th>7</th>\n",
       "      <th>heads</th>\n",
       "    </tr>\n",
       "  </thead>\n",
       "  <tbody>\n",
       "    <tr>\n",
       "      <th>0</th>\n",
       "      <td>1</td>\n",
       "      <td>0</td>\n",
       "      <td>1</td>\n",
       "      <td>1</td>\n",
       "      <td>0</td>\n",
       "      <td>0</td>\n",
       "      <td>1</td>\n",
       "      <td>1</td>\n",
       "      <td>5</td>\n",
       "    </tr>\n",
       "    <tr>\n",
       "      <th>1</th>\n",
       "      <td>1</td>\n",
       "      <td>1</td>\n",
       "      <td>0</td>\n",
       "      <td>0</td>\n",
       "      <td>1</td>\n",
       "      <td>1</td>\n",
       "      <td>0</td>\n",
       "      <td>0</td>\n",
       "      <td>4</td>\n",
       "    </tr>\n",
       "    <tr>\n",
       "      <th>2</th>\n",
       "      <td>0</td>\n",
       "      <td>1</td>\n",
       "      <td>1</td>\n",
       "      <td>0</td>\n",
       "      <td>1</td>\n",
       "      <td>1</td>\n",
       "      <td>0</td>\n",
       "      <td>0</td>\n",
       "      <td>4</td>\n",
       "    </tr>\n",
       "    <tr>\n",
       "      <th>3</th>\n",
       "      <td>1</td>\n",
       "      <td>1</td>\n",
       "      <td>1</td>\n",
       "      <td>0</td>\n",
       "      <td>0</td>\n",
       "      <td>0</td>\n",
       "      <td>1</td>\n",
       "      <td>1</td>\n",
       "      <td>5</td>\n",
       "    </tr>\n",
       "    <tr>\n",
       "      <th>4</th>\n",
       "      <td>1</td>\n",
       "      <td>1</td>\n",
       "      <td>1</td>\n",
       "      <td>0</td>\n",
       "      <td>0</td>\n",
       "      <td>0</td>\n",
       "      <td>0</td>\n",
       "      <td>1</td>\n",
       "      <td>4</td>\n",
       "    </tr>\n",
       "  </tbody>\n",
       "</table>\n",
       "</div>"
      ],
      "text/plain": [
       "   0  1  2  3  4  5  6  7  heads\n",
       "0  1  0  1  1  0  0  1  1      5\n",
       "1  1  1  0  0  1  1  0  0      4\n",
       "2  0  1  1  0  1  1  0  0      4\n",
       "3  1  1  1  0  0  0  1  1      5\n",
       "4  1  1  1  0  0  0  0  1      4"
      ]
     },
     "execution_count": 10,
     "metadata": {},
     "output_type": "execute_result"
    }
   ],
   "source": [
    "coins.head()"
   ]
  },
  {
   "cell_type": "code",
   "execution_count": 11,
   "id": "ddbafedd",
   "metadata": {},
   "outputs": [
    {
     "data": {
      "text/plain": [
       "0.218017"
      ]
     },
     "execution_count": 11,
     "metadata": {},
     "output_type": "execute_result"
    }
   ],
   "source": [
    "(coins.heads == 3).mean()\n",
    "#there is a 22% probability you will get exactly 3 heads when you flip 8 coins"
   ]
  },
  {
   "cell_type": "code",
   "execution_count": 12,
   "id": "ea570561",
   "metadata": {},
   "outputs": [
    {
     "data": {
      "text/plain": [
       "0.636746"
      ]
     },
     "execution_count": 12,
     "metadata": {},
     "output_type": "execute_result"
    }
   ],
   "source": [
    "(coins.heads > 3).mean()\n",
    "#there is a 64% probability you will get more than 3 heads when you flip 8 coins"
   ]
  },
  {
   "cell_type": "markdown",
   "id": "cd0bbf96",
   "metadata": {},
   "source": [
    "## Exercise 3\n",
    "There are approximitely 3 web development cohorts for every 1 data science cohort at Codeup. Assuming that Codeup randomly selects an alumni to put on a billboard, what are the odds that the two billboards I drive past both have data science students on them?"
   ]
  },
  {
   "cell_type": "code",
   "execution_count": 13,
   "id": "1586d3d6",
   "metadata": {},
   "outputs": [
    {
     "data": {
      "text/html": [
       "<div>\n",
       "<style scoped>\n",
       "    .dataframe tbody tr th:only-of-type {\n",
       "        vertical-align: middle;\n",
       "    }\n",
       "\n",
       "    .dataframe tbody tr th {\n",
       "        vertical-align: top;\n",
       "    }\n",
       "\n",
       "    .dataframe thead th {\n",
       "        text-align: right;\n",
       "    }\n",
       "</style>\n",
       "<table border=\"1\" class=\"dataframe\">\n",
       "  <thead>\n",
       "    <tr style=\"text-align: right;\">\n",
       "      <th></th>\n",
       "      <th>0</th>\n",
       "      <th>1</th>\n",
       "    </tr>\n",
       "  </thead>\n",
       "  <tbody>\n",
       "    <tr>\n",
       "      <th>0</th>\n",
       "      <td>0</td>\n",
       "      <td>0</td>\n",
       "    </tr>\n",
       "    <tr>\n",
       "      <th>1</th>\n",
       "      <td>0</td>\n",
       "      <td>0</td>\n",
       "    </tr>\n",
       "    <tr>\n",
       "      <th>2</th>\n",
       "      <td>1</td>\n",
       "      <td>0</td>\n",
       "    </tr>\n",
       "    <tr>\n",
       "      <th>3</th>\n",
       "      <td>0</td>\n",
       "      <td>0</td>\n",
       "    </tr>\n",
       "    <tr>\n",
       "      <th>4</th>\n",
       "      <td>0</td>\n",
       "      <td>0</td>\n",
       "    </tr>\n",
       "    <tr>\n",
       "      <th>...</th>\n",
       "      <td>...</td>\n",
       "      <td>...</td>\n",
       "    </tr>\n",
       "    <tr>\n",
       "      <th>999995</th>\n",
       "      <td>0</td>\n",
       "      <td>0</td>\n",
       "    </tr>\n",
       "    <tr>\n",
       "      <th>999996</th>\n",
       "      <td>0</td>\n",
       "      <td>0</td>\n",
       "    </tr>\n",
       "    <tr>\n",
       "      <th>999997</th>\n",
       "      <td>0</td>\n",
       "      <td>0</td>\n",
       "    </tr>\n",
       "    <tr>\n",
       "      <th>999998</th>\n",
       "      <td>1</td>\n",
       "      <td>0</td>\n",
       "    </tr>\n",
       "    <tr>\n",
       "      <th>999999</th>\n",
       "      <td>0</td>\n",
       "      <td>1</td>\n",
       "    </tr>\n",
       "  </tbody>\n",
       "</table>\n",
       "<p>1000000 rows × 2 columns</p>\n",
       "</div>"
      ],
      "text/plain": [
       "        0  1\n",
       "0       0  0\n",
       "1       0  0\n",
       "2       1  0\n",
       "3       0  0\n",
       "4       0  0\n",
       "...    .. ..\n",
       "999995  0  0\n",
       "999996  0  0\n",
       "999997  0  0\n",
       "999998  1  0\n",
       "999999  0  1\n",
       "\n",
       "[1000000 rows x 2 columns]"
      ]
     },
     "execution_count": 13,
     "metadata": {},
     "output_type": "execute_result"
    }
   ],
   "source": [
    "n_picks = 2\n",
    "\n",
    "picks = np.random.choice([0, 1], p = [(3/4), (1/4)], size = (n_trials, n_picks))\n",
    "picks = pd.DataFrame(picks)\n",
    "picks"
   ]
  },
  {
   "cell_type": "code",
   "execution_count": 14,
   "id": "7673fa9e",
   "metadata": {},
   "outputs": [
    {
     "data": {
      "text/plain": [
       "0         False\n",
       "1         False\n",
       "2         False\n",
       "3         False\n",
       "4         False\n",
       "          ...  \n",
       "999995    False\n",
       "999996    False\n",
       "999997    False\n",
       "999998    False\n",
       "999999    False\n",
       "Length: 1000000, dtype: bool"
      ]
     },
     "execution_count": 14,
     "metadata": {},
     "output_type": "execute_result"
    }
   ],
   "source": [
    "picks.sum(axis = 1) == 2"
   ]
  },
  {
   "cell_type": "code",
   "execution_count": 15,
   "id": "8287aefc",
   "metadata": {},
   "outputs": [
    {
     "data": {
      "text/html": [
       "<div>\n",
       "<style scoped>\n",
       "    .dataframe tbody tr th:only-of-type {\n",
       "        vertical-align: middle;\n",
       "    }\n",
       "\n",
       "    .dataframe tbody tr th {\n",
       "        vertical-align: top;\n",
       "    }\n",
       "\n",
       "    .dataframe thead th {\n",
       "        text-align: right;\n",
       "    }\n",
       "</style>\n",
       "<table border=\"1\" class=\"dataframe\">\n",
       "  <thead>\n",
       "    <tr style=\"text-align: right;\">\n",
       "      <th></th>\n",
       "      <th>0</th>\n",
       "      <th>1</th>\n",
       "    </tr>\n",
       "  </thead>\n",
       "  <tbody>\n",
       "    <tr>\n",
       "      <th>25</th>\n",
       "      <td>1</td>\n",
       "      <td>1</td>\n",
       "    </tr>\n",
       "    <tr>\n",
       "      <th>67</th>\n",
       "      <td>1</td>\n",
       "      <td>1</td>\n",
       "    </tr>\n",
       "    <tr>\n",
       "      <th>73</th>\n",
       "      <td>1</td>\n",
       "      <td>1</td>\n",
       "    </tr>\n",
       "    <tr>\n",
       "      <th>122</th>\n",
       "      <td>1</td>\n",
       "      <td>1</td>\n",
       "    </tr>\n",
       "    <tr>\n",
       "      <th>127</th>\n",
       "      <td>1</td>\n",
       "      <td>1</td>\n",
       "    </tr>\n",
       "    <tr>\n",
       "      <th>...</th>\n",
       "      <td>...</td>\n",
       "      <td>...</td>\n",
       "    </tr>\n",
       "    <tr>\n",
       "      <th>999924</th>\n",
       "      <td>1</td>\n",
       "      <td>1</td>\n",
       "    </tr>\n",
       "    <tr>\n",
       "      <th>999930</th>\n",
       "      <td>1</td>\n",
       "      <td>1</td>\n",
       "    </tr>\n",
       "    <tr>\n",
       "      <th>999956</th>\n",
       "      <td>1</td>\n",
       "      <td>1</td>\n",
       "    </tr>\n",
       "    <tr>\n",
       "      <th>999960</th>\n",
       "      <td>1</td>\n",
       "      <td>1</td>\n",
       "    </tr>\n",
       "    <tr>\n",
       "      <th>999972</th>\n",
       "      <td>1</td>\n",
       "      <td>1</td>\n",
       "    </tr>\n",
       "  </tbody>\n",
       "</table>\n",
       "<p>62113 rows × 2 columns</p>\n",
       "</div>"
      ],
      "text/plain": [
       "        0  1\n",
       "25      1  1\n",
       "67      1  1\n",
       "73      1  1\n",
       "122     1  1\n",
       "127     1  1\n",
       "...    .. ..\n",
       "999924  1  1\n",
       "999930  1  1\n",
       "999956  1  1\n",
       "999960  1  1\n",
       "999972  1  1\n",
       "\n",
       "[62113 rows x 2 columns]"
      ]
     },
     "execution_count": 15,
     "metadata": {},
     "output_type": "execute_result"
    }
   ],
   "source": [
    "picks[picks.sum(axis = 1) == 2]"
   ]
  },
  {
   "cell_type": "code",
   "execution_count": 16,
   "id": "4029f774",
   "metadata": {},
   "outputs": [
    {
     "data": {
      "text/plain": [
       "0.062113"
      ]
     },
     "execution_count": 16,
     "metadata": {},
     "output_type": "execute_result"
    }
   ],
   "source": [
    "picks[picks.sum(axis = 1) == 2].shape[0] / n_trials\n",
    "#there is a 6% chance that both billboards feature a data scientist alumni"
   ]
  },
  {
   "cell_type": "code",
   "execution_count": 17,
   "id": "322ec339",
   "metadata": {},
   "outputs": [],
   "source": [
    "#alternatively\n",
    "picks['codeup'] = picks.sum(axis = 1)"
   ]
  },
  {
   "cell_type": "code",
   "execution_count": 18,
   "id": "d9d71ea2",
   "metadata": {},
   "outputs": [
    {
     "data": {
      "text/html": [
       "<div>\n",
       "<style scoped>\n",
       "    .dataframe tbody tr th:only-of-type {\n",
       "        vertical-align: middle;\n",
       "    }\n",
       "\n",
       "    .dataframe tbody tr th {\n",
       "        vertical-align: top;\n",
       "    }\n",
       "\n",
       "    .dataframe thead th {\n",
       "        text-align: right;\n",
       "    }\n",
       "</style>\n",
       "<table border=\"1\" class=\"dataframe\">\n",
       "  <thead>\n",
       "    <tr style=\"text-align: right;\">\n",
       "      <th></th>\n",
       "      <th>0</th>\n",
       "      <th>1</th>\n",
       "      <th>codeup</th>\n",
       "    </tr>\n",
       "  </thead>\n",
       "  <tbody>\n",
       "    <tr>\n",
       "      <th>0</th>\n",
       "      <td>0</td>\n",
       "      <td>0</td>\n",
       "      <td>0</td>\n",
       "    </tr>\n",
       "    <tr>\n",
       "      <th>1</th>\n",
       "      <td>0</td>\n",
       "      <td>0</td>\n",
       "      <td>0</td>\n",
       "    </tr>\n",
       "    <tr>\n",
       "      <th>2</th>\n",
       "      <td>1</td>\n",
       "      <td>0</td>\n",
       "      <td>1</td>\n",
       "    </tr>\n",
       "    <tr>\n",
       "      <th>3</th>\n",
       "      <td>0</td>\n",
       "      <td>0</td>\n",
       "      <td>0</td>\n",
       "    </tr>\n",
       "    <tr>\n",
       "      <th>4</th>\n",
       "      <td>0</td>\n",
       "      <td>0</td>\n",
       "      <td>0</td>\n",
       "    </tr>\n",
       "  </tbody>\n",
       "</table>\n",
       "</div>"
      ],
      "text/plain": [
       "   0  1  codeup\n",
       "0  0  0       0\n",
       "1  0  0       0\n",
       "2  1  0       1\n",
       "3  0  0       0\n",
       "4  0  0       0"
      ]
     },
     "execution_count": 18,
     "metadata": {},
     "output_type": "execute_result"
    }
   ],
   "source": [
    "picks.head()"
   ]
  },
  {
   "cell_type": "code",
   "execution_count": 19,
   "id": "d0bd8e9c",
   "metadata": {},
   "outputs": [
    {
     "data": {
      "text/plain": [
       "15.099689275996973"
      ]
     },
     "execution_count": 19,
     "metadata": {},
     "output_type": "execute_result"
    }
   ],
   "source": [
    "ds_prob = (picks.codeup == 2).mean()\n",
    "odds = ds_prob / (1 - ds_prob)\n",
    "1 / odds\n",
    "#the odds are about 1 to 15 that both billboards will feature data science students"
   ]
  },
  {
   "cell_type": "markdown",
   "id": "819c1c4a",
   "metadata": {},
   "source": [
    "## Exercise 4\n",
    "Codeup students buy, on average, 3 poptart packages with a standard deviation of 1.5 a day from the snack vending machine. If on monday the machine is restocked with 17 poptart packages, how likely is it that I will be able to buy some poptarts on Friday afternoon? (Remember, if you have mean and standard deviation, use the np.random.normal)"
   ]
  },
  {
   "cell_type": "code",
   "execution_count": 20,
   "id": "4e3ac456",
   "metadata": {},
   "outputs": [
    {
     "data": {
      "text/html": [
       "<div>\n",
       "<style scoped>\n",
       "    .dataframe tbody tr th:only-of-type {\n",
       "        vertical-align: middle;\n",
       "    }\n",
       "\n",
       "    .dataframe tbody tr th {\n",
       "        vertical-align: top;\n",
       "    }\n",
       "\n",
       "    .dataframe thead th {\n",
       "        text-align: right;\n",
       "    }\n",
       "</style>\n",
       "<table border=\"1\" class=\"dataframe\">\n",
       "  <thead>\n",
       "    <tr style=\"text-align: right;\">\n",
       "      <th></th>\n",
       "      <th>0</th>\n",
       "      <th>1</th>\n",
       "      <th>2</th>\n",
       "      <th>3</th>\n",
       "      <th>4</th>\n",
       "    </tr>\n",
       "  </thead>\n",
       "  <tbody>\n",
       "    <tr>\n",
       "      <th>0</th>\n",
       "      <td>1</td>\n",
       "      <td>4</td>\n",
       "      <td>3</td>\n",
       "      <td>4</td>\n",
       "      <td>4</td>\n",
       "    </tr>\n",
       "    <tr>\n",
       "      <th>1</th>\n",
       "      <td>2</td>\n",
       "      <td>2</td>\n",
       "      <td>2</td>\n",
       "      <td>2</td>\n",
       "      <td>1</td>\n",
       "    </tr>\n",
       "    <tr>\n",
       "      <th>2</th>\n",
       "      <td>1</td>\n",
       "      <td>2</td>\n",
       "      <td>4</td>\n",
       "      <td>6</td>\n",
       "      <td>1</td>\n",
       "    </tr>\n",
       "    <tr>\n",
       "      <th>3</th>\n",
       "      <td>6</td>\n",
       "      <td>3</td>\n",
       "      <td>4</td>\n",
       "      <td>0</td>\n",
       "      <td>3</td>\n",
       "    </tr>\n",
       "    <tr>\n",
       "      <th>4</th>\n",
       "      <td>5</td>\n",
       "      <td>3</td>\n",
       "      <td>1</td>\n",
       "      <td>5</td>\n",
       "      <td>3</td>\n",
       "    </tr>\n",
       "    <tr>\n",
       "      <th>...</th>\n",
       "      <td>...</td>\n",
       "      <td>...</td>\n",
       "      <td>...</td>\n",
       "      <td>...</td>\n",
       "      <td>...</td>\n",
       "    </tr>\n",
       "    <tr>\n",
       "      <th>999995</th>\n",
       "      <td>2</td>\n",
       "      <td>3</td>\n",
       "      <td>1</td>\n",
       "      <td>1</td>\n",
       "      <td>2</td>\n",
       "    </tr>\n",
       "    <tr>\n",
       "      <th>999996</th>\n",
       "      <td>3</td>\n",
       "      <td>1</td>\n",
       "      <td>1</td>\n",
       "      <td>0</td>\n",
       "      <td>3</td>\n",
       "    </tr>\n",
       "    <tr>\n",
       "      <th>999997</th>\n",
       "      <td>2</td>\n",
       "      <td>3</td>\n",
       "      <td>4</td>\n",
       "      <td>2</td>\n",
       "      <td>4</td>\n",
       "    </tr>\n",
       "    <tr>\n",
       "      <th>999998</th>\n",
       "      <td>3</td>\n",
       "      <td>6</td>\n",
       "      <td>3</td>\n",
       "      <td>5</td>\n",
       "      <td>2</td>\n",
       "    </tr>\n",
       "    <tr>\n",
       "      <th>999999</th>\n",
       "      <td>2</td>\n",
       "      <td>4</td>\n",
       "      <td>2</td>\n",
       "      <td>2</td>\n",
       "      <td>4</td>\n",
       "    </tr>\n",
       "  </tbody>\n",
       "</table>\n",
       "<p>1000000 rows × 5 columns</p>\n",
       "</div>"
      ],
      "text/plain": [
       "        0  1  2  3  4\n",
       "0       1  4  3  4  4\n",
       "1       2  2  2  2  1\n",
       "2       1  2  4  6  1\n",
       "3       6  3  4  0  3\n",
       "4       5  3  1  5  3\n",
       "...    .. .. .. .. ..\n",
       "999995  2  3  1  1  2\n",
       "999996  3  1  1  0  3\n",
       "999997  2  3  4  2  4\n",
       "999998  3  6  3  5  2\n",
       "999999  2  4  2  2  4\n",
       "\n",
       "[1000000 rows x 5 columns]"
      ]
     },
     "execution_count": 20,
     "metadata": {},
     "output_type": "execute_result"
    }
   ],
   "source": [
    "n_days = 5\n",
    "consumed = np.random.normal(loc = 3, scale = 1.5, size = (n_trials, n_days)).astype(int)\n",
    "consumed = pd.DataFrame(consumed)\n",
    "consumed"
   ]
  },
  {
   "cell_type": "code",
   "execution_count": 21,
   "id": "87d10088",
   "metadata": {},
   "outputs": [
    {
     "data": {
      "text/html": [
       "<div>\n",
       "<style scoped>\n",
       "    .dataframe tbody tr th:only-of-type {\n",
       "        vertical-align: middle;\n",
       "    }\n",
       "\n",
       "    .dataframe tbody tr th {\n",
       "        vertical-align: top;\n",
       "    }\n",
       "\n",
       "    .dataframe thead th {\n",
       "        text-align: right;\n",
       "    }\n",
       "</style>\n",
       "<table border=\"1\" class=\"dataframe\">\n",
       "  <thead>\n",
       "    <tr style=\"text-align: right;\">\n",
       "      <th></th>\n",
       "      <th>0</th>\n",
       "      <th>1</th>\n",
       "      <th>2</th>\n",
       "      <th>3</th>\n",
       "      <th>4</th>\n",
       "      <th>poptarts_consumed</th>\n",
       "    </tr>\n",
       "  </thead>\n",
       "  <tbody>\n",
       "    <tr>\n",
       "      <th>0</th>\n",
       "      <td>1</td>\n",
       "      <td>4</td>\n",
       "      <td>3</td>\n",
       "      <td>4</td>\n",
       "      <td>4</td>\n",
       "      <td>16</td>\n",
       "    </tr>\n",
       "    <tr>\n",
       "      <th>1</th>\n",
       "      <td>2</td>\n",
       "      <td>2</td>\n",
       "      <td>2</td>\n",
       "      <td>2</td>\n",
       "      <td>1</td>\n",
       "      <td>9</td>\n",
       "    </tr>\n",
       "    <tr>\n",
       "      <th>2</th>\n",
       "      <td>1</td>\n",
       "      <td>2</td>\n",
       "      <td>4</td>\n",
       "      <td>6</td>\n",
       "      <td>1</td>\n",
       "      <td>14</td>\n",
       "    </tr>\n",
       "    <tr>\n",
       "      <th>3</th>\n",
       "      <td>6</td>\n",
       "      <td>3</td>\n",
       "      <td>4</td>\n",
       "      <td>0</td>\n",
       "      <td>3</td>\n",
       "      <td>16</td>\n",
       "    </tr>\n",
       "    <tr>\n",
       "      <th>4</th>\n",
       "      <td>5</td>\n",
       "      <td>3</td>\n",
       "      <td>1</td>\n",
       "      <td>5</td>\n",
       "      <td>3</td>\n",
       "      <td>17</td>\n",
       "    </tr>\n",
       "  </tbody>\n",
       "</table>\n",
       "</div>"
      ],
      "text/plain": [
       "   0  1  2  3  4  poptarts_consumed\n",
       "0  1  4  3  4  4                 16\n",
       "1  2  2  2  2  1                  9\n",
       "2  1  2  4  6  1                 14\n",
       "3  6  3  4  0  3                 16\n",
       "4  5  3  1  5  3                 17"
      ]
     },
     "execution_count": 21,
     "metadata": {},
     "output_type": "execute_result"
    }
   ],
   "source": [
    "consumed['poptarts_consumed'] = consumed.sum(axis = 1)\n",
    "consumed.head()"
   ]
  },
  {
   "cell_type": "code",
   "execution_count": 22,
   "id": "5d5e5632",
   "metadata": {},
   "outputs": [
    {
     "data": {
      "text/plain": [
       "0          True\n",
       "1          True\n",
       "2          True\n",
       "3          True\n",
       "4         False\n",
       "          ...  \n",
       "999995     True\n",
       "999996     True\n",
       "999997     True\n",
       "999998    False\n",
       "999999     True\n",
       "Name: poptarts_consumed, Length: 1000000, dtype: bool"
      ]
     },
     "execution_count": 22,
     "metadata": {},
     "output_type": "execute_result"
    }
   ],
   "source": [
    "consumed.poptarts_consumed <= 16"
   ]
  },
  {
   "cell_type": "code",
   "execution_count": 23,
   "id": "f09686dc",
   "metadata": {},
   "outputs": [
    {
     "data": {
      "text/plain": [
       "0.878888"
      ]
     },
     "execution_count": 23,
     "metadata": {},
     "output_type": "execute_result"
    }
   ],
   "source": [
    "(consumed.poptarts_consumed <= 16).mean()\n",
    "#there is an 88% chance you will be able to buy poptarts on a Friday afternoon"
   ]
  },
  {
   "cell_type": "markdown",
   "id": "4177fb91",
   "metadata": {},
   "source": [
    "## Exercise 5 Compare Heights\n",
    "\n",
    "Men have an average height of 178 cm and standard deviation of 8cm.\n",
    "Women have a mean of 170, sd = 6cm.\n",
    "Since you have means and standard deviations, you can use np.random.normal to generate observations.\n",
    "If a man and woman are chosen at random, P(woman taller than man)?"
   ]
  },
  {
   "cell_type": "code",
   "execution_count": 24,
   "id": "0c958a9a",
   "metadata": {},
   "outputs": [
    {
     "data": {
      "text/html": [
       "<div>\n",
       "<style scoped>\n",
       "    .dataframe tbody tr th:only-of-type {\n",
       "        vertical-align: middle;\n",
       "    }\n",
       "\n",
       "    .dataframe tbody tr th {\n",
       "        vertical-align: top;\n",
       "    }\n",
       "\n",
       "    .dataframe thead th {\n",
       "        text-align: right;\n",
       "    }\n",
       "</style>\n",
       "<table border=\"1\" class=\"dataframe\">\n",
       "  <thead>\n",
       "    <tr style=\"text-align: right;\">\n",
       "      <th></th>\n",
       "      <th>0</th>\n",
       "    </tr>\n",
       "  </thead>\n",
       "  <tbody>\n",
       "    <tr>\n",
       "      <th>0</th>\n",
       "      <td>164.562627</td>\n",
       "    </tr>\n",
       "    <tr>\n",
       "      <th>1</th>\n",
       "      <td>167.101314</td>\n",
       "    </tr>\n",
       "    <tr>\n",
       "      <th>2</th>\n",
       "      <td>176.528877</td>\n",
       "    </tr>\n",
       "    <tr>\n",
       "      <th>3</th>\n",
       "      <td>175.247318</td>\n",
       "    </tr>\n",
       "    <tr>\n",
       "      <th>4</th>\n",
       "      <td>173.851635</td>\n",
       "    </tr>\n",
       "    <tr>\n",
       "      <th>...</th>\n",
       "      <td>...</td>\n",
       "    </tr>\n",
       "    <tr>\n",
       "      <th>999995</th>\n",
       "      <td>175.754538</td>\n",
       "    </tr>\n",
       "    <tr>\n",
       "      <th>999996</th>\n",
       "      <td>166.921903</td>\n",
       "    </tr>\n",
       "    <tr>\n",
       "      <th>999997</th>\n",
       "      <td>172.645953</td>\n",
       "    </tr>\n",
       "    <tr>\n",
       "      <th>999998</th>\n",
       "      <td>174.837404</td>\n",
       "    </tr>\n",
       "    <tr>\n",
       "      <th>999999</th>\n",
       "      <td>173.423055</td>\n",
       "    </tr>\n",
       "  </tbody>\n",
       "</table>\n",
       "<p>1000000 rows × 1 columns</p>\n",
       "</div>"
      ],
      "text/plain": [
       "                 0\n",
       "0       164.562627\n",
       "1       167.101314\n",
       "2       176.528877\n",
       "3       175.247318\n",
       "4       173.851635\n",
       "...            ...\n",
       "999995  175.754538\n",
       "999996  166.921903\n",
       "999997  172.645953\n",
       "999998  174.837404\n",
       "999999  173.423055\n",
       "\n",
       "[1000000 rows x 1 columns]"
      ]
     },
     "execution_count": 24,
     "metadata": {},
     "output_type": "execute_result"
    }
   ],
   "source": [
    "man = np.random.normal(loc = 178, scale = 8, size = n_trials)\n",
    "woman = np.random.normal(loc = 170, scale = 6, size = n_trials)\n",
    "man = pd.DataFrame(man)\n",
    "woman = pd.DataFrame(woman)\n",
    "woman"
   ]
  },
  {
   "cell_type": "code",
   "execution_count": 25,
   "id": "86310725",
   "metadata": {},
   "outputs": [
    {
     "data": {
      "text/html": [
       "<div>\n",
       "<style scoped>\n",
       "    .dataframe tbody tr th:only-of-type {\n",
       "        vertical-align: middle;\n",
       "    }\n",
       "\n",
       "    .dataframe tbody tr th {\n",
       "        vertical-align: top;\n",
       "    }\n",
       "\n",
       "    .dataframe thead th {\n",
       "        text-align: right;\n",
       "    }\n",
       "</style>\n",
       "<table border=\"1\" class=\"dataframe\">\n",
       "  <thead>\n",
       "    <tr style=\"text-align: right;\">\n",
       "      <th></th>\n",
       "      <th>0</th>\n",
       "    </tr>\n",
       "  </thead>\n",
       "  <tbody>\n",
       "    <tr>\n",
       "      <th>0</th>\n",
       "      <td>156.248485</td>\n",
       "    </tr>\n",
       "    <tr>\n",
       "      <th>1</th>\n",
       "      <td>171.885927</td>\n",
       "    </tr>\n",
       "    <tr>\n",
       "      <th>2</th>\n",
       "      <td>173.357306</td>\n",
       "    </tr>\n",
       "    <tr>\n",
       "      <th>3</th>\n",
       "      <td>168.236487</td>\n",
       "    </tr>\n",
       "    <tr>\n",
       "      <th>4</th>\n",
       "      <td>183.401569</td>\n",
       "    </tr>\n",
       "    <tr>\n",
       "      <th>...</th>\n",
       "      <td>...</td>\n",
       "    </tr>\n",
       "    <tr>\n",
       "      <th>999995</th>\n",
       "      <td>191.055989</td>\n",
       "    </tr>\n",
       "    <tr>\n",
       "      <th>999996</th>\n",
       "      <td>194.649558</td>\n",
       "    </tr>\n",
       "    <tr>\n",
       "      <th>999997</th>\n",
       "      <td>175.903991</td>\n",
       "    </tr>\n",
       "    <tr>\n",
       "      <th>999998</th>\n",
       "      <td>188.981844</td>\n",
       "    </tr>\n",
       "    <tr>\n",
       "      <th>999999</th>\n",
       "      <td>178.907895</td>\n",
       "    </tr>\n",
       "  </tbody>\n",
       "</table>\n",
       "<p>1000000 rows × 1 columns</p>\n",
       "</div>"
      ],
      "text/plain": [
       "                 0\n",
       "0       156.248485\n",
       "1       171.885927\n",
       "2       173.357306\n",
       "3       168.236487\n",
       "4       183.401569\n",
       "...            ...\n",
       "999995  191.055989\n",
       "999996  194.649558\n",
       "999997  175.903991\n",
       "999998  188.981844\n",
       "999999  178.907895\n",
       "\n",
       "[1000000 rows x 1 columns]"
      ]
     },
     "execution_count": 25,
     "metadata": {},
     "output_type": "execute_result"
    }
   ],
   "source": [
    "man"
   ]
  },
  {
   "cell_type": "code",
   "execution_count": 26,
   "id": "a1d8a311",
   "metadata": {},
   "outputs": [
    {
     "data": {
      "text/plain": [
       "0         156.248485\n",
       "1         171.885927\n",
       "2         173.357306\n",
       "3         168.236487\n",
       "4         183.401569\n",
       "             ...    \n",
       "999995    191.055989\n",
       "999996    194.649558\n",
       "999997    175.903991\n",
       "999998    188.981844\n",
       "999999    178.907895\n",
       "Name: 0, Length: 1000000, dtype: float64"
      ]
     },
     "execution_count": 26,
     "metadata": {},
     "output_type": "execute_result"
    }
   ],
   "source": [
    "man[0]"
   ]
  },
  {
   "cell_type": "code",
   "execution_count": 27,
   "id": "a9253788",
   "metadata": {},
   "outputs": [],
   "source": [
    "woman['man'] = man[0]"
   ]
  },
  {
   "cell_type": "code",
   "execution_count": 28,
   "id": "1f6267c0",
   "metadata": {},
   "outputs": [
    {
     "data": {
      "text/html": [
       "<div>\n",
       "<style scoped>\n",
       "    .dataframe tbody tr th:only-of-type {\n",
       "        vertical-align: middle;\n",
       "    }\n",
       "\n",
       "    .dataframe tbody tr th {\n",
       "        vertical-align: top;\n",
       "    }\n",
       "\n",
       "    .dataframe thead th {\n",
       "        text-align: right;\n",
       "    }\n",
       "</style>\n",
       "<table border=\"1\" class=\"dataframe\">\n",
       "  <thead>\n",
       "    <tr style=\"text-align: right;\">\n",
       "      <th></th>\n",
       "      <th>0</th>\n",
       "      <th>man</th>\n",
       "    </tr>\n",
       "  </thead>\n",
       "  <tbody>\n",
       "    <tr>\n",
       "      <th>0</th>\n",
       "      <td>164.562627</td>\n",
       "      <td>156.248485</td>\n",
       "    </tr>\n",
       "    <tr>\n",
       "      <th>1</th>\n",
       "      <td>167.101314</td>\n",
       "      <td>171.885927</td>\n",
       "    </tr>\n",
       "    <tr>\n",
       "      <th>2</th>\n",
       "      <td>176.528877</td>\n",
       "      <td>173.357306</td>\n",
       "    </tr>\n",
       "    <tr>\n",
       "      <th>3</th>\n",
       "      <td>175.247318</td>\n",
       "      <td>168.236487</td>\n",
       "    </tr>\n",
       "    <tr>\n",
       "      <th>4</th>\n",
       "      <td>173.851635</td>\n",
       "      <td>183.401569</td>\n",
       "    </tr>\n",
       "  </tbody>\n",
       "</table>\n",
       "</div>"
      ],
      "text/plain": [
       "            0         man\n",
       "0  164.562627  156.248485\n",
       "1  167.101314  171.885927\n",
       "2  176.528877  173.357306\n",
       "3  175.247318  168.236487\n",
       "4  173.851635  183.401569"
      ]
     },
     "execution_count": 28,
     "metadata": {},
     "output_type": "execute_result"
    }
   ],
   "source": [
    "woman.head()"
   ]
  },
  {
   "cell_type": "code",
   "execution_count": 29,
   "id": "b4c82ca3",
   "metadata": {},
   "outputs": [
    {
     "data": {
      "text/plain": [
       "0.211754"
      ]
     },
     "execution_count": 29,
     "metadata": {},
     "output_type": "execute_result"
    }
   ],
   "source": [
    "women_taller_than_men = woman[0] > woman['man']\n",
    "women_taller_than_men.mean()\n",
    "#There is a 21% that a woman is taller than a man when both are chosen at random"
   ]
  },
  {
   "cell_type": "markdown",
   "id": "2aa4f3da",
   "metadata": {},
   "source": [
    "## Exercise 6\n",
    "When installing anaconda on a student's computer, there's a 1 in 250 chance that the download is corrupted and the installation fails. What are the odds that after having 50 students download anaconda, no one has an installation issue? 100 students?\n",
    "\n",
    "What is the probability that we observe an installation issue within the first 150 students that download anaconda?\n",
    "\n",
    "How likely is it that 450 students all download anaconda without an issue?"
   ]
  },
  {
   "cell_type": "code",
   "execution_count": 30,
   "id": "a6584a3d",
   "metadata": {},
   "outputs": [],
   "source": [
    "n_students = 50\n",
    "no_issues = np.random.choice([0, 1], p = [(249/250), (1/250)], size = (n_trials, n_students))\n",
    "no_issues = pd.DataFrame(no_issues)"
   ]
  },
  {
   "cell_type": "code",
   "execution_count": 31,
   "id": "9296e517",
   "metadata": {},
   "outputs": [
    {
     "data": {
      "text/plain": [
       "0         True\n",
       "1         True\n",
       "2         True\n",
       "3         True\n",
       "4         True\n",
       "          ... \n",
       "999995    True\n",
       "999996    True\n",
       "999997    True\n",
       "999998    True\n",
       "999999    True\n",
       "Length: 1000000, dtype: bool"
      ]
     },
     "execution_count": 31,
     "metadata": {},
     "output_type": "execute_result"
    }
   ],
   "source": [
    "no_issues.sum(axis = 1) == 0"
   ]
  },
  {
   "cell_type": "code",
   "execution_count": 32,
   "id": "2ed624be",
   "metadata": {},
   "outputs": [
    {
     "data": {
      "text/plain": [
       "4.492845568646839"
      ]
     },
     "execution_count": 32,
     "metadata": {},
     "output_type": "execute_result"
    }
   ],
   "source": [
    "issue_rate = (no_issues.sum(axis = 1) == 0).mean()\n",
    "#There is an 82% chance that there will be no issues if 50 students download anaconda\n",
    "odds = issue_rate / (1 - issue_rate)\n",
    "odds\n",
    "#the odds that there will be no issues are about 9 to 2"
   ]
  },
  {
   "cell_type": "code",
   "execution_count": 33,
   "id": "edd5fb87",
   "metadata": {},
   "outputs": [],
   "source": [
    "n_students = 100\n",
    "no_issues = np.random.choice([0, 1], p = [(249/250), (1/250)], size = (n_trials, n_students))\n",
    "no_issues = pd.DataFrame(no_issues)"
   ]
  },
  {
   "cell_type": "code",
   "execution_count": 34,
   "id": "09e7d5ad",
   "metadata": {},
   "outputs": [
    {
     "data": {
      "text/plain": [
       "2.0288528522707314"
      ]
     },
     "execution_count": 34,
     "metadata": {},
     "output_type": "execute_result"
    }
   ],
   "source": [
    "issue_rate = (no_issues.sum(axis = 1) == 0).mean()\n",
    "#There is a 67% chance that there will be no issues if 100 students download anaconda\n",
    "odds = issue_rate / (1 - issue_rate)\n",
    "odds\n",
    "#the odds that there will be no issues in 100 downloads are about 2 to 1"
   ]
  },
  {
   "cell_type": "code",
   "execution_count": 35,
   "id": "43824fd3",
   "metadata": {},
   "outputs": [],
   "source": [
    "n_students = 150\n",
    "no_issues = np.random.choice([0, 1], p = [(249/250), (1/250)], size = (n_trials, n_students))\n",
    "no_issues = pd.DataFrame(no_issues)"
   ]
  },
  {
   "cell_type": "code",
   "execution_count": 36,
   "id": "dc6f2589",
   "metadata": {},
   "outputs": [
    {
     "data": {
      "text/plain": [
       "0.451468"
      ]
     },
     "execution_count": 36,
     "metadata": {},
     "output_type": "execute_result"
    }
   ],
   "source": [
    "(no_issues.sum(axis = 1) > 0).mean()\n",
    "#there is a 45 percent probability that there will be an issue within the first 150 downloads"
   ]
  },
  {
   "cell_type": "code",
   "execution_count": 37,
   "id": "e30c95f9",
   "metadata": {},
   "outputs": [],
   "source": [
    "n_students = 450\n",
    "no_issues = np.random.choice([0, 1], p = [(249/250), (1/250)], size = (n_trials, n_students))\n",
    "no_issues = pd.DataFrame(no_issues)"
   ]
  },
  {
   "cell_type": "code",
   "execution_count": 38,
   "id": "2fb25930",
   "metadata": {},
   "outputs": [
    {
     "data": {
      "text/plain": [
       "0.164679"
      ]
     },
     "execution_count": 38,
     "metadata": {},
     "output_type": "execute_result"
    }
   ],
   "source": [
    "(no_issues.sum(axis = 1) == 0).mean()\n",
    "#there is a 17% chance there will be no issues if 450 students download anaconda"
   ]
  },
  {
   "cell_type": "markdown",
   "id": "1b58d7cb",
   "metadata": {},
   "source": [
    "## Exercise 7\n",
    "There's a 70% chance on any given day that there will be at least one food truck at Travis Park. However, you haven't seen a food truck there in 3 days. How unlikely is this?\n",
    "\n",
    "How likely is it that a food truck will show up sometime this week?"
   ]
  },
  {
   "cell_type": "code",
   "execution_count": 39,
   "id": "035078ee",
   "metadata": {},
   "outputs": [
    {
     "data": {
      "text/html": [
       "<div>\n",
       "<style scoped>\n",
       "    .dataframe tbody tr th:only-of-type {\n",
       "        vertical-align: middle;\n",
       "    }\n",
       "\n",
       "    .dataframe tbody tr th {\n",
       "        vertical-align: top;\n",
       "    }\n",
       "\n",
       "    .dataframe thead th {\n",
       "        text-align: right;\n",
       "    }\n",
       "</style>\n",
       "<table border=\"1\" class=\"dataframe\">\n",
       "  <thead>\n",
       "    <tr style=\"text-align: right;\">\n",
       "      <th></th>\n",
       "      <th>0</th>\n",
       "      <th>1</th>\n",
       "      <th>2</th>\n",
       "    </tr>\n",
       "  </thead>\n",
       "  <tbody>\n",
       "    <tr>\n",
       "      <th>0</th>\n",
       "      <td>1</td>\n",
       "      <td>1</td>\n",
       "      <td>1</td>\n",
       "    </tr>\n",
       "    <tr>\n",
       "      <th>1</th>\n",
       "      <td>1</td>\n",
       "      <td>0</td>\n",
       "      <td>1</td>\n",
       "    </tr>\n",
       "    <tr>\n",
       "      <th>2</th>\n",
       "      <td>0</td>\n",
       "      <td>0</td>\n",
       "      <td>1</td>\n",
       "    </tr>\n",
       "    <tr>\n",
       "      <th>3</th>\n",
       "      <td>1</td>\n",
       "      <td>1</td>\n",
       "      <td>1</td>\n",
       "    </tr>\n",
       "    <tr>\n",
       "      <th>4</th>\n",
       "      <td>1</td>\n",
       "      <td>1</td>\n",
       "      <td>1</td>\n",
       "    </tr>\n",
       "    <tr>\n",
       "      <th>...</th>\n",
       "      <td>...</td>\n",
       "      <td>...</td>\n",
       "      <td>...</td>\n",
       "    </tr>\n",
       "    <tr>\n",
       "      <th>999995</th>\n",
       "      <td>1</td>\n",
       "      <td>0</td>\n",
       "      <td>1</td>\n",
       "    </tr>\n",
       "    <tr>\n",
       "      <th>999996</th>\n",
       "      <td>0</td>\n",
       "      <td>0</td>\n",
       "      <td>0</td>\n",
       "    </tr>\n",
       "    <tr>\n",
       "      <th>999997</th>\n",
       "      <td>1</td>\n",
       "      <td>0</td>\n",
       "      <td>1</td>\n",
       "    </tr>\n",
       "    <tr>\n",
       "      <th>999998</th>\n",
       "      <td>1</td>\n",
       "      <td>1</td>\n",
       "      <td>0</td>\n",
       "    </tr>\n",
       "    <tr>\n",
       "      <th>999999</th>\n",
       "      <td>1</td>\n",
       "      <td>1</td>\n",
       "      <td>1</td>\n",
       "    </tr>\n",
       "  </tbody>\n",
       "</table>\n",
       "<p>1000000 rows × 3 columns</p>\n",
       "</div>"
      ],
      "text/plain": [
       "        0  1  2\n",
       "0       1  1  1\n",
       "1       1  0  1\n",
       "2       0  0  1\n",
       "3       1  1  1\n",
       "4       1  1  1\n",
       "...    .. .. ..\n",
       "999995  1  0  1\n",
       "999996  0  0  0\n",
       "999997  1  0  1\n",
       "999998  1  1  0\n",
       "999999  1  1  1\n",
       "\n",
       "[1000000 rows x 3 columns]"
      ]
     },
     "execution_count": 39,
     "metadata": {},
     "output_type": "execute_result"
    }
   ],
   "source": [
    "n_days = 3\n",
    "food_truck = np.random.choice([0, 1], p = [(3/10), (7/10)], size = (n_trials, n_days))\n",
    "food_truck = pd.DataFrame(food_truck)\n",
    "food_truck"
   ]
  },
  {
   "cell_type": "code",
   "execution_count": 40,
   "id": "79c1258d",
   "metadata": {},
   "outputs": [
    {
     "data": {
      "text/plain": [
       "0.027363"
      ]
     },
     "execution_count": 40,
     "metadata": {},
     "output_type": "execute_result"
    }
   ],
   "source": [
    "(food_truck.sum(axis = 1) == 0).mean()\n",
    "#you have a 3% chance of seeing no food trucks in Travis park in 3 days"
   ]
  },
  {
   "cell_type": "code",
   "execution_count": 41,
   "id": "fdb6ea6e",
   "metadata": {},
   "outputs": [
    {
     "data": {
      "text/html": [
       "<div>\n",
       "<style scoped>\n",
       "    .dataframe tbody tr th:only-of-type {\n",
       "        vertical-align: middle;\n",
       "    }\n",
       "\n",
       "    .dataframe tbody tr th {\n",
       "        vertical-align: top;\n",
       "    }\n",
       "\n",
       "    .dataframe thead th {\n",
       "        text-align: right;\n",
       "    }\n",
       "</style>\n",
       "<table border=\"1\" class=\"dataframe\">\n",
       "  <thead>\n",
       "    <tr style=\"text-align: right;\">\n",
       "      <th></th>\n",
       "      <th>0</th>\n",
       "      <th>1</th>\n",
       "      <th>2</th>\n",
       "      <th>3</th>\n",
       "      <th>4</th>\n",
       "      <th>5</th>\n",
       "      <th>6</th>\n",
       "    </tr>\n",
       "  </thead>\n",
       "  <tbody>\n",
       "    <tr>\n",
       "      <th>0</th>\n",
       "      <td>1</td>\n",
       "      <td>1</td>\n",
       "      <td>0</td>\n",
       "      <td>1</td>\n",
       "      <td>1</td>\n",
       "      <td>0</td>\n",
       "      <td>0</td>\n",
       "    </tr>\n",
       "    <tr>\n",
       "      <th>1</th>\n",
       "      <td>1</td>\n",
       "      <td>1</td>\n",
       "      <td>0</td>\n",
       "      <td>0</td>\n",
       "      <td>1</td>\n",
       "      <td>1</td>\n",
       "      <td>1</td>\n",
       "    </tr>\n",
       "    <tr>\n",
       "      <th>2</th>\n",
       "      <td>0</td>\n",
       "      <td>0</td>\n",
       "      <td>1</td>\n",
       "      <td>1</td>\n",
       "      <td>1</td>\n",
       "      <td>0</td>\n",
       "      <td>1</td>\n",
       "    </tr>\n",
       "    <tr>\n",
       "      <th>3</th>\n",
       "      <td>1</td>\n",
       "      <td>1</td>\n",
       "      <td>1</td>\n",
       "      <td>0</td>\n",
       "      <td>1</td>\n",
       "      <td>1</td>\n",
       "      <td>1</td>\n",
       "    </tr>\n",
       "    <tr>\n",
       "      <th>4</th>\n",
       "      <td>1</td>\n",
       "      <td>0</td>\n",
       "      <td>1</td>\n",
       "      <td>1</td>\n",
       "      <td>1</td>\n",
       "      <td>1</td>\n",
       "      <td>1</td>\n",
       "    </tr>\n",
       "    <tr>\n",
       "      <th>...</th>\n",
       "      <td>...</td>\n",
       "      <td>...</td>\n",
       "      <td>...</td>\n",
       "      <td>...</td>\n",
       "      <td>...</td>\n",
       "      <td>...</td>\n",
       "      <td>...</td>\n",
       "    </tr>\n",
       "    <tr>\n",
       "      <th>999995</th>\n",
       "      <td>1</td>\n",
       "      <td>0</td>\n",
       "      <td>1</td>\n",
       "      <td>0</td>\n",
       "      <td>1</td>\n",
       "      <td>1</td>\n",
       "      <td>0</td>\n",
       "    </tr>\n",
       "    <tr>\n",
       "      <th>999996</th>\n",
       "      <td>1</td>\n",
       "      <td>1</td>\n",
       "      <td>0</td>\n",
       "      <td>1</td>\n",
       "      <td>1</td>\n",
       "      <td>1</td>\n",
       "      <td>1</td>\n",
       "    </tr>\n",
       "    <tr>\n",
       "      <th>999997</th>\n",
       "      <td>0</td>\n",
       "      <td>1</td>\n",
       "      <td>0</td>\n",
       "      <td>1</td>\n",
       "      <td>1</td>\n",
       "      <td>1</td>\n",
       "      <td>0</td>\n",
       "    </tr>\n",
       "    <tr>\n",
       "      <th>999998</th>\n",
       "      <td>0</td>\n",
       "      <td>0</td>\n",
       "      <td>1</td>\n",
       "      <td>1</td>\n",
       "      <td>1</td>\n",
       "      <td>0</td>\n",
       "      <td>1</td>\n",
       "    </tr>\n",
       "    <tr>\n",
       "      <th>999999</th>\n",
       "      <td>0</td>\n",
       "      <td>1</td>\n",
       "      <td>1</td>\n",
       "      <td>1</td>\n",
       "      <td>0</td>\n",
       "      <td>0</td>\n",
       "      <td>1</td>\n",
       "    </tr>\n",
       "  </tbody>\n",
       "</table>\n",
       "<p>1000000 rows × 7 columns</p>\n",
       "</div>"
      ],
      "text/plain": [
       "        0  1  2  3  4  5  6\n",
       "0       1  1  0  1  1  0  0\n",
       "1       1  1  0  0  1  1  1\n",
       "2       0  0  1  1  1  0  1\n",
       "3       1  1  1  0  1  1  1\n",
       "4       1  0  1  1  1  1  1\n",
       "...    .. .. .. .. .. .. ..\n",
       "999995  1  0  1  0  1  1  0\n",
       "999996  1  1  0  1  1  1  1\n",
       "999997  0  1  0  1  1  1  0\n",
       "999998  0  0  1  1  1  0  1\n",
       "999999  0  1  1  1  0  0  1\n",
       "\n",
       "[1000000 rows x 7 columns]"
      ]
     },
     "execution_count": 41,
     "metadata": {},
     "output_type": "execute_result"
    }
   ],
   "source": [
    "n_days = 7\n",
    "food_truck = np.random.choice([0, 1], p = [(3/10), (7/10)], size = (n_trials, n_days))\n",
    "food_truck = pd.DataFrame(food_truck)\n",
    "food_truck"
   ]
  },
  {
   "cell_type": "code",
   "execution_count": 42,
   "id": "03533e73",
   "metadata": {},
   "outputs": [
    {
     "data": {
      "text/plain": [
       "0.999776"
      ]
     },
     "execution_count": 42,
     "metadata": {},
     "output_type": "execute_result"
    }
   ],
   "source": [
    "(food_truck.sum(axis = 1) > 0).mean()\n",
    "#There is a 100% chance that a food truck will show up sometime this week"
   ]
  },
  {
   "cell_type": "markdown",
   "id": "045483d9",
   "metadata": {},
   "source": [
    "## Exercise 8\n",
    "If 23 people are in the same room, what are the odds that two of them share a birthday? What if it's 20 people? 40?"
   ]
  },
  {
   "cell_type": "code",
   "execution_count": 43,
   "id": "3c7f2c4f",
   "metadata": {},
   "outputs": [
    {
     "data": {
      "text/html": [
       "<div>\n",
       "<style scoped>\n",
       "    .dataframe tbody tr th:only-of-type {\n",
       "        vertical-align: middle;\n",
       "    }\n",
       "\n",
       "    .dataframe tbody tr th {\n",
       "        vertical-align: top;\n",
       "    }\n",
       "\n",
       "    .dataframe thead th {\n",
       "        text-align: right;\n",
       "    }\n",
       "</style>\n",
       "<table border=\"1\" class=\"dataframe\">\n",
       "  <thead>\n",
       "    <tr style=\"text-align: right;\">\n",
       "      <th></th>\n",
       "      <th>0</th>\n",
       "      <th>1</th>\n",
       "      <th>2</th>\n",
       "      <th>3</th>\n",
       "      <th>4</th>\n",
       "      <th>5</th>\n",
       "      <th>6</th>\n",
       "      <th>7</th>\n",
       "      <th>8</th>\n",
       "      <th>9</th>\n",
       "      <th>...</th>\n",
       "      <th>13</th>\n",
       "      <th>14</th>\n",
       "      <th>15</th>\n",
       "      <th>16</th>\n",
       "      <th>17</th>\n",
       "      <th>18</th>\n",
       "      <th>19</th>\n",
       "      <th>20</th>\n",
       "      <th>21</th>\n",
       "      <th>22</th>\n",
       "    </tr>\n",
       "  </thead>\n",
       "  <tbody>\n",
       "    <tr>\n",
       "      <th>0</th>\n",
       "      <td>148</td>\n",
       "      <td>271</td>\n",
       "      <td>350</td>\n",
       "      <td>271</td>\n",
       "      <td>9</td>\n",
       "      <td>230</td>\n",
       "      <td>335</td>\n",
       "      <td>303</td>\n",
       "      <td>30</td>\n",
       "      <td>21</td>\n",
       "      <td>...</td>\n",
       "      <td>185</td>\n",
       "      <td>46</td>\n",
       "      <td>207</td>\n",
       "      <td>221</td>\n",
       "      <td>93</td>\n",
       "      <td>275</td>\n",
       "      <td>88</td>\n",
       "      <td>331</td>\n",
       "      <td>319</td>\n",
       "      <td>71</td>\n",
       "    </tr>\n",
       "    <tr>\n",
       "      <th>1</th>\n",
       "      <td>133</td>\n",
       "      <td>327</td>\n",
       "      <td>247</td>\n",
       "      <td>2</td>\n",
       "      <td>150</td>\n",
       "      <td>221</td>\n",
       "      <td>179</td>\n",
       "      <td>81</td>\n",
       "      <td>258</td>\n",
       "      <td>2</td>\n",
       "      <td>...</td>\n",
       "      <td>191</td>\n",
       "      <td>240</td>\n",
       "      <td>255</td>\n",
       "      <td>309</td>\n",
       "      <td>252</td>\n",
       "      <td>99</td>\n",
       "      <td>188</td>\n",
       "      <td>52</td>\n",
       "      <td>353</td>\n",
       "      <td>90</td>\n",
       "    </tr>\n",
       "    <tr>\n",
       "      <th>2</th>\n",
       "      <td>324</td>\n",
       "      <td>138</td>\n",
       "      <td>205</td>\n",
       "      <td>200</td>\n",
       "      <td>102</td>\n",
       "      <td>316</td>\n",
       "      <td>262</td>\n",
       "      <td>7</td>\n",
       "      <td>159</td>\n",
       "      <td>223</td>\n",
       "      <td>...</td>\n",
       "      <td>212</td>\n",
       "      <td>62</td>\n",
       "      <td>234</td>\n",
       "      <td>90</td>\n",
       "      <td>13</td>\n",
       "      <td>322</td>\n",
       "      <td>293</td>\n",
       "      <td>168</td>\n",
       "      <td>70</td>\n",
       "      <td>249</td>\n",
       "    </tr>\n",
       "    <tr>\n",
       "      <th>3</th>\n",
       "      <td>335</td>\n",
       "      <td>166</td>\n",
       "      <td>131</td>\n",
       "      <td>175</td>\n",
       "      <td>68</td>\n",
       "      <td>205</td>\n",
       "      <td>346</td>\n",
       "      <td>56</td>\n",
       "      <td>361</td>\n",
       "      <td>157</td>\n",
       "      <td>...</td>\n",
       "      <td>279</td>\n",
       "      <td>134</td>\n",
       "      <td>32</td>\n",
       "      <td>129</td>\n",
       "      <td>243</td>\n",
       "      <td>198</td>\n",
       "      <td>188</td>\n",
       "      <td>241</td>\n",
       "      <td>204</td>\n",
       "      <td>82</td>\n",
       "    </tr>\n",
       "    <tr>\n",
       "      <th>4</th>\n",
       "      <td>57</td>\n",
       "      <td>272</td>\n",
       "      <td>49</td>\n",
       "      <td>15</td>\n",
       "      <td>320</td>\n",
       "      <td>226</td>\n",
       "      <td>196</td>\n",
       "      <td>229</td>\n",
       "      <td>199</td>\n",
       "      <td>93</td>\n",
       "      <td>...</td>\n",
       "      <td>16</td>\n",
       "      <td>290</td>\n",
       "      <td>42</td>\n",
       "      <td>329</td>\n",
       "      <td>73</td>\n",
       "      <td>271</td>\n",
       "      <td>152</td>\n",
       "      <td>166</td>\n",
       "      <td>273</td>\n",
       "      <td>130</td>\n",
       "    </tr>\n",
       "    <tr>\n",
       "      <th>...</th>\n",
       "      <td>...</td>\n",
       "      <td>...</td>\n",
       "      <td>...</td>\n",
       "      <td>...</td>\n",
       "      <td>...</td>\n",
       "      <td>...</td>\n",
       "      <td>...</td>\n",
       "      <td>...</td>\n",
       "      <td>...</td>\n",
       "      <td>...</td>\n",
       "      <td>...</td>\n",
       "      <td>...</td>\n",
       "      <td>...</td>\n",
       "      <td>...</td>\n",
       "      <td>...</td>\n",
       "      <td>...</td>\n",
       "      <td>...</td>\n",
       "      <td>...</td>\n",
       "      <td>...</td>\n",
       "      <td>...</td>\n",
       "      <td>...</td>\n",
       "    </tr>\n",
       "    <tr>\n",
       "      <th>999995</th>\n",
       "      <td>307</td>\n",
       "      <td>229</td>\n",
       "      <td>155</td>\n",
       "      <td>308</td>\n",
       "      <td>358</td>\n",
       "      <td>41</td>\n",
       "      <td>166</td>\n",
       "      <td>53</td>\n",
       "      <td>21</td>\n",
       "      <td>17</td>\n",
       "      <td>...</td>\n",
       "      <td>192</td>\n",
       "      <td>71</td>\n",
       "      <td>119</td>\n",
       "      <td>53</td>\n",
       "      <td>214</td>\n",
       "      <td>195</td>\n",
       "      <td>67</td>\n",
       "      <td>229</td>\n",
       "      <td>253</td>\n",
       "      <td>100</td>\n",
       "    </tr>\n",
       "    <tr>\n",
       "      <th>999996</th>\n",
       "      <td>259</td>\n",
       "      <td>242</td>\n",
       "      <td>244</td>\n",
       "      <td>271</td>\n",
       "      <td>153</td>\n",
       "      <td>49</td>\n",
       "      <td>9</td>\n",
       "      <td>19</td>\n",
       "      <td>230</td>\n",
       "      <td>53</td>\n",
       "      <td>...</td>\n",
       "      <td>337</td>\n",
       "      <td>286</td>\n",
       "      <td>45</td>\n",
       "      <td>255</td>\n",
       "      <td>231</td>\n",
       "      <td>24</td>\n",
       "      <td>23</td>\n",
       "      <td>27</td>\n",
       "      <td>204</td>\n",
       "      <td>68</td>\n",
       "    </tr>\n",
       "    <tr>\n",
       "      <th>999997</th>\n",
       "      <td>252</td>\n",
       "      <td>285</td>\n",
       "      <td>39</td>\n",
       "      <td>225</td>\n",
       "      <td>16</td>\n",
       "      <td>173</td>\n",
       "      <td>140</td>\n",
       "      <td>239</td>\n",
       "      <td>343</td>\n",
       "      <td>73</td>\n",
       "      <td>...</td>\n",
       "      <td>251</td>\n",
       "      <td>109</td>\n",
       "      <td>63</td>\n",
       "      <td>270</td>\n",
       "      <td>362</td>\n",
       "      <td>34</td>\n",
       "      <td>329</td>\n",
       "      <td>32</td>\n",
       "      <td>39</td>\n",
       "      <td>267</td>\n",
       "    </tr>\n",
       "    <tr>\n",
       "      <th>999998</th>\n",
       "      <td>62</td>\n",
       "      <td>275</td>\n",
       "      <td>175</td>\n",
       "      <td>70</td>\n",
       "      <td>166</td>\n",
       "      <td>320</td>\n",
       "      <td>103</td>\n",
       "      <td>55</td>\n",
       "      <td>22</td>\n",
       "      <td>33</td>\n",
       "      <td>...</td>\n",
       "      <td>181</td>\n",
       "      <td>319</td>\n",
       "      <td>103</td>\n",
       "      <td>57</td>\n",
       "      <td>226</td>\n",
       "      <td>340</td>\n",
       "      <td>6</td>\n",
       "      <td>262</td>\n",
       "      <td>259</td>\n",
       "      <td>191</td>\n",
       "    </tr>\n",
       "    <tr>\n",
       "      <th>999999</th>\n",
       "      <td>34</td>\n",
       "      <td>36</td>\n",
       "      <td>271</td>\n",
       "      <td>20</td>\n",
       "      <td>284</td>\n",
       "      <td>204</td>\n",
       "      <td>41</td>\n",
       "      <td>279</td>\n",
       "      <td>220</td>\n",
       "      <td>326</td>\n",
       "      <td>...</td>\n",
       "      <td>30</td>\n",
       "      <td>14</td>\n",
       "      <td>318</td>\n",
       "      <td>81</td>\n",
       "      <td>122</td>\n",
       "      <td>107</td>\n",
       "      <td>116</td>\n",
       "      <td>279</td>\n",
       "      <td>339</td>\n",
       "      <td>112</td>\n",
       "    </tr>\n",
       "  </tbody>\n",
       "</table>\n",
       "<p>1000000 rows × 23 columns</p>\n",
       "</div>"
      ],
      "text/plain": [
       "         0    1    2    3    4    5    6    7    8    9   ...   13   14   15  \\\n",
       "0       148  271  350  271    9  230  335  303   30   21  ...  185   46  207   \n",
       "1       133  327  247    2  150  221  179   81  258    2  ...  191  240  255   \n",
       "2       324  138  205  200  102  316  262    7  159  223  ...  212   62  234   \n",
       "3       335  166  131  175   68  205  346   56  361  157  ...  279  134   32   \n",
       "4        57  272   49   15  320  226  196  229  199   93  ...   16  290   42   \n",
       "...     ...  ...  ...  ...  ...  ...  ...  ...  ...  ...  ...  ...  ...  ...   \n",
       "999995  307  229  155  308  358   41  166   53   21   17  ...  192   71  119   \n",
       "999996  259  242  244  271  153   49    9   19  230   53  ...  337  286   45   \n",
       "999997  252  285   39  225   16  173  140  239  343   73  ...  251  109   63   \n",
       "999998   62  275  175   70  166  320  103   55   22   33  ...  181  319  103   \n",
       "999999   34   36  271   20  284  204   41  279  220  326  ...   30   14  318   \n",
       "\n",
       "         16   17   18   19   20   21   22  \n",
       "0       221   93  275   88  331  319   71  \n",
       "1       309  252   99  188   52  353   90  \n",
       "2        90   13  322  293  168   70  249  \n",
       "3       129  243  198  188  241  204   82  \n",
       "4       329   73  271  152  166  273  130  \n",
       "...     ...  ...  ...  ...  ...  ...  ...  \n",
       "999995   53  214  195   67  229  253  100  \n",
       "999996  255  231   24   23   27  204   68  \n",
       "999997  270  362   34  329   32   39  267  \n",
       "999998   57  226  340    6  262  259  191  \n",
       "999999   81  122  107  116  279  339  112  \n",
       "\n",
       "[1000000 rows x 23 columns]"
      ]
     },
     "execution_count": 43,
     "metadata": {},
     "output_type": "execute_result"
    }
   ],
   "source": [
    "n_peeps = 23\n",
    "birthdays = np.random.choice(list(range(366)), size = (n_trials, n_peeps))\n",
    "birthdays = pd.DataFrame(birthdays)\n",
    "birthdays"
   ]
  },
  {
   "cell_type": "code",
   "execution_count": 44,
   "id": "8090e542",
   "metadata": {},
   "outputs": [
    {
     "data": {
      "text/plain": [
       "0          True\n",
       "1          True\n",
       "2          True\n",
       "3         False\n",
       "4          True\n",
       "          ...  \n",
       "999995     True\n",
       "999996    False\n",
       "999997     True\n",
       "999998     True\n",
       "999999     True\n",
       "Length: 1000000, dtype: bool"
      ]
     },
     "execution_count": 44,
     "metadata": {},
     "output_type": "execute_result"
    }
   ],
   "source": [
    "birthdays.nunique(axis = 1) < 23"
   ]
  },
  {
   "cell_type": "code",
   "execution_count": 45,
   "id": "5dea6f22",
   "metadata": {},
   "outputs": [
    {
     "data": {
      "text/plain": [
       "0.50591"
      ]
     },
     "execution_count": 45,
     "metadata": {},
     "output_type": "execute_result"
    }
   ],
   "source": [
    "(birthdays.nunique(axis = 1) < 23).mean()\n",
    "#there is a 51% chance of finding 2 people with the same birthday in the same room of 23 people \n",
    "#the odds that 2 people in the same room of 23 people share a birthday are 51 to 49 (about 1 to 1)"
   ]
  },
  {
   "cell_type": "code",
   "execution_count": 46,
   "id": "6f414d7e",
   "metadata": {},
   "outputs": [],
   "source": [
    "n_peeps = 20\n",
    "birthdays = np.random.choice(list(range(366)), size = (n_trials, n_peeps))\n",
    "birthdays = pd.DataFrame(birthdays)"
   ]
  },
  {
   "cell_type": "code",
   "execution_count": 47,
   "id": "c7a038ee",
   "metadata": {},
   "outputs": [
    {
     "data": {
      "text/plain": [
       "0.410476"
      ]
     },
     "execution_count": 47,
     "metadata": {},
     "output_type": "execute_result"
    }
   ],
   "source": [
    "(birthdays.nunique(axis = 1) < 20).mean()\n",
    "#the odds that 2 people in the same room of 20 people share a birthday are 41 to 59 (about 2 to 3)"
   ]
  },
  {
   "cell_type": "code",
   "execution_count": 48,
   "id": "d05969e8",
   "metadata": {},
   "outputs": [],
   "source": [
    "n_peeps = 40\n",
    "birthdays = np.random.choice(list(range(366)), size = (n_trials, n_peeps))\n",
    "birthdays = pd.DataFrame(birthdays)"
   ]
  },
  {
   "cell_type": "code",
   "execution_count": 49,
   "id": "ad2b025a",
   "metadata": {},
   "outputs": [
    {
     "data": {
      "text/plain": [
       "0.89013"
      ]
     },
     "execution_count": 49,
     "metadata": {},
     "output_type": "execute_result"
    }
   ],
   "source": [
    "(birthdays.nunique(axis = 1) < 40).mean()\n",
    "#the odds that 2 people in the same room of 40 people share a birthday are 89 to 11 (about 9 to 1)"
   ]
  }
 ],
 "metadata": {
  "kernelspec": {
   "display_name": "Python 3",
   "language": "python",
   "name": "python3"
  },
  "language_info": {
   "codemirror_mode": {
    "name": "ipython",
    "version": 3
   },
   "file_extension": ".py",
   "mimetype": "text/x-python",
   "name": "python",
   "nbconvert_exporter": "python",
   "pygments_lexer": "ipython3",
   "version": "3.8.8"
  }
 },
 "nbformat": 4,
 "nbformat_minor": 5
}
