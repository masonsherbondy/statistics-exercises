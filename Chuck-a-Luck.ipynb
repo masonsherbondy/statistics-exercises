{
 "cells": [
  {
   "cell_type": "code",
   "execution_count": 1,
   "id": "3e8de674",
   "metadata": {},
   "outputs": [],
   "source": [
    "import numpy as np\n",
    "import pandas as pd\n",
    "from scipy import stats as stats\n",
    "import matplotlib.pyplot as plt\n",
    "import seaborn as sns\n",
    "import mason_functions as mf"
   ]
  },
  {
   "cell_type": "markdown",
   "id": "c24ad9ea",
   "metadata": {},
   "source": [
    "# Simulating Chuck a Luck\n",
    "\n",
    "## \"Pay a Buck and Chuck-a-Luck\" \n",
    "\n",
    "[Chuck-a-Luck](https://en.wikipedia.org/wiki/Chuck-a-luck) is a game of chance often associated with charity fundraisers or street gambling rather than casinos. \n",
    "\n",
    "To play, the House says, \"Pay 1 dollar, pick a number and roll 3 dice. If any of those dice come up, you'll win 1 dollar, 2 dollars, or 3 dollars.\"\n",
    "\n",
    "> \"It's even odds\", they say, \"because the probability of rolling your number is 1/6 and you get to roll 3 dice! 1/6 + 1/6 + 1/6 is 3/6 which is 1/2\". \n",
    "\n",
    "You know better than this, so it's time to make an experiment to approximate the actual risk and payoff...\n",
    "\n",
    "Rules:\n",
    "- The player pays 1 dollar to play and picks a number.\n",
    "- The House rolls 3 dice at once.\n",
    "\n",
    "- Payouts:\n",
    "  - 3 dollars if all three dice match the chosen number\n",
    "  - 2 dollars if exactly two dice match the chosen number\n",
    "  - 1 dollar if exactly one of the dice matches the chosen number\n",
    "  - If none of the dice match the player's chosen number, then the House keeps the 1 dollar.\n",
    "\n",
    "Exercises:\n",
    "- What are your chances of getting an outcome payout of 2 dollars? (where we earned 3 dollars on the 1 dollar ante)\n",
    "- What are your chances of getting an payout of 1 dollar?\n",
    "- What are your chances of getting a payout of 0 dollars where you ante 1 dollar and win 1 dollar?\n",
    "- What are your chances of getting a payout of -1 dollar where you ante up, but don't win anything?\n",
    "- What is the average cost/gain per game? (think of averaging the total payout calculation across all simulations)\n",
    "\n",
    "- Is this really a fair game of 1/6 + 1/6 + 1/6 odds?\n",
    "- If you play 1,000,000 games in a row, what are your winnings/losses?\n",
    "- Chart out a histogram of all the outcomes of those 1,000,000 games\n",
    "\n",
    "\n"
   ]
  },
  {
   "cell_type": "code",
   "execution_count": 2,
   "id": "f83da5b9",
   "metadata": {},
   "outputs": [
    {
     "data": {
      "image/png": "[encoded data removed]",
      "text/plain": [
       "<Figure size 432x288 with 1 Axes>"
      ]
     },
     "metadata": {
      "needs_background": "light"
     },
     "output_type": "display_data"
    }
   ],
   "source": [
    "n_rolls = 3\n",
    "p = (1/6)\n",
    "dice = stats.binom(n_rolls, p)\n",
    "x = np.arange(0, 4)\n",
    "y = stats.binom(n_rolls, p).pmf(x)\n",
    "plt.bar(x, y)\n",
    "plt.title('Probability of Winning Chuck-a-Luck')\n",
    "plt.xlabel('Roll #')\n",
    "plt.ylabel('Probability');"
   ]
  },
  {
   "cell_type": "code",
   "execution_count": 3,
   "id": "77c3fe2b",
   "metadata": {},
   "outputs": [
    {
     "name": "stdout",
     "output_type": "stream",
     "text": [
      "The probability of rolling three matches (payout +$2) is 0.46%\n",
      "The probability of rolling two matches (payout +$1) is 6.9%\n",
      "The probability of rolling one match (payout +$0) is 34.7%\n",
      "The probability of rolling no matches (payout -$1) is 57.9%\n",
      "The average cost per game is 12.5 cents.\n",
      "This is not a fair game of 1/6 + 1/6 + 1/6 odds.\n",
      "If you play 1,000,000 games in a row, your losses are probably $125000.\n",
      "--------------------------------------------------------------\n"
     ]
    },
    {
     "data": {
      "text/html": [
       "<div>\n",
       "<style scoped>\n",
       "    .dataframe tbody tr th:only-of-type {\n",
       "        vertical-align: middle;\n",
       "    }\n",
       "\n",
       "    .dataframe tbody tr th {\n",
       "        vertical-align: top;\n",
       "    }\n",
       "\n",
       "    .dataframe thead th {\n",
       "        text-align: right;\n",
       "    }\n",
       "</style>\n",
       "<table border=\"1\" class=\"dataframe\">\n",
       "  <thead>\n",
       "    <tr style=\"text-align: right;\">\n",
       "      <th></th>\n",
       "      <th>payout_as_dollars</th>\n",
       "      <th>probability</th>\n",
       "      <th>payout_value</th>\n",
       "    </tr>\n",
       "  </thead>\n",
       "  <tbody>\n",
       "    <tr>\n",
       "      <th>no_matches</th>\n",
       "      <td>-1</td>\n",
       "      <td>0.578704</td>\n",
       "      <td>-0.578704</td>\n",
       "    </tr>\n",
       "    <tr>\n",
       "      <th>one_match</th>\n",
       "      <td>0</td>\n",
       "      <td>0.347222</td>\n",
       "      <td>0.000000</td>\n",
       "    </tr>\n",
       "    <tr>\n",
       "      <th>two_matches</th>\n",
       "      <td>1</td>\n",
       "      <td>0.069444</td>\n",
       "      <td>0.069444</td>\n",
       "    </tr>\n",
       "    <tr>\n",
       "      <th>three_matches</th>\n",
       "      <td>2</td>\n",
       "      <td>0.004630</td>\n",
       "      <td>0.009259</td>\n",
       "    </tr>\n",
       "  </tbody>\n",
       "</table>\n",
       "</div>"
      ],
      "text/plain": [
       "               payout_as_dollars  probability  payout_value\n",
       "no_matches                    -1     0.578704     -0.578704\n",
       "one_match                      0     0.347222      0.000000\n",
       "two_matches                    1     0.069444      0.069444\n",
       "three_matches                  2     0.004630      0.009259"
      ]
     },
     "execution_count": 3,
     "metadata": {},
     "output_type": "execute_result"
    }
   ],
   "source": [
    "payouts = pd.DataFrame({'payout_as_dollars':[-1, 0, 1, 2], 'probability': [\n",
    "    dice.pmf(0),\n",
    "    dice.pmf(1),\n",
    "    dice.pmf(2),\n",
    "    dice.pmf(3)]}, index = ['no_matches', 'one_match', 'two_matches', 'three_matches'])\n",
    "payouts['payout_value'] = payouts.payout_as_dollars * payouts.probability\n",
    "payouts.payout_value.mean()\n",
    "print(f'The probability of rolling three matches (payout +$2) is {round((dice.pmf(3) * 100), 2)}%')\n",
    "print(f'The probability of rolling two matches (payout +$1) is {round((dice.pmf(2) * 100), 1)}%')\n",
    "print(f'The probability of rolling one match (payout +$0) is {round((dice.pmf(1) * 100), 1)}%')\n",
    "print(f'The probability of rolling no matches (payout -$1) is {round((dice.pmf(0) * 100), 1)}%')\n",
    "print(f'The average cost per game is {abs(round(payouts.payout_value.mean(), 3)) * 100} cents.')\n",
    "print(f'This is not a fair game of 1/6 + 1/6 + 1/6 odds.')\n",
    "print(f'If you play 1,000,000 games in a row, your losses are probably ${round(1_000_000 * -1 * payouts.payout_value.mean())}.')\n",
    "print('--------------------------------------------------------------')\n",
    "payouts"
   ]
  },
  {
   "cell_type": "code",
   "execution_count": null,
   "id": "bc4c2035",
   "metadata": {},
   "outputs": [],
   "source": []
  },
  {
   "cell_type": "code",
   "execution_count": 4,
   "id": "de9847b0",
   "metadata": {},
   "outputs": [
    {
     "data": {
      "text/plain": [
       "-0.125"
      ]
     },
     "execution_count": 4,
     "metadata": {},
     "output_type": "execute_result"
    }
   ],
   "source": [
    "λ = payouts.payout_value.mean()\n",
    "λ"
   ]
  },
  {
   "cell_type": "code",
   "execution_count": 5,
   "id": "93dccdc0",
   "metadata": {},
   "outputs": [],
   "source": [
    "n_dice = 3\n",
    "n_trials = 1_000_000\n",
    "chuck = np.random.choice([0, 1, 2, 3, 4, 5, 6], size = (n_trials, n_dice))\n",
    "chuck = pd.DataFrame(chuck)"
   ]
  },
  {
   "cell_type": "code",
   "execution_count": 6,
   "id": "6355a63e",
   "metadata": {},
   "outputs": [
    {
     "name": "stdout",
     "output_type": "stream",
     "text": [
      "<class 'pandas.core.frame.DataFrame'>\n",
      "RangeIndex: 1000000 entries, 0 to 999999\n",
      "Data columns (total 3 columns):\n",
      " #   Column  Non-Null Count    Dtype\n",
      "---  ------  --------------    -----\n",
      " 0   0       1000000 non-null  int64\n",
      " 1   1       1000000 non-null  int64\n",
      " 2   2       1000000 non-null  int64\n",
      "dtypes: int64(3)\n",
      "memory usage: 22.9 MB\n"
     ]
    }
   ],
   "source": [
    "chuck.info()"
   ]
  },
  {
   "cell_type": "code",
   "execution_count": 7,
   "id": "fee4e3f7",
   "metadata": {},
   "outputs": [
    {
     "data": {
      "text/html": [
       "<div>\n",
       "<style scoped>\n",
       "    .dataframe tbody tr th:only-of-type {\n",
       "        vertical-align: middle;\n",
       "    }\n",
       "\n",
       "    .dataframe tbody tr th {\n",
       "        vertical-align: top;\n",
       "    }\n",
       "\n",
       "    .dataframe thead th {\n",
       "        text-align: right;\n",
       "    }\n",
       "</style>\n",
       "<table border=\"1\" class=\"dataframe\">\n",
       "  <thead>\n",
       "    <tr style=\"text-align: right;\">\n",
       "      <th></th>\n",
       "      <th>die_1</th>\n",
       "      <th>die_2</th>\n",
       "      <th>die_3</th>\n",
       "    </tr>\n",
       "  </thead>\n",
       "  <tbody>\n",
       "    <tr>\n",
       "      <th>0</th>\n",
       "      <td>4</td>\n",
       "      <td>0</td>\n",
       "      <td>5</td>\n",
       "    </tr>\n",
       "    <tr>\n",
       "      <th>1</th>\n",
       "      <td>1</td>\n",
       "      <td>0</td>\n",
       "      <td>1</td>\n",
       "    </tr>\n",
       "    <tr>\n",
       "      <th>2</th>\n",
       "      <td>0</td>\n",
       "      <td>6</td>\n",
       "      <td>3</td>\n",
       "    </tr>\n",
       "    <tr>\n",
       "      <th>3</th>\n",
       "      <td>0</td>\n",
       "      <td>5</td>\n",
       "      <td>5</td>\n",
       "    </tr>\n",
       "    <tr>\n",
       "      <th>4</th>\n",
       "      <td>2</td>\n",
       "      <td>6</td>\n",
       "      <td>0</td>\n",
       "    </tr>\n",
       "  </tbody>\n",
       "</table>\n",
       "</div>"
      ],
      "text/plain": [
       "   die_1  die_2  die_3\n",
       "0      4      0      5\n",
       "1      1      0      1\n",
       "2      0      6      3\n",
       "3      0      5      5\n",
       "4      2      6      0"
      ]
     },
     "execution_count": 7,
     "metadata": {},
     "output_type": "execute_result"
    }
   ],
   "source": [
    "chuck.columns = ['die_1', 'die_2', 'die_3']\n",
    "chuck.head()"
   ]
  },
  {
   "cell_type": "code",
   "execution_count": 11,
   "id": "045c3c90",
   "metadata": {},
   "outputs": [],
   "source": [
    "chuck['match_1'] = chuck.die_1.apply(mf.is_two)"
   ]
  },
  {
   "cell_type": "code",
   "execution_count": 13,
   "id": "bb866bce",
   "metadata": {},
   "outputs": [],
   "source": [
    "chuck['match_2'] = chuck.die_2.apply(mf.is_two)\n",
    "chuck['match_3'] = chuck.die_3.apply(mf.is_two)"
   ]
  },
  {
   "cell_type": "code",
   "execution_count": 14,
   "id": "e8f4e4a2",
   "metadata": {},
   "outputs": [
    {
     "data": {
      "text/html": [
       "<div>\n",
       "<style scoped>\n",
       "    .dataframe tbody tr th:only-of-type {\n",
       "        vertical-align: middle;\n",
       "    }\n",
       "\n",
       "    .dataframe tbody tr th {\n",
       "        vertical-align: top;\n",
       "    }\n",
       "\n",
       "    .dataframe thead th {\n",
       "        text-align: right;\n",
       "    }\n",
       "</style>\n",
       "<table border=\"1\" class=\"dataframe\">\n",
       "  <thead>\n",
       "    <tr style=\"text-align: right;\">\n",
       "      <th></th>\n",
       "      <th>die_1</th>\n",
       "      <th>die_2</th>\n",
       "      <th>die_3</th>\n",
       "      <th>match_1</th>\n",
       "      <th>match_2</th>\n",
       "      <th>match_3</th>\n",
       "    </tr>\n",
       "  </thead>\n",
       "  <tbody>\n",
       "    <tr>\n",
       "      <th>0</th>\n",
       "      <td>4</td>\n",
       "      <td>0</td>\n",
       "      <td>5</td>\n",
       "      <td>False</td>\n",
       "      <td>False</td>\n",
       "      <td>False</td>\n",
       "    </tr>\n",
       "    <tr>\n",
       "      <th>1</th>\n",
       "      <td>1</td>\n",
       "      <td>0</td>\n",
       "      <td>1</td>\n",
       "      <td>False</td>\n",
       "      <td>False</td>\n",
       "      <td>False</td>\n",
       "    </tr>\n",
       "    <tr>\n",
       "      <th>2</th>\n",
       "      <td>0</td>\n",
       "      <td>6</td>\n",
       "      <td>3</td>\n",
       "      <td>False</td>\n",
       "      <td>False</td>\n",
       "      <td>False</td>\n",
       "    </tr>\n",
       "    <tr>\n",
       "      <th>3</th>\n",
       "      <td>0</td>\n",
       "      <td>5</td>\n",
       "      <td>5</td>\n",
       "      <td>False</td>\n",
       "      <td>False</td>\n",
       "      <td>False</td>\n",
       "    </tr>\n",
       "    <tr>\n",
       "      <th>4</th>\n",
       "      <td>2</td>\n",
       "      <td>6</td>\n",
       "      <td>0</td>\n",
       "      <td>True</td>\n",
       "      <td>False</td>\n",
       "      <td>False</td>\n",
       "    </tr>\n",
       "  </tbody>\n",
       "</table>\n",
       "</div>"
      ],
      "text/plain": [
       "   die_1  die_2  die_3  match_1  match_2  match_3\n",
       "0      4      0      5    False    False    False\n",
       "1      1      0      1    False    False    False\n",
       "2      0      6      3    False    False    False\n",
       "3      0      5      5    False    False    False\n",
       "4      2      6      0     True    False    False"
      ]
     },
     "execution_count": 14,
     "metadata": {},
     "output_type": "execute_result"
    }
   ],
   "source": [
    "chuck.head()"
   ]
  },
  {
   "cell_type": "code",
   "execution_count": null,
   "id": "cdc7f181",
   "metadata": {},
   "outputs": [],
   "source": []
  }
 ],
 "metadata": {
  "kernelspec": {
   "display_name": "Python 3",
   "language": "python",
   "name": "python3"
  },
  "language_info": {
   "codemirror_mode": {
    "name": "ipython",
    "version": 3
   },
   "file_extension": ".py",
   "mimetype": "text/x-python",
   "name": "python",
   "nbconvert_exporter": "python",
   "pygments_lexer": "ipython3",
   "version": "3.8.8"
  }
 },
 "nbformat": 4,
 "nbformat_minor": 5
}
