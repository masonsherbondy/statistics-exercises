{
 "cells": [
  {
   "cell_type": "code",
   "execution_count": 1,
   "id": "7ec2cbff",
   "metadata": {},
   "outputs": [],
   "source": [
    "import numpy as np\n",
    "import pandas as pd"
   ]
  },
  {
   "cell_type": "markdown",
   "id": "6f352612",
   "metadata": {},
   "source": [
    "## Mage Duel!\n",
    "\n",
    "Let's use what we've learned to play a mage duel!\n",
    "\n",
    "Imagine your wizard has 6d4 health points and you have spells that do 6d4 damage. \"6d4\" means rolling six 4-sided dice and summing the result.\n",
    "\n",
    "Your opposing mage has 4d6 health points and spells that do 4d6. \"4d6\" means rolling four six-sided dice and summing the result."
   ]
  },
  {
   "cell_type": "markdown",
   "id": "a643564e",
   "metadata": {},
   "source": [
    "## Exercises\n",
    "\n",
    "Simulate mage duels to answer who is the more powerful mage?"
   ]
  },
  {
   "cell_type": "markdown",
   "id": "1830630f",
   "metadata": {},
   "source": [
    "## Exercise 1\n",
    "\n",
    "Before running simulations, do you have a hypothesis of which mage will win? Do you have a hunch? Write it down.\n",
    "\n",
    "### I believe 4d6 mage guy will win because umm infinite series"
   ]
  },
  {
   "cell_type": "markdown",
   "id": "4cab6640",
   "metadata": {},
   "source": [
    "## Exercise 2 \n",
    "Simulate 10 mage duels. Is there a clear winner? Run that 10 duel simulation again. Was the answer similar?"
   ]
  },
  {
   "cell_type": "code",
   "execution_count": 2,
   "id": "39fb158a",
   "metadata": {},
   "outputs": [],
   "source": [
    "def pwrful_mage(n_duels):\n",
    "    mage_4d6_dmg = np.random.choice(list(range(1, 7)), size = (n_duels, 4))\n",
    "    mage_6d4_dmg = np.random.choice(list(range(1, 5)), size = (n_duels, 6))\n",
    "    mage_4d6_health = np.random.choice(list(range(1, 7)), size = (n_duels, 4))\n",
    "    mage_6d4_health = np.random.choice(list(range(1, 5)), size = (n_duels, 6))\n",
    "    R4_D6 = pd.DataFrame([mage_4d6_dmg, mage_4d6_health])\n",
    "    R6_D4 = pd.DataFrame([mage_6d4_dmg, mage_6d4_health])\n",
    "    R4_dmg['damage'] = R4_dmg.sum(axis = 1)\n",
    "    R4_hrts['health_points'] = R4_hrts.sum(axis = 1)\n",
    "    R6_dmg['damage'] = R6_dmg.sum(axis = 1)\n",
    "    R6_hrts['health_points'] = R6_hrts.sum(axis = 1)\n",
    "    duels = pd.DataFrame(data = {'R4_dmg': R4_dmg.damage,\n",
    "                     'R4_hrts': R4_hrts.health_points,\n",
    "                     'R6_dmg': R6_dmg.damage,\n",
    "                     'R6_hrts': R6_hrts.health_points})"
   ]
  },
  {
   "cell_type": "code",
   "execution_count": 3,
   "id": "03270d11",
   "metadata": {},
   "outputs": [],
   "source": [
    "n_duels = 10\n",
    "mage_4d6_dmg = np.random.choice(list(range(1, 7)), size = (n_duels, 4))\n",
    "mage_6d4_dmg = np.random.choice(list(range(1, 5)), size = (n_duels, 6))\n",
    "mage_4d6_health = np.random.choice(list(range(1, 7)), size = (n_duels, 4))\n",
    "mage_6d4_health = np.random.choice(list(range(1, 5)), size = (n_duels, 6))\n",
    "R4_dmg = pd.DataFrame(mage_4d6_dmg)\n",
    "R6_dmg = pd.DataFrame(mage_6d4_dmg)\n",
    "R4_hrts = pd.DataFrame(mage_6d4_health)\n",
    "R6_hrts = pd.DataFrame(mage_6d4_health)"
   ]
  },
  {
   "cell_type": "code",
   "execution_count": 4,
   "id": "ab0430f1",
   "metadata": {},
   "outputs": [],
   "source": [
    "R4_dmg['damage'] = R4_dmg.sum(axis = 1)\n",
    "R4_hrts['health_points'] = R4_hrts.sum(axis = 1)\n",
    "R6_dmg['damage'] = R6_dmg.sum(axis = 1)\n",
    "R6_hrts['health_points'] = R6_hrts.sum(axis = 1)"
   ]
  },
  {
   "cell_type": "code",
   "execution_count": 5,
   "id": "b835e5c8",
   "metadata": {},
   "outputs": [],
   "source": [
    "duels = pd.DataFrame(data = {'R4_dmg': R4_dmg.damage,\n",
    "                     'R4_hrts': R4_hrts.health_points,\n",
    "                     'R6_dmg': R6_dmg.damage,\n",
    "                     'R6_hrts': R6_hrts.health_points})"
   ]
  },
  {
   "cell_type": "code",
   "execution_count": 6,
   "id": "94c7d2d9",
   "metadata": {},
   "outputs": [
    {
     "data": {
      "text/html": [
       "<div>\n",
       "<style scoped>\n",
       "    .dataframe tbody tr th:only-of-type {\n",
       "        vertical-align: middle;\n",
       "    }\n",
       "\n",
       "    .dataframe tbody tr th {\n",
       "        vertical-align: top;\n",
       "    }\n",
       "\n",
       "    .dataframe thead th {\n",
       "        text-align: right;\n",
       "    }\n",
       "</style>\n",
       "<table border=\"1\" class=\"dataframe\">\n",
       "  <thead>\n",
       "    <tr style=\"text-align: right;\">\n",
       "      <th></th>\n",
       "      <th>R4_dmg</th>\n",
       "      <th>R4_hrts</th>\n",
       "      <th>R6_dmg</th>\n",
       "      <th>R6_hrts</th>\n",
       "    </tr>\n",
       "  </thead>\n",
       "  <tbody>\n",
       "    <tr>\n",
       "      <th>0</th>\n",
       "      <td>16</td>\n",
       "      <td>18</td>\n",
       "      <td>12</td>\n",
       "      <td>18</td>\n",
       "    </tr>\n",
       "    <tr>\n",
       "      <th>1</th>\n",
       "      <td>16</td>\n",
       "      <td>13</td>\n",
       "      <td>17</td>\n",
       "      <td>13</td>\n",
       "    </tr>\n",
       "    <tr>\n",
       "      <th>2</th>\n",
       "      <td>18</td>\n",
       "      <td>15</td>\n",
       "      <td>21</td>\n",
       "      <td>15</td>\n",
       "    </tr>\n",
       "    <tr>\n",
       "      <th>3</th>\n",
       "      <td>14</td>\n",
       "      <td>16</td>\n",
       "      <td>13</td>\n",
       "      <td>16</td>\n",
       "    </tr>\n",
       "    <tr>\n",
       "      <th>4</th>\n",
       "      <td>15</td>\n",
       "      <td>17</td>\n",
       "      <td>13</td>\n",
       "      <td>17</td>\n",
       "    </tr>\n",
       "    <tr>\n",
       "      <th>5</th>\n",
       "      <td>11</td>\n",
       "      <td>14</td>\n",
       "      <td>17</td>\n",
       "      <td>14</td>\n",
       "    </tr>\n",
       "    <tr>\n",
       "      <th>6</th>\n",
       "      <td>12</td>\n",
       "      <td>15</td>\n",
       "      <td>19</td>\n",
       "      <td>15</td>\n",
       "    </tr>\n",
       "    <tr>\n",
       "      <th>7</th>\n",
       "      <td>18</td>\n",
       "      <td>10</td>\n",
       "      <td>19</td>\n",
       "      <td>10</td>\n",
       "    </tr>\n",
       "    <tr>\n",
       "      <th>8</th>\n",
       "      <td>13</td>\n",
       "      <td>14</td>\n",
       "      <td>15</td>\n",
       "      <td>14</td>\n",
       "    </tr>\n",
       "    <tr>\n",
       "      <th>9</th>\n",
       "      <td>15</td>\n",
       "      <td>19</td>\n",
       "      <td>16</td>\n",
       "      <td>19</td>\n",
       "    </tr>\n",
       "  </tbody>\n",
       "</table>\n",
       "</div>"
      ],
      "text/plain": [
       "   R4_dmg  R4_hrts  R6_dmg  R6_hrts\n",
       "0      16       18      12       18\n",
       "1      16       13      17       13\n",
       "2      18       15      21       15\n",
       "3      14       16      13       16\n",
       "4      15       17      13       17\n",
       "5      11       14      17       14\n",
       "6      12       15      19       15\n",
       "7      18       10      19       10\n",
       "8      13       14      15       14\n",
       "9      15       19      16       19"
      ]
     },
     "execution_count": 6,
     "metadata": {},
     "output_type": "execute_result"
    }
   ],
   "source": [
    "duels"
   ]
  },
  {
   "cell_type": "markdown",
   "id": "08061a18",
   "metadata": {},
   "source": [
    "## Exercise 3\n",
    "Do the results change much at 100 duels?"
   ]
  },
  {
   "cell_type": "code",
   "execution_count": null,
   "id": "8043943e",
   "metadata": {},
   "outputs": [],
   "source": []
  },
  {
   "cell_type": "code",
   "execution_count": null,
   "id": "53a395f7",
   "metadata": {},
   "outputs": [],
   "source": []
  },
  {
   "cell_type": "markdown",
   "id": "43fb0b48",
   "metadata": {},
   "source": [
    "## Exercise 4\n",
    "Now, simulate 10,000 mage duels. Is there a clear winner?"
   ]
  },
  {
   "cell_type": "code",
   "execution_count": null,
   "id": "9f86e6fe",
   "metadata": {},
   "outputs": [],
   "source": []
  },
  {
   "cell_type": "code",
   "execution_count": null,
   "id": "0713a213",
   "metadata": {},
   "outputs": [],
   "source": []
  }
 ],
 "metadata": {
  "kernelspec": {
   "display_name": "Python 3",
   "language": "python",
   "name": "python3"
  },
  "language_info": {
   "codemirror_mode": {
    "name": "ipython",
    "version": 3
   },
   "file_extension": ".py",
   "mimetype": "text/x-python",
   "name": "python",
   "nbconvert_exporter": "python",
   "pygments_lexer": "ipython3",
   "version": "3.8.8"
  }
 },
 "nbformat": 4,
 "nbformat_minor": 5
}
