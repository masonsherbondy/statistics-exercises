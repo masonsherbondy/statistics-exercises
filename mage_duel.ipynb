{
 "cells": [
  {
   "cell_type": "code",
   "execution_count": 1,
   "id": "7ec2cbff",
   "metadata": {},
   "outputs": [],
   "source": [
    "import numpy as np\n",
    "import pandas as pd"
   ]
  },
  {
   "cell_type": "markdown",
   "id": "6f352612",
   "metadata": {},
   "source": [
    "## Mage Duel!\n",
    "\n",
    "Let's use what we've learned to play a mage duel!\n",
    "\n",
    "Imagine your wizard has 6d4 health points and you have spells that do 6d4 damage. \"6d4\" means rolling six 4-sided dice and summing the result.\n",
    "\n",
    "Your opposing mage has 4d6 health points and spells that do 4d6. \"4d6\" means rolling four six-sided dice and summing the result."
   ]
  },
  {
   "cell_type": "markdown",
   "id": "a643564e",
   "metadata": {},
   "source": [
    "## Exercises\n",
    "\n",
    "Simulate mage duels to answer who is the more powerful mage?"
   ]
  },
  {
   "cell_type": "markdown",
   "id": "1830630f",
   "metadata": {},
   "source": [
    "## Exercise 1\n",
    "\n",
    "Before running simulations, do you have a hypothesis of which mage will win? Do you have a hunch? Write it down.\n",
    "\n",
    "### I believe 4d6 mage guy will win because umm infinite series"
   ]
  },
  {
   "cell_type": "markdown",
   "id": "4cab6640",
   "metadata": {},
   "source": [
    "## Exercise 2 \n",
    "Simulate 10 mage duels. Is there a clear winner? Run that 10 duel simulation again. Was the answer similar?"
   ]
  },
  {
   "cell_type": "code",
   "execution_count": 2,
   "id": "39fb158a",
   "metadata": {},
   "outputs": [],
   "source": [
    "#pwrful_mage defines a single paramater, an integer, and returns print statements with relevant data\n",
    "#input the number of duels and output duel value counts\n",
    "def pwrful_mage(n_duels):\n",
    "    #damage output generator for roll 4 mage\n",
    "    mage_4d6_dmg = np.random.choice(list(range(1, 7)), size = (n_duels, 4))\n",
    "    \n",
    "    #damage output generator for roll 6 mage\n",
    "    mage_6d4_dmg = np.random.choice(list(range(1, 5)), size = (n_duels, 6))\n",
    "    \n",
    "    #health points generator for roll 4 mage\n",
    "    mage_4d6_health = np.random.choice(list(range(1, 7)), size = (n_duels, 4))\n",
    "    \n",
    "    #health points generator for roll 6 mage\n",
    "    mage_6d4_health = np.random.choice(list(range(1, 5)), size = (n_duels, 6))\n",
    "    \n",
    "    #assign a variable name to a dataframe for R4 damage die values\n",
    "    R4_dmg = pd.DataFrame(mage_4d6_dmg)\n",
    "    \n",
    "    #assign a variable name to a dataframe for R6 damage die values\n",
    "    R6_dmg = pd.DataFrame(mage_6d4_dmg)\n",
    "    \n",
    "    #assign a variable name to a dataframe for R4 health die values\n",
    "    R4_hrts = pd.DataFrame(mage_4d6_health)\n",
    "    \n",
    "    #assign a variable name to a dataframe for R6 health die values\n",
    "    R6_hrts = pd.DataFrame(mage_6d4_health)\n",
    "    \n",
    "    #sum up the values of rolling 4 six-sided dice to get damage output\n",
    "    R4_dmg['damage'] = R4_dmg[:].sum(axis = 1)\n",
    "    \n",
    "    #do it again for the health points to get total health\n",
    "    R4_hrts['health_points'] = R4_hrts[:].sum(axis = 1)\n",
    "    \n",
    "    #sum up the values of rolling 6 four-sided dice to get damage output\n",
    "    R6_dmg['damage'] = R6_dmg[:].sum(axis = 1)\n",
    "    \n",
    "    #total health for R6 mage\n",
    "    R6_hrts['health_points'] = R6_hrts[:].sum(axis = 1)\n",
    "    \n",
    "    #assign a variable name for a dataframe with the duel data\n",
    "    duels = pd.DataFrame(data = {'R4_hrts': R4_hrts.health_points,\n",
    "                             'R6_hrts': R6_hrts.health_points,\n",
    "                             'R4_dmg': R4_dmg.damage,\n",
    "                             'R6_dmg': R6_dmg.damage})\n",
    "    \n",
    "    #set counters for mage duel results\n",
    "    R4_wins = 0\n",
    "    R6_wins = 0\n",
    "    draws = 0\n",
    "    \n",
    "    #start a for loop to run through each row of the duels dataframe (simulate each duel)\n",
    "    for n in range(len(duels)):\n",
    "        \n",
    "        #start a while loop to simulate attacks while both mages still live (until someone croaks)\n",
    "        while duels.R4_hrts[n] and duels.R6_hrts[n] > 0:\n",
    "            \n",
    "            #deduct health points by damage points (simulate attacks)\n",
    "            duels.R4_hrts[n] = duels.R4_hrts[n] - duels.R6_dmg[n]\n",
    "            duels.R6_hrts[n] = duels.R6_hrts[n] - duels.R4_dmg[n]\n",
    "            \n",
    "        #if R4 survives, add a victory to R4's tally        \n",
    "        if duels.R4_hrts[n] > duels.R6_hrts[n] and duels.R4_hrts[n] > 0:\n",
    "            R4_wins += 1\n",
    "            \n",
    "        #if R6 survives, add a victory to R6's tally\n",
    "        elif duels.R6_hrts[n] > duels.R4_hrts[n] and duels.R6_hrts[n] > 0:\n",
    "            R6_wins += 1\n",
    "     \n",
    "        #if R4 and R6 slay each other simultaneously, add a tally to the draws\n",
    "        else:\n",
    "            draws += 1\n",
    "        \n",
    "    #if R4 wins more duels, declare the winner\n",
    "    if R4_wins > R6_wins:\n",
    "        print(f'R4-6SD wins with {R4_wins} victories.')\n",
    "        print(f'R6-4SD perishes with {R6_wins}.')\n",
    "        if draws == 1:\n",
    "            print(f'There was one glorious instance of simultaenous destruction.')\n",
    "        else:\n",
    "            print(f'There were {draws} glorious instances of simultaneous destruction.')\n",
    "        \n",
    "    #if R6 wins more duels, declare the winner    \n",
    "    elif R6_wins > R4_wins:\n",
    "        print(f'R6-4SD wins with {R6_wins} victories')\n",
    "        print(f'R4-6SD perishes with {R4_wins}')\n",
    "        if draws == 1:\n",
    "            print(f'There was one glorious instance of simultaenous destruction.')\n",
    "        else:\n",
    "            print(f'There were {draws} glorious instances of simultaneous destruction.')\n",
    "            \n",
    "    #if the amount of duel wins is equal, declare a draw        \n",
    "    else:\n",
    "        print('Draw')\n",
    "        print(f'There were {draws} draws.')\n",
    "        print(f'R4-6SD had {R4_wins} wins.')\n",
    "        print(f'R6-4SD had {R6_wins} wins.')"
   ]
  },
  {
   "cell_type": "code",
   "execution_count": 3,
   "id": "3eeb09b6",
   "metadata": {},
   "outputs": [
    {
     "name": "stdout",
     "output_type": "stream",
     "text": [
      "R4-6SD wins with 3 victories.\n",
      "R6-4SD perishes with 1.\n",
      "There were 6 glorious instances of simultaneous destruction.\n"
     ]
    }
   ],
   "source": [
    "pwrful_mage(10)"
   ]
  },
  {
   "cell_type": "code",
   "execution_count": 4,
   "id": "a30ab7f6",
   "metadata": {},
   "outputs": [
    {
     "name": "stdout",
     "output_type": "stream",
     "text": [
      "Draw\n",
      "There were 10 draws.\n",
      "R4-6SD had 0 wins.\n",
      "R6-4SD had 0 wins.\n"
     ]
    }
   ],
   "source": [
    "pwrful_mage(10)"
   ]
  },
  {
   "cell_type": "markdown",
   "id": "08061a18",
   "metadata": {},
   "source": [
    "## Exercise 3\n",
    "Do the results change much at 100 duels?"
   ]
  },
  {
   "cell_type": "code",
   "execution_count": 5,
   "id": "8043943e",
   "metadata": {},
   "outputs": [
    {
     "name": "stdout",
     "output_type": "stream",
     "text": [
      "R4-6SD wins with 10 victories.\n",
      "R6-4SD perishes with 2.\n",
      "There were 88 glorious instances of simultaneous destruction.\n"
     ]
    }
   ],
   "source": [
    "pwrful_mage(100)"
   ]
  },
  {
   "cell_type": "markdown",
   "id": "43fb0b48",
   "metadata": {},
   "source": [
    "## Exercise 4\n",
    "Now, simulate 10,000 mage duels. Is there a clear winner?"
   ]
  },
  {
   "cell_type": "code",
   "execution_count": 6,
   "id": "9f86e6fe",
   "metadata": {},
   "outputs": [
    {
     "name": "stdout",
     "output_type": "stream",
     "text": [
      "R4-6SD wins with 1689 victories.\n",
      "R6-4SD perishes with 484.\n",
      "There were 7827 glorious instances of simultaneous destruction.\n"
     ]
    }
   ],
   "source": [
    "pwrful_mage(10_000)"
   ]
  },
  {
   "cell_type": "markdown",
   "id": "6a0a2203",
   "metadata": {},
   "source": [
    "# A Simpleton Duel"
   ]
  },
  {
   "cell_type": "code",
   "execution_count": 7,
   "id": "ec544e41",
   "metadata": {},
   "outputs": [],
   "source": [
    "def ur_a_wizard_arry(n_duels):\n",
    "    mage_4d6_health_and_dmg = np.random.choice(list(range(1, 7)), size = (n_duels, 4))\n",
    "    mage_6d4_health_and_dmg = np.random.choice(list(range(1, 5)), size = (n_duels, 6))\n",
    "    R4_stats = pd.DataFrame(mage_4d6_health_and_dmg)\n",
    "    R6_stats = pd.DataFrame(mage_6d4_health_and_dmg)\n",
    "    R4_stats['power'] = R4_stats[:].sum(axis = 1)\n",
    "    R6_stats['power'] = R6_stats[:].sum(axis = 1)\n",
    "    duel_data = pd.DataFrame({'R4_power': R4_stats.power,\n",
    "                              'R6_power': R6_stats.power})\n",
    "    duel_data['R4_wins'] = duel_data.R4_power > duel_data.R6_power\n",
    "    duel_data['R6_wins'] = duel_data.R6_power > duel_data.R4_power\n",
    "    duel_data['Draws'] = duel_data.R4_power == duel_data.R6_power\n",
    "    \n",
    "    if duel_data.R4_wins.sum() > duel_data.R6_wins.sum():\n",
    "        print(f'R4-D6 wins with {duel_data.R4_wins.sum()} victories.')\n",
    "        print(f'R6-D4 perishes with {duel_data.R6_wins.sum()}.')\n",
    "        if duel_data.Draws.sum() == 1:\n",
    "            print(f'There was one glorious instance of simultaneous destruction.')\n",
    "        else:\n",
    "            print(f'There were {duel_data.Draws} glorious instances of simultaneous destruction.')\n",
    "    elif duel_data.R6_wins.sum() > duel_data.R4_wins.sum():\n",
    "        print(f'R6-D4 wins with {duel_data.R6_wins.sum()} victories.')\n",
    "        print(f'R4-D6 perishes with {duel_data.R4_wins.sum()}.')\n",
    "        if duel_data.Draws.sum() == 1:\n",
    "            print(f'There was one glorious instance of simultaenous destruction.')\n",
    "        else:\n",
    "            print(f'There were {duel_data.Draws.sum()} glorious instances of simultaneous destruction.')\n",
    "    else:\n",
    "        print('Draw')\n",
    "        print(f'There were {duel_data.Draws.sum()} draws.')\n",
    "        print(f'R4-D6 had {duel_data.R4_wins.sum()} wins.')\n",
    "        print(f'R6-D4 had {duel_data.R6_wins.sum()} wins.')"
   ]
  },
  {
   "cell_type": "markdown",
   "id": "96b5d8e4",
   "metadata": {},
   "source": [
    "Simulate 10 duels"
   ]
  },
  {
   "cell_type": "code",
   "execution_count": 8,
   "id": "a0048e75",
   "metadata": {},
   "outputs": [
    {
     "name": "stdout",
     "output_type": "stream",
     "text": [
      "R6-D4 wins with 6 victories.\n",
      "R4-D6 perishes with 4.\n",
      "There were 0 glorious instances of simultaneous destruction.\n"
     ]
    }
   ],
   "source": [
    "ur_a_wizard_arry(10)"
   ]
  },
  {
   "cell_type": "markdown",
   "id": "d1d0ebb3",
   "metadata": {},
   "source": [
    "10 duels again"
   ]
  },
  {
   "cell_type": "code",
   "execution_count": 9,
   "id": "d95bbec5",
   "metadata": {},
   "outputs": [
    {
     "name": "stdout",
     "output_type": "stream",
     "text": [
      "R6-D4 wins with 4 victories.\n",
      "R4-D6 perishes with 3.\n",
      "There were 3 glorious instances of simultaneous destruction.\n"
     ]
    }
   ],
   "source": [
    "ur_a_wizard_arry(10)"
   ]
  },
  {
   "cell_type": "markdown",
   "id": "439bd2cf",
   "metadata": {},
   "source": [
    "100 duels"
   ]
  },
  {
   "cell_type": "code",
   "execution_count": 10,
   "id": "b7e84e49",
   "metadata": {},
   "outputs": [
    {
     "name": "stdout",
     "output_type": "stream",
     "text": [
      "R6-D4 wins with 56 victories.\n",
      "R4-D6 perishes with 37.\n",
      "There were 7 glorious instances of simultaneous destruction.\n"
     ]
    }
   ],
   "source": [
    "ur_a_wizard_arry(100)"
   ]
  },
  {
   "cell_type": "markdown",
   "id": "e4c42690",
   "metadata": {},
   "source": [
    "10,000 duels"
   ]
  },
  {
   "cell_type": "code",
   "execution_count": 11,
   "id": "ddb2620c",
   "metadata": {
    "scrolled": true
   },
   "outputs": [
    {
     "name": "stdout",
     "output_type": "stream",
     "text": [
      "R6-D4 wins with 5499 victories.\n",
      "R4-D6 perishes with 3639.\n",
      "There were 862 glorious instances of simultaneous destruction.\n"
     ]
    }
   ],
   "source": [
    "ur_a_wizard_arry(10_000)"
   ]
  },
  {
   "cell_type": "markdown",
   "id": "3290cf28",
   "metadata": {},
   "source": [
    "One million duels"
   ]
  },
  {
   "cell_type": "code",
   "execution_count": 12,
   "id": "3adf29fc",
   "metadata": {},
   "outputs": [
    {
     "name": "stdout",
     "output_type": "stream",
     "text": [
      "R6-D4 wins with 544576 victories.\n",
      "R4-D6 perishes with 368225.\n",
      "There were 87199 glorious instances of simultaneous destruction.\n"
     ]
    }
   ],
   "source": [
    "ur_a_wizard_arry(1_000_000)"
   ]
  },
  {
   "cell_type": "markdown",
   "id": "8da8b08d",
   "metadata": {},
   "source": [
    "# A compromise scenario"
   ]
  },
  {
   "cell_type": "code",
   "execution_count": 13,
   "id": "b4485771",
   "metadata": {},
   "outputs": [],
   "source": [
    "def powerful_wizard(n_duels):\n",
    "    #damage output generator for roll 4 mage\n",
    "    mage_4d6_dmg = np.random.choice(list(range(1, 7)), size = (n_duels, 4))\n",
    "    \n",
    "    #damage output generator for roll 6 mage\n",
    "    mage_6d4_dmg = np.random.choice(list(range(1, 5)), size = (n_duels, 6))\n",
    "    \n",
    "    #health points generator for roll 4 mage\n",
    "    mage_4d6_health = np.random.choice(list(range(1, 7)), size = (n_duels, 4))\n",
    "    \n",
    "    #health points generator for roll 6 mage\n",
    "    mage_6d4_health = np.random.choice(list(range(1, 5)), size = (n_duels, 6))\n",
    "    \n",
    "    #assign a variable name to a dataframe for R4 damage die values\n",
    "    R4_dmg = pd.DataFrame(mage_4d6_dmg)\n",
    "    \n",
    "    #assign a variable name to a dataframe for R6 damage die values\n",
    "    R6_dmg = pd.DataFrame(mage_6d4_dmg)\n",
    "    \n",
    "    #assign a variable name to a dataframe for R4 health die values\n",
    "    R4_hrts = pd.DataFrame(mage_4d6_health)\n",
    "    \n",
    "    #assign a variable name to a dataframe for R6 health die values\n",
    "    R6_hrts = pd.DataFrame(mage_6d4_health)\n",
    "    \n",
    "    #sum up the values of rolling 4 six-sided dice to get damage output\n",
    "    R4_dmg['damage'] = R4_dmg[:].sum(axis = 1)\n",
    "    \n",
    "    #do it again for the health points to get total health\n",
    "    R4_hrts['health_points'] = R4_hrts[:].sum(axis = 1)\n",
    "    \n",
    "    #sum up the values of rolling 6 four-sided dice to get damage output\n",
    "    R6_dmg['damage'] = R6_dmg[:].sum(axis = 1)\n",
    "    \n",
    "    #total health for R6 mage\n",
    "    R6_hrts['health_points'] = R6_hrts[:].sum(axis = 1)\n",
    "    \n",
    "    #assign a variable name for a dataframe with the duel data\n",
    "    duels = pd.DataFrame(data = {'R4_hrts': R4_hrts.health_points,\n",
    "                             'R6_hrts': R6_hrts.health_points,\n",
    "                             'R4_dmg': R4_dmg.damage,\n",
    "                             'R6_dmg': R6_dmg.damage})\n",
    "    \n",
    "    #set counters for mage duel results\n",
    "    R4_wins = 0\n",
    "    R6_wins = 0\n",
    "    draws = 0\n",
    "    \n",
    "    #start a for loop to run through each row of the duels dataframe (simulate each duel)\n",
    "    for n in range(len(duels)):\n",
    "        \n",
    "        #start a while loop to simulate attacks while both mages still live (until someone croaks)\n",
    "        while duels.R4_hrts[n] and duels.R6_hrts[n] > 0:\n",
    "            \n",
    "            #deduct health points by damage points (simulate attacks)\n",
    "            duels.R4_hrts[n] = duels.R4_hrts[n] - duels.R6_dmg[n]\n",
    "            duels.R6_hrts[n] = duels.R6_hrts[n] - duels.R4_dmg[n]\n",
    "            \n",
    "        #for the sake of the lesson here, we will just see who has a greater value of health by the time one or both\n",
    "        #mages reach negative health\n",
    "        if duels.R4_hrts[n] > duels.R6_hrts[n]:\n",
    "            R4_wins += 1\n",
    "            \n",
    "        \n",
    "        elif duels.R6_hrts[n] > duels.R4_hrts[n]:\n",
    "            R6_wins += 1\n",
    "     \n",
    "        #if R4 = R6, add a tally to the draws\n",
    "        else:\n",
    "            draws += 1\n",
    "        \n",
    "    #if R4 wins more duels, declare the winner\n",
    "    if R4_wins > R6_wins:\n",
    "        print(f'R4-6SD wins with {R4_wins} victories.')\n",
    "        print(f'R6-4SD perishes with {R6_wins}.')\n",
    "        if draws == 1:\n",
    "            print(f'There was one glorious instance of simultaenous destruction.')\n",
    "        else:\n",
    "            print(f'There were {draws} glorious instances of simultaneous destruction.')\n",
    "        \n",
    "    #if R6 wins more duels, declare the winner    \n",
    "    elif R6_wins > R4_wins:\n",
    "        print(f'R6-4SD wins with {R6_wins} victories')\n",
    "        print(f'R4-6SD perishes with {R4_wins}')\n",
    "        if draws == 1:\n",
    "            print(f'There was one glorious instance of simultaenous destruction.')\n",
    "        else:\n",
    "            print(f'There were {draws} glorious instances of simultaneous destruction.')\n",
    "            \n",
    "    #if the amount of duel wins is equal, declare a draw        \n",
    "    else:\n",
    "        print('Draw')\n",
    "        print(f'There were {draws} draws.')\n",
    "        print(f'R4-6SD had {R4_wins} wins.')\n",
    "        print(f'R6-4SD had {R6_wins} wins.')"
   ]
  },
  {
   "cell_type": "code",
   "execution_count": 14,
   "id": "050905a7",
   "metadata": {},
   "outputs": [
    {
     "name": "stdout",
     "output_type": "stream",
     "text": [
      "R6-4SD wins with 7 victories\n",
      "R4-6SD perishes with 3\n",
      "There were 0 glorious instances of simultaneous destruction.\n"
     ]
    }
   ],
   "source": [
    "powerful_wizard(10)"
   ]
  },
  {
   "cell_type": "code",
   "execution_count": 15,
   "id": "d72312cb",
   "metadata": {},
   "outputs": [
    {
     "name": "stdout",
     "output_type": "stream",
     "text": [
      "R4-6SD wins with 5 victories.\n",
      "R6-4SD perishes with 4.\n",
      "There was one glorious instance of simultaenous destruction.\n"
     ]
    }
   ],
   "source": [
    "powerful_wizard(10)"
   ]
  },
  {
   "cell_type": "code",
   "execution_count": 16,
   "id": "c8366aae",
   "metadata": {},
   "outputs": [
    {
     "name": "stdout",
     "output_type": "stream",
     "text": [
      "R6-4SD wins with 52 victories\n",
      "R4-6SD perishes with 45\n",
      "There were 3 glorious instances of simultaneous destruction.\n"
     ]
    }
   ],
   "source": [
    "powerful_wizard(100)"
   ]
  },
  {
   "cell_type": "code",
   "execution_count": 17,
   "id": "05e5aa76",
   "metadata": {},
   "outputs": [
    {
     "name": "stdout",
     "output_type": "stream",
     "text": [
      "R6-4SD wins with 588 victories\n",
      "R4-6SD perishes with 370\n",
      "There were 42 glorious instances of simultaneous destruction.\n"
     ]
    }
   ],
   "source": [
    "powerful_wizard(1000)"
   ]
  },
  {
   "cell_type": "code",
   "execution_count": 18,
   "id": "15d3a6e7",
   "metadata": {},
   "outputs": [
    {
     "name": "stdout",
     "output_type": "stream",
     "text": [
      "R6-4SD wins with 5998 victories\n",
      "R4-6SD perishes with 3474\n",
      "There were 528 glorious instances of simultaneous destruction.\n"
     ]
    }
   ],
   "source": [
    "powerful_wizard(10_000)"
   ]
  },
  {
   "cell_type": "code",
   "execution_count": 19,
   "id": "a59a62ec",
   "metadata": {},
   "outputs": [
    {
     "name": "stdout",
     "output_type": "stream",
     "text": [
      "R6-4SD wins with 60516 victories\n",
      "R4-6SD perishes with 34608\n",
      "There were 4876 glorious instances of simultaneous destruction.\n"
     ]
    }
   ],
   "source": [
    "powerful_wizard(100_000)"
   ]
  },
  {
   "cell_type": "code",
   "execution_count": 20,
   "id": "1a7c8d5a",
   "metadata": {},
   "outputs": [
    {
     "name": "stdout",
     "output_type": "stream",
     "text": [
      "R6-4SD wins with 605538 victories\n",
      "R4-6SD perishes with 345318\n",
      "There were 49144 glorious instances of simultaneous destruction.\n"
     ]
    }
   ],
   "source": [
    "powerful_wizard(1_000_000)"
   ]
  }
 ],
 "metadata": {
  "kernelspec": {
   "display_name": "Python 3",
   "language": "python",
   "name": "python3"
  },
  "language_info": {
   "codemirror_mode": {
    "name": "ipython",
    "version": 3
   },
   "file_extension": ".py",
   "mimetype": "text/x-python",
   "name": "python",
   "nbconvert_exporter": "python",
   "pygments_lexer": "ipython3",
   "version": "3.8.8"
  }
 },
 "nbformat": 4,
 "nbformat_minor": 5
}
