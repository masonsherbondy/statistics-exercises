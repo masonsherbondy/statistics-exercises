{
 "cells": [
  {
   "cell_type": "code",
   "execution_count": 1,
   "id": "7ec2cbff",
   "metadata": {},
   "outputs": [],
   "source": [
    "import numpy as np\n",
    "import pandas as pd"
   ]
  },
  {
   "cell_type": "markdown",
   "id": "6f352612",
   "metadata": {},
   "source": [
    "## Mage Duel!\n",
    "\n",
    "Let's use what we've learned to play a mage duel!\n",
    "\n",
    "Imagine your wizard has 6d4 health points and you have spells that do 6d4 damage. \"6d4\" means rolling six 4-sided dice and summing the result.\n",
    "\n",
    "Your opposing mage has 4d6 health points and spells that do 4d6. \"4d6\" means rolling four six-sided dice and summing the result."
   ]
  },
  {
   "cell_type": "markdown",
   "id": "a643564e",
   "metadata": {},
   "source": [
    "## Exercises\n",
    "\n",
    "Simulate mage duels to answer who is the more powerful mage?"
   ]
  },
  {
   "cell_type": "markdown",
   "id": "1830630f",
   "metadata": {},
   "source": [
    "## Exercise 1\n",
    "\n",
    "Before running simulations, do you have a hypothesis of which mage will win? Do you have a hunch? Write it down.\n",
    "\n",
    "### I believe 4d6 mage guy will win because he got bigger dice"
   ]
  },
  {
   "cell_type": "markdown",
   "id": "4cab6640",
   "metadata": {},
   "source": [
    "## Exercise 2 \n",
    "Simulate 10 mage duels. Is there a clear winner? Run that 10 duel simulation again. Was the answer similar?"
   ]
  },
  {
   "cell_type": "code",
   "execution_count": 2,
   "id": "39fb158a",
   "metadata": {},
   "outputs": [],
   "source": [
    "np.random.seed(38)\n",
    "\n",
    "#pwrful_mage defines a single paramater, an integer, and returns print statements with relevant data\n",
    "#input the number of duels and output duel value counts\n",
    "def pwrful_mage(n_duels):\n",
    "    \n",
    "    #no seed\n",
    "    #np.random.seed(38)\n",
    "    \n",
    "    #damage output generator for roll 4 mage\n",
    "    mage_4d6_dmg = np.random.choice(list(range(1, 7)), size = (n_duels, 4))\n",
    "    \n",
    "    #damage output generator for roll 6 mage\n",
    "    mage_6d4_dmg = np.random.choice(list(range(1, 5)), size = (n_duels, 6))\n",
    "    \n",
    "    #health points generator for roll 4 mage\n",
    "    mage_4d6_health = np.random.choice(list(range(1, 7)), size = (n_duels, 4))\n",
    "    \n",
    "    #health points generator for roll 6 mage\n",
    "    mage_6d4_health = np.random.choice(list(range(1, 5)), size = (n_duels, 6))\n",
    "    \n",
    "    #assign a variable name to a dataframe for R4 damage die values\n",
    "    R4_dmg = pd.DataFrame(mage_4d6_dmg)\n",
    "    \n",
    "    #assign a variable name to a dataframe for R6 damage die values\n",
    "    R6_dmg = pd.DataFrame(mage_6d4_dmg)\n",
    "    \n",
    "    #assign a variable name to a dataframe for R4 health die values\n",
    "    R4_hrts = pd.DataFrame(mage_4d6_health)\n",
    "    \n",
    "    #assign a variable name to a dataframe for R6 health die values\n",
    "    R6_hrts = pd.DataFrame(mage_6d4_health)\n",
    "    \n",
    "    #sum up the values of rolling 4 six-sided dice to get damage output\n",
    "    R4_dmg['damage'] = R4_dmg[:].sum(axis = 1)\n",
    "    \n",
    "    #do it again for the health points to get total health\n",
    "    R4_hrts['health_points'] = R4_hrts[:].sum(axis = 1)\n",
    "    \n",
    "    #sum up the values of rolling 6 four-sided dice to get damage output\n",
    "    R6_dmg['damage'] = R6_dmg[:].sum(axis = 1)\n",
    "    \n",
    "    #total health for R6 mage\n",
    "    R6_hrts['health_points'] = R6_hrts[:].sum(axis = 1)\n",
    "    \n",
    "    #assign a variable name for a dataframe with the duel data\n",
    "    duels = pd.DataFrame(data = {\n",
    "        'R4_hrts': R4_hrts.health_points,\n",
    "        'R6_dmg': R6_dmg.damage,\n",
    "        'R6_hrts': R6_hrts.health_points,\n",
    "        'R4_dmg': R4_dmg.damage,\n",
    "        'R4_remaining': R4_hrts.health_points,\n",
    "        'R6_remaining': R6_hrts.health_points\n",
    "    })\n",
    "    \n",
    "    #set counters for mage duel results\n",
    "    R4_wins = 0\n",
    "    R6_wins = 0\n",
    "    draws = 0\n",
    "    \n",
    "    #start a for loop to run through each row of the duels dataframe (simulate each duel)\n",
    "    for n in range(len(duels)):\n",
    "        \n",
    "        #start a while loop to simulate attacks while both mages still live (until someone croaks)\n",
    "        while duels.R4_remaining[n] > 0 and duels.R6_remaining[n] > 0:\n",
    "            \n",
    "            #deduct health points by damage points (simulate attacks)\n",
    "            duels.R4_remaining[n] = duels.R4_remaining[n] - duels.R6_dmg[n]\n",
    "            duels.R6_remaining[n] = duels.R6_remaining[n] - duels.R4_dmg[n]\n",
    "            \n",
    "        #if R4 survives, add a victory to R4's tally        \n",
    "        if duels.R4_remaining[n] > duels.R6_remaining[n] and duels.R4_remaining[n] > 0:\n",
    "            R4_wins += 1\n",
    "            \n",
    "        #if R6 survives, add a victory to R6's tally\n",
    "        elif duels.R6_remaining[n] > duels.R4_remaining[n] and duels.R6_remaining[n] > 0:\n",
    "            R6_wins += 1\n",
    "     \n",
    "        #if R4 and R6 slay each other simultaneously, add a tally to the draws\n",
    "        else:\n",
    "            draws += 1\n",
    "            \n",
    "    duels['R4_wins'] = (duels.R4_remaining > duels.R6_remaining) & (duels.R4_remaining > 0)\n",
    "    duels['R6_wins'] = (duels.R6_remaining > duels.R4_remaining) & (duels.R6_remaining > 0)\n",
    "    duels['Draw'] = (duels.R4_remaining <= 0) & (duels.R6_remaining <= 0)\n",
    "    \n",
    "    #if R4 wins more duels, declare the winner\n",
    "    if R4_wins > R6_wins:\n",
    "        print(f'R4-6SD wins with {R4_wins} victories!')\n",
    "        print(f'R6-4SD perishes with {R6_wins}.')\n",
    "        if draws == 1:\n",
    "            print(f'There was one glorious instance of simultaenous destruction.')\n",
    "            print(f'------------------------------------------------------------')\n",
    "        else:\n",
    "            print(f'There were {draws} glorious instances of simultaneous destruction.')\n",
    "            print(f'------------------------------------------------------------')\n",
    "            \n",
    "    #if R6 wins more duels, declare the winner    \n",
    "    elif R6_wins > R4_wins:\n",
    "        print(f'R6-4SD wins with {R6_wins} victories!')\n",
    "        print(f'R4-6SD perishes with {R4_wins}.')\n",
    "        if draws == 1:\n",
    "            print(f'There was one glorious instance of simultaenous destruction.')\n",
    "            print(f'------------------------------------------------------------')\n",
    "        else:\n",
    "            print(f'There were {draws} glorious instances of simultaneous destruction.')\n",
    "            print(f'------------------------------------------------------------')\n",
    "            \n",
    "    #if the amount of duel wins is equal, declare a draw        \n",
    "    else:\n",
    "        print('Draw.')\n",
    "        print(f'There were {draws} glorious instances of simultaneous destruction!')\n",
    "        print(f'R4-6SD had {R4_wins} wins.')\n",
    "        print(f'R6-4SD had {R6_wins} wins.')\n",
    "        print(f'--------------------------')\n",
    "    \n",
    "    if n_duels > 10:\n",
    "        print(f'There is a {round((R4_wins / n_duels) * 100, 1)}% chance that R4_6SD mage will win.')\n",
    "        print(f'There is a {round((R6_wins / n_duels) * 100, 1)}% chance that R6_4SD mage will win.')\n",
    "        print(f'There is a {round((draws / n_duels) * 100, 1)}% chance that there will be a draw.')\n",
    "        print(f'-------------------------------------------------')\n",
    "        print('Sample')\n",
    "        print('------')\n",
    "        print(duels.sample(10))\n",
    "    if n_duels <= 10:\n",
    "        print(duels)"
   ]
  },
  {
   "cell_type": "code",
   "execution_count": 3,
   "id": "3eeb09b6",
   "metadata": {},
   "outputs": [
    {
     "name": "stdout",
     "output_type": "stream",
     "text": [
<<<<<<< HEAD
      "R4-6SD wins with 3 victories!\n",
      "R6-4SD perishes with 1.\n",
      "There were 6 glorious instances of simultaneous destruction.\n",
      "------------------------------------------------------------\n",
      "   R4_hrts  R6_dmg  R6_hrts  R4_dmg  R4_remaining  R6_remaining  R4_wins  \\\n",
      "0       14      11       13      15             3            -2     True   \n",
      "1       18      14       12      16             4            -4     True   \n",
      "2       13      17       17      16            -4             1    False   \n",
      "3       11      16       17      19            -5            -2    False   \n",
      "4       18      14       16      19             4            -3     True   \n",
      "5       14      11       16      12            -8            -8    False   \n",
      "6       13      13       13      13             0             0    False   \n",
      "7       17      18       10      15            -1            -5    False   \n",
      "8       12      20       14      15            -8            -1    False   \n",
      "9       14      10       12       7            -6            -2    False   \n",
      "\n",
      "   R6_wins   Draw  \n",
      "0    False  False  \n",
      "1    False  False  \n",
      "2     True  False  \n",
      "3    False   True  \n",
      "4    False  False  \n",
      "5    False   True  \n",
      "6    False   True  \n",
      "7    False   True  \n",
      "8    False   True  \n",
      "9    False   True  \n"
=======
      "R4-6SD wins with 2 victories.\n",
      "R6-4SD perishes with 1.\n",
      "There were 7 glorious instances of simultaneous destruction.\n"
>>>>>>> 4107dd5b2b7593349d4de75c304ba50b47f97d22
     ]
    }
   ],
   "source": [
    "pwrful_mage(10)"
   ]
  },
  {
   "cell_type": "code",
   "execution_count": 4,
   "id": "a30ab7f6",
   "metadata": {},
   "outputs": [
    {
     "name": "stdout",
     "output_type": "stream",
     "text": [
      "R6-4SD wins with 3 victories!\n",
      "R4-6SD perishes with 1.\n",
      "There were 6 glorious instances of simultaneous destruction.\n",
      "------------------------------------------------------------\n",
      "   R4_hrts  R6_dmg  R6_hrts  R4_dmg  R4_remaining  R6_remaining  R4_wins  \\\n",
      "0        8      17       12      17            -9            -5    False   \n",
      "1       12      13       14      14            -1             0    False   \n",
      "2       17      18       17      16            -1             1    False   \n",
      "3        9      15       17      11            -6             6    False   \n",
      "4       12      16       13      15            -4            -2    False   \n",
      "5       18      15       13      15             3            -2     True   \n",
      "6       10      16       12      22            -6           -10    False   \n",
      "7       14      17       14      18            -3            -4    False   \n",
      "8       15      17       16      15            -2             1    False   \n",
      "9       12      14       13      14            -2            -1    False   \n",
      "\n",
      "   R6_wins   Draw  \n",
      "0    False   True  \n",
      "1    False   True  \n",
      "2     True  False  \n",
      "3     True  False  \n",
      "4    False   True  \n",
      "5    False  False  \n",
      "6    False   True  \n",
      "7    False   True  \n",
      "8     True  False  \n",
      "9    False   True  \n"
     ]
    }
   ],
   "source": [
    "pwrful_mage(10)"
   ]
  },
  {
   "cell_type": "markdown",
   "id": "08061a18",
   "metadata": {},
   "source": [
    "## Exercise 3\n",
    "Do the results change much at 100 duels?"
   ]
  },
  {
   "cell_type": "code",
   "execution_count": 5,
   "id": "8043943e",
   "metadata": {},
   "outputs": [
    {
     "name": "stdout",
     "output_type": "stream",
     "text": [
<<<<<<< HEAD
      "R6-4SD wins with 28 victories!\n",
      "R4-6SD perishes with 22.\n",
      "There were 50 glorious instances of simultaneous destruction.\n",
      "------------------------------------------------------------\n",
      "There is a 22.0% chance that R4_6SD mage will win.\n",
      "There is a 28.0% chance that R6_4SD mage will win.\n",
      "There is a 50.0% chance that there will be a draw.\n",
      "-------------------------------------------------\n",
      "Sample\n",
      "------\n",
      "    R4_hrts  R6_dmg  R6_hrts  R4_dmg  R4_remaining  R6_remaining  R4_wins  \\\n",
      "55       14      13       13      14             1            -1     True   \n",
      "13       10      10       17      11             0             6    False   \n",
      "73       10      17       17      13            -7             4    False   \n",
      "38       10      17       16      11            -7             5    False   \n",
      "80       12       9       13      15             3            -2     True   \n",
      "67       14      16       13      16            -2            -3    False   \n",
      "7        20      18       13      14             2            -1     True   \n",
      "60       18      21       17      15            -3             2    False   \n",
      "35       12      15       15      11            -3             4    False   \n",
      "46        9      13       11      12            -4            -1    False   \n",
      "\n",
      "    R6_wins   Draw  \n",
      "55    False  False  \n",
      "13     True  False  \n",
      "73     True  False  \n",
      "38     True  False  \n",
      "80    False  False  \n",
      "67    False   True  \n",
      "7     False  False  \n",
      "60     True  False  \n",
      "35     True  False  \n",
      "46    False   True  \n"
=======
      "R4-6SD wins with 17 victories.\n",
      "R6-4SD perishes with 7.\n",
      "There were 76 glorious instances of simultaneous destruction.\n"
>>>>>>> 4107dd5b2b7593349d4de75c304ba50b47f97d22
     ]
    }
   ],
   "source": [
    "pwrful_mage(100)"
   ]
  },
  {
   "cell_type": "markdown",
   "id": "43fb0b48",
   "metadata": {},
   "source": [
    "## Exercise 4\n",
    "Now, simulate 10,000 mage duels. Is there a clear winner?"
   ]
  },
  {
   "cell_type": "code",
   "execution_count": 6,
   "id": "9f86e6fe",
   "metadata": {},
   "outputs": [
    {
     "name": "stdout",
     "output_type": "stream",
     "text": [
<<<<<<< HEAD
      "R6-4SD wins with 3516 victories!\n",
      "R4-6SD perishes with 1666.\n",
      "There were 4818 glorious instances of simultaneous destruction.\n",
      "------------------------------------------------------------\n",
      "There is a 16.7% chance that R4_6SD mage will win.\n",
      "There is a 35.2% chance that R6_4SD mage will win.\n",
      "There is a 48.2% chance that there will be a draw.\n",
      "-------------------------------------------------\n",
      "Sample\n",
      "------\n",
      "      R4_hrts  R6_dmg  R6_hrts  R4_dmg  R4_remaining  R6_remaining  R4_wins  \\\n",
      "9012        8      20       14       5           -12             9    False   \n",
      "1966        9      15       13      17            -6            -4    False   \n",
      "4639       10      16       20      17            -6             3    False   \n",
      "8326       16      16       17      20             0            -3    False   \n",
      "2269       12      12       11      16             0            -5    False   \n",
      "7504       17      15       18      15           -13           -12    False   \n",
      "3318       16      17       13      12            -1             1    False   \n",
      "3544       10      21       17      13           -11             4    False   \n",
      "6117        7      17       16      10           -10             6    False   \n",
      "8851       15      20       15      10            -5             5    False   \n",
      "\n",
      "      R6_wins   Draw  \n",
      "9012     True  False  \n",
      "1966    False   True  \n",
      "4639     True  False  \n",
      "8326    False   True  \n",
      "2269    False   True  \n",
      "7504    False   True  \n",
      "3318     True  False  \n",
      "3544     True  False  \n",
      "6117     True  False  \n",
      "8851     True  False  \n"
=======
      "R4-6SD wins with 1755 victories.\n",
      "R6-4SD perishes with 488.\n",
      "There were 7757 glorious instances of simultaneous destruction.\n"
>>>>>>> 4107dd5b2b7593349d4de75c304ba50b47f97d22
     ]
    }
   ],
   "source": [
    "pwrful_mage(10_000)"
   ]
  },
  {
   "cell_type": "markdown",
   "id": "6a0a2203",
   "metadata": {},
   "source": [
    "# A Simpleton Duel"
   ]
  },
  {
   "cell_type": "code",
   "execution_count": 7,
   "id": "ec544e41",
   "metadata": {},
   "outputs": [],
   "source": [
    "#a simple duel\n",
    "def ur_a_wizard_arry(n_duels):\n",
    "    \n",
    "    #health and damage output generator for roll 4 mage\n",
    "    mage_4d6_health_and_dmg = np.random.choice(list(range(1, 7)), size = (n_duels, 4))\n",
    "    \n",
    "    #health and damage output generator for roll 6 mage\n",
    "    mage_6d4_health_and_dmg = np.random.choice(list(range(1, 5)), size = (n_duels, 6))\n",
    "    \n",
    "    #dataframes for simulation of health and damage generation\n",
    "    R4_stats = pd.DataFrame(mage_4d6_health_and_dmg)\n",
    "    R6_stats = pd.DataFrame(mage_6d4_health_and_dmg)\n",
    "    \n",
    "    #code columns to represent the value for 'power' (health value = damage value)\n",
    "    R4_stats['power'] = R4_stats[:].sum(axis = 1)\n",
    "    R6_stats['power'] = R6_stats[:].sum(axis = 1)\n",
    "    \n",
    "    #create dataframe to represent R4 and R6 power levels. encode columns to represent individual wins and draws\n",
    "    duel_data = pd.DataFrame({'R4_power': R4_stats.power,\n",
    "                              'R6_power': R6_stats.power})\n",
    "    duel_data['R4_wins'] = duel_data.R4_power > duel_data.R6_power\n",
    "    duel_data['R6_wins'] = duel_data.R6_power > duel_data.R4_power\n",
    "    duel_data['Draw'] = duel_data.R4_power == duel_data.R6_power\n",
    "    \n",
    "    #if R4 wins, declare winner\n",
    "    if duel_data.R4_wins.sum() > duel_data.R6_wins.sum():\n",
    "        print(f'R4-D6 wins with {duel_data.R4_wins.sum()} victories!')\n",
    "        print(f'R6-D4 perishes with {duel_data.R6_wins.sum()}.')\n",
    "        if duel_data.Draw.sum() == 1:\n",
    "            print(f'There was one glorious instance of simultaneous destruction.')\n",
    "            print(f'------------------------------------------------------------')\n",
    "        else:\n",
    "            print(f'There were {duel_data.Draw.sum()} glorious instances of simultaneous destruction.')\n",
    "            print(f'------------------------------------------------------------')\n",
    "            \n",
    "    #if R6 wins, declare winner        \n",
    "    elif duel_data.R6_wins.sum() > duel_data.R4_wins.sum():\n",
    "        print(f'R6-D4 wins with {duel_data.R6_wins.sum()} victories!')\n",
    "        print(f'R4-D6 perishes with {duel_data.R4_wins.sum()}.')\n",
    "        \n",
    "        #grammar Nazis beware\n",
    "        if duel_data.Draw.sum() == 1:\n",
    "            print(f'There was one glorious instance of simultaenous destruction.')\n",
    "            print(f'------------------------------------------------------------')\n",
    "        else:\n",
    "            print(f'There were {duel_data.Draw.sum()} glorious instances of simultaneous destruction.')\n",
    "            print(f'------------------------------------------------------------')\n",
    "            \n",
    "    #if no one wins, declare a draw        \n",
    "    else:\n",
    "        print('Draw')\n",
    "        print(f'There were {duel_data.Draw.sum()} glorious instances of simultaneous destruction!')\n",
    "        print(f'R4-D6 had {duel_data.R4_wins.sum()} wins.')\n",
    "        print(f'R6-D4 had {duel_data.R6_wins.sum()} wins.')\n",
    "        print('------------------')\n",
    "    if n_duels > 10:\n",
    "        print(f'There is a {round(duel_data.R4_wins.mean() * 100, 1)}% chance that R4_6D mage will win.')\n",
    "        print(f'There is a {round(duel_data.R6_wins.mean() * 100, 1)}% chance that R6_4D mage will win.')\n",
    "        print(f'There is a {round(duel_data.Draw.mean() * 100, 1)}% chance that there will be a draw.')\n",
    "        print(f'-------------------------------------------------')\n",
    "    if n_duels <= 10:\n",
    "        print(duel_data)\n",
    "    else:\n",
    "        print('Sample')\n",
    "        print('------')\n",
    "        print(duel_data.sample(10))"
   ]
  },
  {
   "cell_type": "markdown",
   "id": "96b5d8e4",
   "metadata": {},
   "source": [
    "Simulate 10 duels"
   ]
  },
  {
   "cell_type": "code",
   "execution_count": 8,
   "id": "a0048e75",
   "metadata": {},
   "outputs": [
    {
     "name": "stdout",
     "output_type": "stream",
     "text": [
      "R6-D4 wins with 6 victories!\n",
      "R4-D6 perishes with 3.\n",
      "There was one glorious instance of simultaenous destruction.\n",
      "------------------------------------------------------------\n",
      "   R4_power  R6_power  R4_wins  R6_wins   Draw\n",
      "0        19        16     True    False  False\n",
      "1        12        14    False     True  False\n",
      "2        13        18    False     True  False\n",
      "3        14        14    False    False   True\n",
      "4        13        15    False     True  False\n",
      "5        10        13    False     True  False\n",
      "6        21        19     True    False  False\n",
      "7        13        15    False     True  False\n",
      "8        13        15    False     True  False\n",
      "9        14        13     True    False  False\n"
     ]
    }
   ],
   "source": [
    "ur_a_wizard_arry(10)"
   ]
  },
  {
   "cell_type": "markdown",
   "id": "d1d0ebb3",
   "metadata": {},
   "source": [
    "10 duels again"
   ]
  },
  {
   "cell_type": "code",
   "execution_count": 9,
   "id": "d95bbec5",
   "metadata": {},
   "outputs": [
    {
     "name": "stdout",
     "output_type": "stream",
     "text": [
<<<<<<< HEAD
      "R6-D4 wins with 5 victories!\n",
      "R4-D6 perishes with 3.\n",
      "There were 2 glorious instances of simultaneous destruction.\n",
      "------------------------------------------------------------\n",
      "   R4_power  R6_power  R4_wins  R6_wins   Draw\n",
      "0        14        14    False    False   True\n",
      "1        10        13    False     True  False\n",
      "2        15        15    False    False   True\n",
      "3        13        18    False     True  False\n",
      "4        14        15    False     True  False\n",
      "5        11         9     True    False  False\n",
      "6        16        15     True    False  False\n",
      "7        15        19    False     True  False\n",
      "8        19        14     True    False  False\n",
      "9        11        13    False     True  False\n"
=======
      "Draw\n",
      "There were 2 draws.\n",
      "R4-D6 had 4 wins.\n",
      "R6-D4 had 4 wins.\n"
>>>>>>> 4107dd5b2b7593349d4de75c304ba50b47f97d22
     ]
    }
   ],
   "source": [
    "ur_a_wizard_arry(10)"
   ]
  },
  {
   "cell_type": "markdown",
   "id": "439bd2cf",
   "metadata": {},
   "source": [
    "100 duels"
   ]
  },
  {
   "cell_type": "code",
   "execution_count": 10,
   "id": "b7e84e49",
   "metadata": {},
   "outputs": [
    {
     "name": "stdout",
     "output_type": "stream",
     "text": [
<<<<<<< HEAD
      "R6-D4 wins with 54 victories!\n",
      "R4-D6 perishes with 34.\n",
      "There were 12 glorious instances of simultaneous destruction.\n",
      "------------------------------------------------------------\n",
      "There is a 34.0% chance that R4_6D mage will win.\n",
      "There is a 54.0% chance that R6_4D mage will win.\n",
      "There is a 12.0% chance that there will be a draw.\n",
      "-------------------------------------------------\n",
      "Sample\n",
      "------\n",
      "    R4_power  R6_power  R4_wins  R6_wins   Draw\n",
      "24        14        12     True    False  False\n",
      "98        14        16    False     True  False\n",
      "49        11        16    False     True  False\n",
      "46        10        11    False     True  False\n",
      "25        15        22    False     True  False\n",
      "85        14        11     True    False  False\n",
      "94        12        20    False     True  False\n",
      "83        17        14     True    False  False\n",
      "6          9        15    False     True  False\n",
      "69        11        11    False    False   True\n"
=======
      "R6-D4 wins with 58 victories.\n",
      "R4-D6 perishes with 28.\n",
      "There were 14 glorious instances of simultaneous destruction.\n"
>>>>>>> 4107dd5b2b7593349d4de75c304ba50b47f97d22
     ]
    }
   ],
   "source": [
    "ur_a_wizard_arry(100)"
   ]
  },
  {
   "cell_type": "markdown",
   "id": "e4c42690",
   "metadata": {},
   "source": [
    "10,000 duels"
   ]
  },
  {
   "cell_type": "code",
   "execution_count": 11,
   "id": "ddb2620c",
   "metadata": {
    "scrolled": true
   },
   "outputs": [
    {
     "name": "stdout",
     "output_type": "stream",
     "text": [
<<<<<<< HEAD
      "R6-D4 wins with 5486 victories!\n",
      "R4-D6 perishes with 3645.\n",
      "There were 869 glorious instances of simultaneous destruction.\n",
      "------------------------------------------------------------\n",
      "There is a 36.4% chance that R4_6D mage will win.\n",
      "There is a 54.9% chance that R6_4D mage will win.\n",
      "There is a 8.7% chance that there will be a draw.\n",
      "-------------------------------------------------\n",
      "Sample\n",
      "------\n",
      "      R4_power  R6_power  R4_wins  R6_wins   Draw\n",
      "8354        14        15    False     True  False\n",
      "814          9         9    False    False   True\n",
      "2789        18        14     True    False  False\n",
      "6414        17        11     True    False  False\n",
      "5776        22        14     True    False  False\n",
      "2342        11        16    False     True  False\n",
      "126         15        21    False     True  False\n",
      "7231        10        19    False     True  False\n",
      "6510        12        18    False     True  False\n",
      "7138        12        15    False     True  False\n"
=======
      "R6-D4 wins with 5497 victories.\n",
      "R4-D6 perishes with 3667.\n",
      "There were 836 glorious instances of simultaneous destruction.\n"
>>>>>>> 4107dd5b2b7593349d4de75c304ba50b47f97d22
     ]
    }
   ],
   "source": [
    "ur_a_wizard_arry(10_000)"
   ]
  },
  {
   "cell_type": "markdown",
   "id": "3290cf28",
   "metadata": {},
   "source": [
    "One million duels"
   ]
  },
  {
   "cell_type": "code",
   "execution_count": 12,
   "id": "3adf29fc",
   "metadata": {},
   "outputs": [
    {
     "name": "stdout",
     "output_type": "stream",
     "text": [
<<<<<<< HEAD
      "R6-D4 wins with 544318 victories!\n",
      "R4-D6 perishes with 368526.\n",
      "There were 87156 glorious instances of simultaneous destruction.\n",
      "------------------------------------------------------------\n",
      "There is a 36.9% chance that R4_6D mage will win.\n",
      "There is a 54.4% chance that R6_4D mage will win.\n",
      "There is a 8.7% chance that there will be a draw.\n",
      "-------------------------------------------------\n",
      "Sample\n",
      "------\n",
      "        R4_power  R6_power  R4_wins  R6_wins   Draw\n",
      "231563        10        14    False     True  False\n",
      "801224        14        17    False     True  False\n",
      "695988         7        12    False     True  False\n",
      "666556        16        15     True    False  False\n",
      "590281        11        14    False     True  False\n",
      "730702        12        13    False     True  False\n",
      "243292        13        14    False     True  False\n",
      "798674        17        11     True    False  False\n",
      "970468        16        12     True    False  False\n",
      "634485        12        18    False     True  False\n"
=======
      "R6-D4 wins with 544987 victories.\n",
      "R4-D6 perishes with 367728.\n",
      "There were 87285 glorious instances of simultaneous destruction.\n"
>>>>>>> 4107dd5b2b7593349d4de75c304ba50b47f97d22
     ]
    }
   ],
   "source": [
    "ur_a_wizard_arry(1_000_000)"
   ]
  },
  {
   "cell_type": "markdown",
   "id": "8da8b08d",
   "metadata": {},
   "source": [
    "# A compromise scenario"
   ]
  },
  {
   "cell_type": "code",
   "execution_count": 13,
   "id": "b4485771",
   "metadata": {},
   "outputs": [],
   "source": [
    "#a better comparison\n",
    "def powerful_wizard(n_duels):\n",
    "    \n",
    "    #damage output generator for roll 4 mage\n",
    "    mage_4d6_dmg = np.random.choice(list(range(1, 7)), size = (n_duels, 4))\n",
    "    \n",
    "    #damage output generator for roll 6 mage\n",
    "    mage_6d4_dmg = np.random.choice(list(range(1, 5)), size = (n_duels, 6))\n",
    "    \n",
    "    #health points generator for roll 4 mage\n",
    "    mage_4d6_health = np.random.choice(list(range(1, 7)), size = (n_duels, 4))\n",
    "    \n",
    "    #health points generator for roll 6 mage\n",
    "    mage_6d4_health = np.random.choice(list(range(1, 5)), size = (n_duels, 6))\n",
    "    \n",
    "    #assign a variable name to a dataframe for R4 damage die values\n",
    "    R4_dmg = pd.DataFrame(mage_4d6_dmg)\n",
    "    \n",
    "    #assign a variable name to a dataframe for R6 damage die values\n",
    "    R6_dmg = pd.DataFrame(mage_6d4_dmg)\n",
    "    \n",
    "    #assign a variable name to a dataframe for R4 health die values\n",
    "    R4_hrts = pd.DataFrame(mage_4d6_health)\n",
    "    \n",
    "    #assign a variable name to a dataframe for R6 health die values\n",
    "    R6_hrts = pd.DataFrame(mage_6d4_health)\n",
    "    \n",
    "    #sum up the values of rolling 4 six-sided dice to get damage output\n",
    "    R4_dmg['damage'] = R4_dmg[:].sum(axis = 1)\n",
    "    \n",
    "    #do it again for the health points to get total health\n",
    "    R4_hrts['health_points'] = R4_hrts[:].sum(axis = 1)\n",
    "    \n",
    "    #sum up the values of rolling 6 four-sided dice to get damage output\n",
    "    R6_dmg['damage'] = R6_dmg[:].sum(axis = 1)\n",
    "    \n",
    "    #total health for R6 mage\n",
    "    R6_hrts['health_points'] = R6_hrts[:].sum(axis = 1)\n",
    "    \n",
    "    #assign a variable name for a dataframe with the duel data\n",
    "    duels = pd.DataFrame(data = {\n",
    "        'R4_hrts': R4_hrts.health_points,\n",
    "        'R6_dmg': R6_dmg.damage,\n",
    "        'R6_hrts': R6_hrts.health_points,\n",
    "        'R4_dmg': R4_dmg.damage,\n",
    "        'R4_remaining': R4_hrts.health_points,\n",
    "        'R6_remaining': R6_hrts.health_points\n",
    "    })\n",
    "    \n",
    "    \n",
    "    #start a for loop to run through each row of the duels dataframe (simulate each duel)\n",
    "    for n in range(len(duels)):\n",
    "        \n",
    "        #start a while loop to simulate attacks while both mages still live (until someone croaks)\n",
    "        while duels.R4_remaining[n] > 0 and duels.R6_remaining[n] > 0:\n",
    "            \n",
    "            #deduct health points by damage points (simulate attacks)\n",
    "            duels.R4_remaining[n] = duels.R4_remaining[n] - duels.R6_dmg[n]          \n",
    "            duels.R6_remaining[n] = duels.R6_remaining[n] - duels.R4_dmg[n]\n",
    "            \n",
    "    #for the sake of the lesson here, we will just see who has a greater value of health by the time one or both\n",
    "    #mages reach negative health\n",
    "    duels['R4_wins'] = duels.R4_remaining > duels.R6_remaining\n",
    "        \n",
    "    #create columns to represent individual wins    \n",
    "    duels['R6_wins'] = duels.R6_remaining > duels.R4_remaining\n",
    "        \n",
    "    #if R4 = R6, add a tally to the draws\n",
    "    duels['Draw'] = duels.R4_remaining == duels.R6_remaining\n",
    "                \n",
    "        \n",
    "    #if R4 wins more duels, declare the winner\n",
    "    if duels.R4_wins.sum() > duels.R6_wins.sum():\n",
    "        print(f'R4-6SD wins with {duels.R4_wins.sum()} victories!')\n",
    "        print(f'R6-4SD perishes with {duels.R6_wins.sum()}.')\n",
    "        if duels.Draw.sum() == 1:\n",
    "            print(f'There was one glorious instance of simultaenous destruction.')\n",
    "            print(f'------------------------------------------------------------')\n",
    "        else:\n",
    "            print(f'There were {duels.Draw.sum()} glorious instances of simultaneous destruction.')\n",
    "            print(f'------------------------------------------------------------')\n",
    "    #if R6 wins more duels, declare the winner    \n",
    "    elif duels.R6_wins.sum() > duels.R4_wins.sum():\n",
    "        print(f'R6-4SD wins with {duels.R6_wins.sum()} victories!')\n",
    "        print(f'R4-6SD perishes with {duels.R4_wins.sum()}.')\n",
    "        if duels.Draw.sum() == 1:\n",
    "            print(f'There was one glorious instance of simultaenous destruction.')\n",
    "            print(f'------------------------------------------------------------')\n",
    "        else:\n",
    "            print(f'There were {duels.Draw.sum()} glorious instances of simultaneous destruction.')\n",
    "            print(f'------------------------------------------------------------')\n",
    "            \n",
    "    #if the amount of duel wins is equal, declare a draw        \n",
    "    else:\n",
    "        print('Draw')\n",
    "        print(f'There were {duels.Draw.sum()} glorious instances of simultaneous destruction.')\n",
    "        print(f'R4-6SD had {duels.R4_wins.sum()} wins.')\n",
    "        print(f'R6-4SD had {duels.R6_wins.sum()} wins.')\n",
    "        print(f'--------------------------------------')\n",
    "    if n_duels > 10:\n",
    "        print(f'There is a {round(duels.R4_wins.mean() * 100, 1)}% chance that R4_6SD mage will win.')\n",
    "        print(f'There is a {round(duels.R6_wins.mean() * 100, 1)}% chance that R6_4SD mage will win.')\n",
    "        print(f'There is a {round(duels.Draw.mean() * 100, 1)}% chance that there will be a draw.')\n",
    "        print(f'-------------------------------------------------')\n",
    "    if n_duels <= 10:\n",
    "        print(duels)\n",
    "    else:\n",
    "        print('Sample')\n",
    "        print('------')\n",
    "        print(duels.sample(10))"
   ]
  },
  {
   "cell_type": "code",
   "execution_count": 14,
   "id": "050905a7",
   "metadata": {},
   "outputs": [
    {
     "name": "stdout",
     "output_type": "stream",
     "text": [
<<<<<<< HEAD
      "R6-4SD wins with 6 victories!\n",
      "R4-6SD perishes with 4.\n",
      "There were 0 glorious instances of simultaneous destruction.\n",
      "------------------------------------------------------------\n",
      "   R4_hrts  R6_dmg  R6_hrts  R4_dmg  R4_remaining  R6_remaining  R4_wins  \\\n",
      "0       12      22       15       9           -10             6    False   \n",
      "1       23      14       19      11            -5            -3    False   \n",
      "2       14      19       16      14            -5             2    False   \n",
      "3       13      21       17      12            -8             5    False   \n",
      "4       18      18       10      15             0            -5     True   \n",
      "5       14      10       10      16             4            -6     True   \n",
      "6       21      16       17      12           -11            -7    False   \n",
      "7       10      15       14      17            -5            -3    False   \n",
      "8       14      13       17      16           -12           -15     True   \n",
      "9       16      14       12      14             2            -2     True   \n",
      "\n",
      "   R6_wins   Draw  \n",
      "0     True  False  \n",
      "1     True  False  \n",
      "2     True  False  \n",
      "3     True  False  \n",
      "4    False  False  \n",
      "5    False  False  \n",
      "6     True  False  \n",
      "7     True  False  \n",
      "8    False  False  \n",
      "9    False  False  \n"
=======
      "R6-4SD wins with 9 victories\n",
      "R4-6SD perishes with 1\n",
      "There were 0 glorious instances of simultaneous destruction.\n"
>>>>>>> 4107dd5b2b7593349d4de75c304ba50b47f97d22
     ]
    }
   ],
   "source": [
    "powerful_wizard(10)"
   ]
  },
  {
   "cell_type": "code",
   "execution_count": 15,
   "id": "d72312cb",
   "metadata": {},
   "outputs": [
    {
     "name": "stdout",
     "output_type": "stream",
     "text": [
<<<<<<< HEAD
      "R6-4SD wins with 7 victories!\n",
      "R4-6SD perishes with 3.\n",
      "There were 0 glorious instances of simultaneous destruction.\n",
      "------------------------------------------------------------\n",
      "   R4_hrts  R6_dmg  R6_hrts  R4_dmg  R4_remaining  R6_remaining  R4_wins  \\\n",
      "0       20      14       18      10            -8            -2    False   \n",
      "1       16      15       13      15             1            -2     True   \n",
      "2       12      14       19      12            -2             7    False   \n",
      "3       17      14       16      16             3             0     True   \n",
      "4       16      16       13      10             0             3    False   \n",
      "5       14      19       12      13            -5            -1    False   \n",
      "6        9      15       17      18            -6            -1    False   \n",
      "7       12      16       11      11            -4             0    False   \n",
      "8       15      17       15      16            -2            -1    False   \n",
      "9       16      12       14      19             4            -5     True   \n",
      "\n",
      "   R6_wins   Draw  \n",
      "0     True  False  \n",
      "1    False  False  \n",
      "2     True  False  \n",
      "3    False  False  \n",
      "4     True  False  \n",
      "5     True  False  \n",
      "6     True  False  \n",
      "7     True  False  \n",
      "8     True  False  \n",
      "9    False  False  \n"
=======
      "R6-4SD wins with 6 victories\n",
      "R4-6SD perishes with 3\n",
      "There was one glorious instance of simultaenous destruction.\n"
>>>>>>> 4107dd5b2b7593349d4de75c304ba50b47f97d22
     ]
    }
   ],
   "source": [
    "powerful_wizard(10)"
   ]
  },
  {
   "cell_type": "code",
   "execution_count": 16,
   "id": "c8366aae",
   "metadata": {},
   "outputs": [
    {
     "name": "stdout",
     "output_type": "stream",
     "text": [
<<<<<<< HEAD
      "R6-4SD wins with 65 victories!\n",
      "R4-6SD perishes with 29.\n",
      "There were 6 glorious instances of simultaneous destruction.\n",
      "------------------------------------------------------------\n",
      "There is a 29.0% chance that R4_6SD mage will win.\n",
      "There is a 65.0% chance that R6_4SD mage will win.\n",
      "There is a 6.0% chance that there will be a draw.\n",
      "-------------------------------------------------\n",
      "Sample\n",
      "------\n",
      "    R4_hrts  R6_dmg  R6_hrts  R4_dmg  R4_remaining  R6_remaining  R4_wins  \\\n",
      "63       12       8       15      11            -4            -7     True   \n",
      "24       12      13       14      13            -1             1    False   \n",
      "51       12      14       17      13            -2             4    False   \n",
      "67       10      14       13      11            -4             2    False   \n",
      "64       19      12       15      21             7            -6     True   \n",
      "69       15      15       14      10             0             4    False   \n",
      "13       18      19       12      20            -1            -8     True   \n",
      "35       11      16       15      13            -5             2    False   \n",
      "28       16      15       15      16             1            -1     True   \n",
      "89       10      11       16      19            -1            -3     True   \n",
      "\n",
      "    R6_wins   Draw  \n",
      "63    False  False  \n",
      "24     True  False  \n",
      "51     True  False  \n",
      "67     True  False  \n",
      "64    False  False  \n",
      "69     True  False  \n",
      "13    False  False  \n",
      "35     True  False  \n",
      "28    False  False  \n",
      "89    False  False  \n"
=======
      "R6-4SD wins with 66 victories\n",
      "R4-6SD perishes with 28\n",
      "There were 6 glorious instances of simultaneous destruction.\n"
>>>>>>> 4107dd5b2b7593349d4de75c304ba50b47f97d22
     ]
    }
   ],
   "source": [
    "powerful_wizard(100)"
   ]
  },
  {
   "cell_type": "code",
   "execution_count": 17,
   "id": "05e5aa76",
   "metadata": {},
   "outputs": [
    {
     "name": "stdout",
     "output_type": "stream",
     "text": [
<<<<<<< HEAD
      "R6-4SD wins with 629 victories!\n",
      "R4-6SD perishes with 321.\n",
      "There were 50 glorious instances of simultaneous destruction.\n",
      "------------------------------------------------------------\n",
      "There is a 32.1% chance that R4_6SD mage will win.\n",
      "There is a 62.9% chance that R6_4SD mage will win.\n",
      "There is a 5.0% chance that there will be a draw.\n",
      "-------------------------------------------------\n",
      "Sample\n",
      "------\n",
      "     R4_hrts  R6_dmg  R6_hrts  R4_dmg  R4_remaining  R6_remaining  R4_wins  \\\n",
      "431       12       9       13      17             3            -4     True   \n",
      "190       12      17       14      15            -5            -1    False   \n",
      "939       12      12       15       9             0             6    False   \n",
      "866       19      14       15      11            -9            -7    False   \n",
      "257       16      11       16      14            -6           -12     True   \n",
      "552       10      12       15      18            -2            -3     True   \n",
      "656       13      10       18      10            -7            -2    False   \n",
      "776       15      13       14      14             2             0     True   \n",
      "742       14      22       14      14            -8             0    False   \n",
      "900       22      12       16      19            10            -3     True   \n",
      "\n",
      "     R6_wins   Draw  \n",
      "431    False  False  \n",
      "190     True  False  \n",
      "939     True  False  \n",
      "866     True  False  \n",
      "257    False  False  \n",
      "552    False  False  \n",
      "656     True  False  \n",
      "776    False  False  \n",
      "742     True  False  \n",
      "900    False  False  \n"
=======
      "R6-4SD wins with 598 victories\n",
      "R4-6SD perishes with 351\n",
      "There were 51 glorious instances of simultaneous destruction.\n"
>>>>>>> 4107dd5b2b7593349d4de75c304ba50b47f97d22
     ]
    }
   ],
   "source": [
    "powerful_wizard(1000)"
   ]
  },
  {
   "cell_type": "code",
   "execution_count": 18,
   "id": "15d3a6e7",
   "metadata": {},
   "outputs": [
    {
     "name": "stdout",
     "output_type": "stream",
     "text": [
<<<<<<< HEAD
      "R6-4SD wins with 6177 victories!\n",
      "R4-6SD perishes with 3322.\n",
      "There were 501 glorious instances of simultaneous destruction.\n",
      "------------------------------------------------------------\n",
      "There is a 33.2% chance that R4_6SD mage will win.\n",
      "There is a 61.8% chance that R6_4SD mage will win.\n",
      "There is a 5.0% chance that there will be a draw.\n",
      "-------------------------------------------------\n",
      "Sample\n",
      "------\n",
      "      R4_hrts  R6_dmg  R6_hrts  R4_dmg  R4_remaining  R6_remaining  R4_wins  \\\n",
      "6882       20      15       13      15             5            -2     True   \n",
      "3166        9      19       14      13           -10             1    False   \n",
      "7714       15      15       13      16             0            -3     True   \n",
      "8907       11      16       19      10            -5             9    False   \n",
      "1194       15      16       15      13            -1             2    False   \n",
      "3082       15      10       12      16             5            -4     True   \n",
      "8536        7      17       20      12           -10             8    False   \n",
      "2051       20      12       18      15            -4           -12     True   \n",
      "1802       13      19       15      15            -6             0    False   \n",
      "504        14      13        9      16             1            -7     True   \n",
      "\n",
      "      R6_wins   Draw  \n",
      "6882    False  False  \n",
      "3166     True  False  \n",
      "7714    False  False  \n",
      "8907     True  False  \n",
      "1194     True  False  \n",
      "3082    False  False  \n",
      "8536     True  False  \n",
      "2051    False  False  \n",
      "1802     True  False  \n",
      "504     False  False  \n"
=======
      "R6-4SD wins with 6076 victories\n",
      "R4-6SD perishes with 3419\n",
      "There were 505 glorious instances of simultaneous destruction.\n"
>>>>>>> 4107dd5b2b7593349d4de75c304ba50b47f97d22
     ]
    }
   ],
   "source": [
    "powerful_wizard(10_000)"
   ]
  },
  {
   "cell_type": "code",
   "execution_count": 19,
   "id": "a59a62ec",
   "metadata": {},
   "outputs": [
    {
     "name": "stdout",
     "output_type": "stream",
     "text": [
<<<<<<< HEAD
      "R6-4SD wins with 61041 victories!\n",
      "R4-6SD perishes with 34176.\n",
      "There were 4783 glorious instances of simultaneous destruction.\n",
      "------------------------------------------------------------\n",
      "There is a 34.2% chance that R4_6SD mage will win.\n",
      "There is a 61.0% chance that R6_4SD mage will win.\n",
      "There is a 4.8% chance that there will be a draw.\n",
      "-------------------------------------------------\n",
      "Sample\n",
      "------\n",
      "       R4_hrts  R6_dmg  R6_hrts  R4_dmg  R4_remaining  R6_remaining  R4_wins  \\\n",
      "22963       14      15       11      16            -1            -5     True   \n",
      "13150       15      12       14       6            -9             2    False   \n",
      "33947       13      15       17      18            -2            -1    False   \n",
      "50098       20      20       17      14             0             3    False   \n",
      "41444       21      13       17      17             8             0     True   \n",
      "43949       16      10       16       5            -4             6    False   \n",
      "78571       12      19       14      14            -7             0    False   \n",
      "47113       14      15       15      16            -1            -1    False   \n",
      "10522       12      11       12      15             1            -3     True   \n",
      "64767       10      14       17      12            -4             5    False   \n",
      "\n",
      "       R6_wins   Draw  \n",
      "22963    False  False  \n",
      "13150     True  False  \n",
      "33947     True  False  \n",
      "50098     True  False  \n",
      "41444    False  False  \n",
      "43949     True  False  \n",
      "78571     True  False  \n",
      "47113    False   True  \n",
      "10522    False  False  \n",
      "64767     True  False  \n"
=======
      "R6-4SD wins with 60426 victories\n",
      "R4-6SD perishes with 34681\n",
      "There were 4893 glorious instances of simultaneous destruction.\n"
>>>>>>> 4107dd5b2b7593349d4de75c304ba50b47f97d22
     ]
    }
   ],
   "source": [
    "powerful_wizard(100_000)"
   ]
  },
  {
   "cell_type": "code",
   "execution_count": 20,
   "id": "1a7c8d5a",
   "metadata": {},
   "outputs": [
    {
     "name": "stdout",
     "output_type": "stream",
     "text": [
<<<<<<< HEAD
      "R6-4SD wins with 610255 victories!\n",
      "R4-6SD perishes with 342920.\n",
      "There were 46825 glorious instances of simultaneous destruction.\n",
      "------------------------------------------------------------\n",
      "There is a 34.3% chance that R4_6SD mage will win.\n",
      "There is a 61.0% chance that R6_4SD mage will win.\n",
      "There is a 4.7% chance that there will be a draw.\n",
      "-------------------------------------------------\n",
      "Sample\n",
      "------\n",
      "        R4_hrts  R6_dmg  R6_hrts  R4_dmg  R4_remaining  R6_remaining  R4_wins  \\\n",
      "466207       18       8       14      14            10             0     True   \n",
      "390277       12      17       14      16            -5            -2    False   \n",
      "227801       10      12       21      22            -2            -1    False   \n",
      "680491       21      17       17      14           -13           -11    False   \n",
      "603565       12      19       13      12            -7             1    False   \n",
      "202664       20      12       21       9            -4             3    False   \n",
      "728479       12      14       16       6            -2            10    False   \n",
      "153149        8      11       18      10            -3             8    False   \n",
      "499324        5      14       12       8            -9             4    False   \n",
      "96911        18      13       13      15             5            -2     True   \n",
      "\n",
      "        R6_wins   Draw  \n",
      "466207    False  False  \n",
      "390277     True  False  \n",
      "227801     True  False  \n",
      "680491     True  False  \n",
      "603565     True  False  \n",
      "202664     True  False  \n",
      "728479     True  False  \n",
      "153149     True  False  \n",
      "499324     True  False  \n",
      "96911     False  False  \n"
=======
      "R6-4SD wins with 606070 victories\n",
      "R4-6SD perishes with 345045\n",
      "There were 48885 glorious instances of simultaneous destruction.\n"
>>>>>>> 4107dd5b2b7593349d4de75c304ba50b47f97d22
     ]
    }
   ],
   "source": [
    "powerful_wizard(1_000_000)"
   ]
  },
  {
   "cell_type": "code",
   "execution_count": 21,
   "id": "e1576e49",
   "metadata": {},
   "outputs": [
    {
     "name": "stdout",
     "output_type": "stream",
     "text": [
      "Juxtaposition of Mage Duel Functions, 10,000 Duels\n",
      "==================================================\n",
      "                                    \n",
      "pwrful_mage function\n",
      "--------------------\n",
      "R6-4SD wins with 3654 victories!\n",
      "R4-6SD perishes with 1713.\n",
      "There were 4633 glorious instances of simultaneous destruction.\n",
      "------------------------------------------------------------\n",
      "There is a 17.1% chance that R4_6SD mage will win.\n",
      "There is a 36.5% chance that R6_4SD mage will win.\n",
      "There is a 46.3% chance that there will be a draw.\n",
      "-------------------------------------------------\n",
      "Sample\n",
      "------\n",
      "      R4_hrts  R6_dmg  R6_hrts  R4_dmg  R4_remaining  R6_remaining  R4_wins  \\\n",
      "5846       18      12       21      13            -6            -5    False   \n",
      "383        12      18       10      21            -6           -11    False   \n",
      "8518       11      18       19      13            -7             6    False   \n",
      "8548       12      11       17       5           -10             7    False   \n",
      "8619       18      15       16      16             3             0     True   \n",
      "3667        9      21       14      21           -12            -7    False   \n",
      "2834       10      11       17      19            -1            -2    False   \n",
      "2726       15      16       15      16            -1            -1    False   \n",
      "4211       14      14       16      12             0             4    False   \n",
      "4541       17      12       16      17             5            -1     True   \n",
      "\n",
      "      R6_wins   Draw  \n",
      "5846    False   True  \n",
      "383     False   True  \n",
      "8518     True  False  \n",
      "8548     True  False  \n",
      "8619    False  False  \n",
      "3667    False   True  \n",
      "2834    False   True  \n",
      "2726    False   True  \n",
      "4211     True  False  \n",
      "4541    False  False  \n",
      "None\n",
      "==================================================\n",
      "                                    \n",
      "ur_a_wizard_arry function\n",
      "-------------------------\n",
      "R6-D4 wins with 5363 victories!\n",
      "R4-D6 perishes with 3725.\n",
      "There were 912 glorious instances of simultaneous destruction.\n",
      "------------------------------------------------------------\n",
      "There is a 37.2% chance that R4_6D mage will win.\n",
      "There is a 53.6% chance that R6_4D mage will win.\n",
      "There is a 9.1% chance that there will be a draw.\n",
      "-------------------------------------------------\n",
      "Sample\n",
      "------\n",
      "      R4_power  R6_power  R4_wins  R6_wins   Draw\n",
      "7704        21        12     True    False  False\n",
      "3257         7        17    False     True  False\n",
      "7919         9        15    False     True  False\n",
      "2152         7        15    False     True  False\n",
      "8710        15        15    False    False   True\n",
      "8579        18        13     True    False  False\n",
      "8690        18        16     True    False  False\n",
      "4714        13        13    False    False   True\n",
      "7324         9        20    False     True  False\n",
      "9921        17        16     True    False  False\n",
      "None\n",
      "==================================================\n",
      "                                    \n",
      "powerful_wizard function\n",
      "------------------------\n",
      "R6-4SD wins with 6183 victories!\n",
      "R4-6SD perishes with 3383.\n",
      "There were 434 glorious instances of simultaneous destruction.\n",
      "------------------------------------------------------------\n",
      "There is a 33.8% chance that R4_6SD mage will win.\n",
      "There is a 61.8% chance that R6_4SD mage will win.\n",
      "There is a 4.3% chance that there will be a draw.\n",
      "-------------------------------------------------\n",
      "Sample\n",
      "------\n",
      "      R4_hrts  R6_dmg  R6_hrts  R4_dmg  R4_remaining  R6_remaining  R4_wins  \\\n",
      "9310       14      20       16      13            -6             3    False   \n",
      "2780       14      16       15      12            -2             3    False   \n",
      "8588        9      16       17      20            -7            -3    False   \n",
      "2790       13      15       14      14            -2             0    False   \n",
      "7732       14      16       21      13            -2             8    False   \n",
      "4197       16      11       14       6            -6             2    False   \n",
      "1581       16      13       10      14             3            -4     True   \n",
      "1417       17      13       11      13             4            -2     True   \n",
      "8587       16      15       21      15           -14            -9    False   \n",
      "5406       16      13       12      12             3             0     True   \n",
      "\n",
      "      R6_wins   Draw  \n",
      "9310     True  False  \n",
      "2780     True  False  \n",
      "8588     True  False  \n",
      "2790     True  False  \n",
      "7732     True  False  \n",
      "4197     True  False  \n",
      "1581    False  False  \n",
      "1417    False  False  \n",
      "8587     True  False  \n",
      "5406    False  False  \n",
      "None\n"
     ]
    }
   ],
   "source": [
    "print('Juxtaposition of Mage Duel Functions, 10,000 Duels')\n",
    "print('==================================================')\n",
    "print('                                    ')\n",
    "print('pwrful_mage function')\n",
    "print('--------------------')\n",
    "print(pwrful_mage(10_000))\n",
    "print('==================================================')\n",
    "print('                                    ')\n",
    "print('ur_a_wizard_arry function')\n",
    "print('-------------------------')\n",
    "print(ur_a_wizard_arry(10_000))\n",
    "print('==================================================')\n",
    "print('                                    ')\n",
    "print('powerful_wizard function')\n",
    "print('------------------------')\n",
    "print(powerful_wizard(10_000))"
   ]
  },
  {
   "cell_type": "markdown",
   "id": "efc25f34",
   "metadata": {},
   "source": [
    "### mage 4d6 guy can't roll to save face"
   ]
  }
 ],
 "metadata": {
  "kernelspec": {
   "display_name": "Python 3",
   "language": "python",
   "name": "python3"
  },
  "language_info": {
   "codemirror_mode": {
    "name": "ipython",
    "version": 3
   },
   "file_extension": ".py",
   "mimetype": "text/x-python",
   "name": "python",
   "nbconvert_exporter": "python",
   "pygments_lexer": "ipython3",
   "version": "3.8.8"
  }
 },
 "nbformat": 4,
 "nbformat_minor": 5
}
