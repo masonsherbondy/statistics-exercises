{
 "cells": [
  {
   "cell_type": "markdown",
   "id": "1d724e51",
   "metadata": {},
   "source": [
    "For each of the following questions, formulate a null and alternative hypothesis (be as specific as you can be), then give an example of what a true positive, true negative, type I and type II errors would look like. Note that some of the questions are intentionally phrased in a vague way. It is your job to reword these as more precise questions that could be tested."
   ]
  },
  {
   "cell_type": "markdown",
   "id": "d58c70ed",
   "metadata": {},
   "source": [
    "### Has the network latency gone up since we switched internet service providers?"
   ]
  },
  {
   "cell_type": "markdown",
   "id": "480ab23f",
   "metadata": {},
   "source": [
    "Null hypothesis: Internet service provider does not affect network latency\n",
    "\n",
    "Alternative hypothesis: Our new internet is giving me lag! T_T\n",
    "\n",
    "True positive: Network latency going up is due to a difference in service providers\n",
    "\n",
    "True negative: Our network latency is due to factors outside of our choice of service provider\n",
    "\n",
    "Type I error: I knew we shouldn't have switched our ISP! Now we're lagging! #But it's not the ISP, bruh\n",
    "\n",
    "Type II error: No, just got off the phone with our ISP. They're saying we're good. #BUT IT IS THE ISP BRUH\n"
   ]
  },
  {
   "cell_type": "markdown",
   "id": "d0de0212",
   "metadata": {},
   "source": [
    "### Is the website redesign any good?"
   ]
  },
  {
   "cell_type": "markdown",
   "id": "58acc900",
   "metadata": {},
   "source": [
    "Null hypothesis: the new design of the website doesn't affect web performance\n",
    "\n",
    "Alternative hypothesis: Our redo is killin' it!\n",
    "\n",
    "True positive: The new design of the website positively impacts web performance\n",
    "\n",
    "True negative: Our new web design does not affect web performance\n",
    "\n",
    "Type I error: Web performance is awesome thanks to the website design team! #but good web performance is due to other factors\n",
    "\n",
    "Type II error: Our web performance hasn't gone up. The new design sucks. #but our servers are down (no one can see)"
   ]
  },
  {
   "cell_type": "markdown",
   "id": "52bd9ae6",
   "metadata": {},
   "source": [
    "### Is our television ad driving more sales?"
   ]
  },
  {
   "cell_type": "markdown",
   "id": "236a755f",
   "metadata": {},
   "source": [
    "Null hypothesis: Our television ad does not affect our sales\n",
    "\n",
    "Alternative hypothesis: Our ad is pulling the cash in!\n",
    "\n",
    "True positive: Our increased sales are driven by our advertisement\n",
    "\n",
    "True negative: Our increases sales are due to other factors\n",
    "\n",
    "Type I error: Look at all these profits thanks to the new ad! #But I told my fanbase about the product 2 weeks ago, and they been mad posting with the product for a week\n",
    "\n",
    "Type II error: Our sales are just going up, I can't find enough evidence to say our ad affects sales #But no one knew about our product before the ad boiiiiiiiiiiiiii"
   ]
  }
 ],
 "metadata": {
  "kernelspec": {
   "display_name": "Python 3",
   "language": "python",
   "name": "python3"
  },
  "language_info": {
   "codemirror_mode": {
    "name": "ipython",
    "version": 3
   },
   "file_extension": ".py",
   "mimetype": "text/x-python",
   "name": "python",
   "nbconvert_exporter": "python",
   "pygments_lexer": "ipython3",
   "version": "3.8.8"
  }
 },
 "nbformat": 4,
 "nbformat_minor": 5
}
