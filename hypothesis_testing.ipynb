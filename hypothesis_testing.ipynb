{
 "cells": [
  {
   "cell_type": "markdown",
   "id": "f4813e01",
   "metadata": {},
   "source": [
    "For each of the following questions, formulate a null and alternative hypothesis (be as specific as you can be), then give an example of what a true positive, true negative, type I and type II errors would look like. Note that some of the questions are intentionally phrased in a vague way. It is your job to reword these as more precise questions that could be tested."
   ]
  },
  {
   "cell_type": "markdown",
   "id": "fb42a042",
   "metadata": {},
   "source": [
    "### Has the network latency gone up since we switched internet service providers?"
   ]
  },
  {
   "cell_type": "markdown",
   "id": "b86e911a",
   "metadata": {},
   "source": [
    "Null hypothesis: Internet service provider does not affect network latency\n",
    "alternative hypothesis: Our new internet is giving me lag!\n",
    "true positive: Network latency going up is due to a difference in service providers\n",
    "true negative: Our network latency is due to factors outside of our choice of service provider\n",
    "type I error: I knew we shouldn't have switched our ISP! Now we're lagging! But it's not the ISP, bruh\n",
    "type II error: "
   ]
  },
  {
   "cell_type": "markdown",
   "id": "aa5c6fa5",
   "metadata": {},
   "source": [
    "### Is the website redesign any good?"
   ]
  },
  {
   "cell_type": "markdown",
   "id": "7bae4c0d",
   "metadata": {},
   "source": [
    "Null hypothesis: the new design of the website doesn't affect web performance\n",
    "alternative hypothesis: Our redo is killin it!\n",
    "true positive:\n",
    "true negative:\n",
    "type I error:\n",
    "type II error:"
   ]
  },
  {
   "cell_type": "markdown",
   "id": "7ed12d48",
   "metadata": {},
   "source": [
    "### Is our television ad driving more sales?"
   ]
  },
  {
   "cell_type": "markdown",
   "id": "a08b19d5",
   "metadata": {},
   "source": [
    "Null hypothesis: our television ad does not affect our sales\n",
    "alternative hypothesis: Our ad is pulling the cash in!\n",
    "true positive:\n",
    "true negative:\n",
    "type I error:\n",
    "type II error:"
   ]
  }
 ],
 "metadata": {
  "kernelspec": {
   "display_name": "Python 3",
   "language": "python",
   "name": "python3"
  },
  "language_info": {
   "codemirror_mode": {
    "name": "ipython",
    "version": 3
   },
   "file_extension": ".py",
   "mimetype": "text/x-python",
   "name": "python",
   "nbconvert_exporter": "python",
   "pygments_lexer": "ipython3",
   "version": "3.8.8"
  }
 },
 "nbformat": 4,
 "nbformat_minor": 5
}
