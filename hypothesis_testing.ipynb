{
 "cells": [
  {
   "cell_type": "markdown",
   "id": "97f78b49",
   "metadata": {},
   "source": [
    "# Hypothesis Testing"
   ]
  },
  {
   "cell_type": "markdown",
   "id": "da56a7e4",
   "metadata": {},
   "source": [
    "For each of the following questions, formulate a null and alternative hypothesis (be as specific as you can be), then give an example of what a true positive, true negative, type I and type II errors would look like. Note that some of the questions are intentionally phrased in a vague way. It is your job to reword these as more precise questions that could be tested."
   ]
  },
  {
   "cell_type": "markdown",
   "id": "dbd0625b",
   "metadata": {},
   "source": [
    "### Has the network latency gone up since we switched internet service providers?"
   ]
  },
  {
   "cell_type": "markdown",
   "id": "85b59227",
   "metadata": {},
   "source": [
    "Null hypothesis: Internet service provider does not affect network latency\n",
    "\n",
    "Alternative hypothesis: Our new internet is giving me lag! T_T\n",
    "\n",
    "True positive: Network latency going up is due to a difference in service providers\n",
    "\n",
    "True negative: Our network latency is due to factors outside of our choice of service provider\n",
    "\n",
    "Type I error: I knew we shouldn't have switched our ISP! Now we're lagging! #But it's not the ISP, bruh\n",
    "\n",
    "Type II error: No, just got off the phone with our ISP. They're saying we're good. #BUT IT IS THE ISP BRUH\n"
   ]
  },
  {
   "cell_type": "markdown",
   "id": "fbd95e28",
   "metadata": {},
   "source": [
    "### Is the website redesign any good?"
   ]
  },
  {
   "cell_type": "markdown",
   "id": "8992106f",
   "metadata": {},
   "source": [
    "Null hypothesis: The new design of the website doesn't affect web performance\n",
    "\n",
    "Alternative hypothesis: Our redo is killin' it!\n",
    "\n",
    "True positive: The new design of the website positively impacts web performance\n",
    "\n",
    "True negative: Our new web design does not affect web performance\n",
    "\n",
    "Type I error: Web performance is awesome thanks to the website design team! #but good web performance is due to other factors\n",
    "\n",
    "Type II error: Our web performance went up due to other factors. #But it was really the outstanding new design"
   ]
  },
  {
   "cell_type": "markdown",
   "id": "c46ce7e8",
   "metadata": {},
   "source": [
    "### Is our television ad driving more sales?"
   ]
  },
  {
   "cell_type": "markdown",
   "id": "8de8f362",
   "metadata": {},
   "source": [
    "Null hypothesis: Our television ad does not affect our sales\n",
    "\n",
    "Alternative hypothesis: Our ad is pulling the cash in!\n",
    "\n",
    "True positive: Our increased sales are driven by our advertisement\n",
    "\n",
    "True negative: Our increases sales are due to other factors\n",
    "\n",
    "Type I error: Look at all these profits thanks to the new ad! \n",
    "#But I told my fanbase about the product 2 weeks ago, and they been mad posting with the product for a week\n",
    "\n",
    "Type II error: Our sales are just going up, I can't find enough evidence to say our ad affects sales. \n",
    "#But no one knew about our product before the ad boiiiiiiiiiiiiii"
   ]
  },
  {
   "cell_type": "markdown",
   "id": "4bb2dc40",
   "metadata": {},
   "source": [
    "# T-Test Exercises"
   ]
  },
  {
   "cell_type": "code",
   "execution_count": 1,
   "id": "3de9d670",
   "metadata": {},
   "outputs": [],
   "source": [
    "import numpy as np\n",
    "import scipy.stats as stats\n",
    "import pandas as pd\n",
    "import matplotlib.pyplot as plt\n",
    "from pydataset import data"
   ]
  },
  {
   "cell_type": "markdown",
   "id": "f6e68b68",
   "metadata": {},
   "source": [
    "## Exercise 1\n",
    "Ace Realty wants to determine whether the average time it takes to sell homes is different for its two offices. A sample of 40 sales from office #1 revealed a mean of 90 days and a standard deviation of 15 days. A sample of 50 sales from office #2 revealed a mean of 100 days and a standard deviation of 20 days. Use a .05 level of significance."
   ]
  },
  {
   "cell_type": "code",
   "execution_count": 2,
   "id": "86a4c78f",
   "metadata": {},
   "outputs": [],
   "source": [
    "#null hypothesis: The office_location selling the homes does not have an effect on the time it takes to sell homes\n",
    "#alternate hypothesis: The different offices do sell homes at different rates"
   ]
  },
  {
   "cell_type": "code",
   "execution_count": 3,
   "id": "693f18fa",
   "metadata": {},
   "outputs": [],
   "source": [
    "α = .05\n",
    "μ1 = 90\n",
    "σ1 = 15\n",
    "μ2 = 100\n",
    "σ2 = 20\n",
    "office_1 = np.random.normal(μ1, σ1, 40)\n",
    "office_2 = np.random.normal(μ2, σ2, 50)"
   ]
  },
  {
   "cell_type": "code",
   "execution_count": 4,
   "id": "df5caf57",
   "metadata": {},
   "outputs": [
    {
     "data": {
      "text/plain": [
       "(163.71188074678173, 419.0918666447691)"
      ]
     },
     "execution_count": 4,
     "metadata": {},
     "output_type": "execute_result"
    }
   ],
   "source": [
    "office_1.var(), office_2.var() "
   ]
  },
  {
   "cell_type": "code",
   "execution_count": 5,
   "id": "03879040",
   "metadata": {},
   "outputs": [
    {
     "data": {
      "text/plain": [
       "2.559935569324938"
      ]
     },
     "execution_count": 5,
     "metadata": {},
     "output_type": "execute_result"
    }
   ],
   "source": [
    "office_2.var() / office_1.var()\n",
    "#variance ratio is less than 4"
   ]
  },
  {
   "cell_type": "code",
   "execution_count": 6,
   "id": "402773dc",
   "metadata": {},
   "outputs": [
    {
     "data": {
      "text/plain": [
       "(-4.260784992739686, 5.093602523912023e-05, 0.05)"
      ]
     },
     "execution_count": 6,
     "metadata": {},
     "output_type": "execute_result"
    }
   ],
   "source": [
    "#tentative\n",
    "t, p = stats.ttest_ind(office_1, office_2, equal_var = True)\n",
    "t, p, α"
   ]
  },
  {
   "cell_type": "code",
   "execution_count": 7,
   "id": "510f996c",
   "metadata": {},
   "outputs": [
    {
     "name": "stdout",
     "output_type": "stream",
     "text": [
      "REJECTED: Null hypothesis\n"
     ]
    }
   ],
   "source": [
    "if p < α:\n",
    "    print('REJECTED: Null hypothesis')\n",
    "else:\n",
    "    print('Failed to reject: Null hypothesis')"
   ]
  },
  {
   "cell_type": "code",
   "execution_count": 8,
   "id": "28f91e42",
   "metadata": {},
   "outputs": [
    {
     "data": {
      "text/plain": [
       "(-2.6252287036468456, 0.01020985244923939, 0.05)"
      ]
     },
     "execution_count": 8,
     "metadata": {},
     "output_type": "execute_result"
    }
   ],
   "source": [
    "#fsho\n",
    "t, p = stats.ttest_ind_from_stats(μ1, σ1, 40, μ2, σ2, 50)\n",
    "t, p, α"
   ]
  },
  {
   "cell_type": "code",
   "execution_count": 9,
   "id": "76e4c100",
   "metadata": {},
   "outputs": [
    {
     "name": "stdout",
     "output_type": "stream",
     "text": [
      "REJECTED: Null hypothesis\n"
     ]
    }
   ],
   "source": [
    "if p < α:\n",
    "    print('REJECTED: Null hypothesis')\n",
    "else:\n",
    "    print('Failed to reject: Null hypothesis')"
   ]
  },
  {
   "cell_type": "code",
   "execution_count": 10,
   "id": "501acdd4",
   "metadata": {},
   "outputs": [],
   "source": [
    "#Different offices sell homes at different rates"
   ]
  },
  {
   "cell_type": "markdown",
   "id": "cd189dc2",
   "metadata": {},
   "source": [
    "## Exercise 2\n",
    "#### Load the mpg dataset and use it to answer the following questions:\n",
    "\n",
    "Is there a difference in fuel-efficiency in cars from 2008 vs 1999?\n",
    "\n",
    "Are compact cars more fuel-efficient than the average car?\n",
    "\n",
    "Do manual cars get better gas mileage than automatic cars?"
   ]
  },
  {
   "cell_type": "markdown",
   "id": "24c3e2bc",
   "metadata": {},
   "source": [
    "#### A. Is there a difference in fuel-efficiency in cars from 2008 vs 1999?"
   ]
  },
  {
   "cell_type": "code",
   "execution_count": 11,
   "id": "3b391ae7",
   "metadata": {},
   "outputs": [],
   "source": [
    "mpg = data('mpg')"
   ]
  },
  {
   "cell_type": "code",
   "execution_count": 12,
   "id": "3fe2fbbd",
   "metadata": {},
   "outputs": [
    {
     "data": {
      "text/html": [
       "<div>\n",
       "<style scoped>\n",
       "    .dataframe tbody tr th:only-of-type {\n",
       "        vertical-align: middle;\n",
       "    }\n",
       "\n",
       "    .dataframe tbody tr th {\n",
       "        vertical-align: top;\n",
       "    }\n",
       "\n",
       "    .dataframe thead th {\n",
       "        text-align: right;\n",
       "    }\n",
       "</style>\n",
       "<table border=\"1\" class=\"dataframe\">\n",
       "  <thead>\n",
       "    <tr style=\"text-align: right;\">\n",
       "      <th></th>\n",
       "      <th>manufacturer</th>\n",
       "      <th>model</th>\n",
       "      <th>displ</th>\n",
       "      <th>year</th>\n",
       "      <th>cyl</th>\n",
       "      <th>trans</th>\n",
       "      <th>drv</th>\n",
       "      <th>cty</th>\n",
       "      <th>hwy</th>\n",
       "      <th>fl</th>\n",
       "      <th>class</th>\n",
       "    </tr>\n",
       "  </thead>\n",
       "  <tbody>\n",
       "    <tr>\n",
       "      <th>1</th>\n",
       "      <td>audi</td>\n",
       "      <td>a4</td>\n",
       "      <td>1.8</td>\n",
       "      <td>1999</td>\n",
       "      <td>4</td>\n",
       "      <td>auto(l5)</td>\n",
       "      <td>f</td>\n",
       "      <td>18</td>\n",
       "      <td>29</td>\n",
       "      <td>p</td>\n",
       "      <td>compact</td>\n",
       "    </tr>\n",
       "    <tr>\n",
       "      <th>2</th>\n",
       "      <td>audi</td>\n",
       "      <td>a4</td>\n",
       "      <td>1.8</td>\n",
       "      <td>1999</td>\n",
       "      <td>4</td>\n",
       "      <td>manual(m5)</td>\n",
       "      <td>f</td>\n",
       "      <td>21</td>\n",
       "      <td>29</td>\n",
       "      <td>p</td>\n",
       "      <td>compact</td>\n",
       "    </tr>\n",
       "    <tr>\n",
       "      <th>3</th>\n",
       "      <td>audi</td>\n",
       "      <td>a4</td>\n",
       "      <td>2.0</td>\n",
       "      <td>2008</td>\n",
       "      <td>4</td>\n",
       "      <td>manual(m6)</td>\n",
       "      <td>f</td>\n",
       "      <td>20</td>\n",
       "      <td>31</td>\n",
       "      <td>p</td>\n",
       "      <td>compact</td>\n",
       "    </tr>\n",
       "    <tr>\n",
       "      <th>4</th>\n",
       "      <td>audi</td>\n",
       "      <td>a4</td>\n",
       "      <td>2.0</td>\n",
       "      <td>2008</td>\n",
       "      <td>4</td>\n",
       "      <td>auto(av)</td>\n",
       "      <td>f</td>\n",
       "      <td>21</td>\n",
       "      <td>30</td>\n",
       "      <td>p</td>\n",
       "      <td>compact</td>\n",
       "    </tr>\n",
       "    <tr>\n",
       "      <th>5</th>\n",
       "      <td>audi</td>\n",
       "      <td>a4</td>\n",
       "      <td>2.8</td>\n",
       "      <td>1999</td>\n",
       "      <td>6</td>\n",
       "      <td>auto(l5)</td>\n",
       "      <td>f</td>\n",
       "      <td>16</td>\n",
       "      <td>26</td>\n",
       "      <td>p</td>\n",
       "      <td>compact</td>\n",
       "    </tr>\n",
       "  </tbody>\n",
       "</table>\n",
       "</div>"
      ],
      "text/plain": [
       "  manufacturer model  displ  year  cyl       trans drv  cty  hwy fl    class\n",
       "1         audi    a4    1.8  1999    4    auto(l5)   f   18   29  p  compact\n",
       "2         audi    a4    1.8  1999    4  manual(m5)   f   21   29  p  compact\n",
       "3         audi    a4    2.0  2008    4  manual(m6)   f   20   31  p  compact\n",
       "4         audi    a4    2.0  2008    4    auto(av)   f   21   30  p  compact\n",
       "5         audi    a4    2.8  1999    6    auto(l5)   f   16   26  p  compact"
      ]
     },
     "execution_count": 12,
     "metadata": {},
     "output_type": "execute_result"
    }
   ],
   "source": [
    "mpg.head()"
   ]
  },
  {
   "cell_type": "code",
   "execution_count": 13,
   "id": "ddd9c6e7",
   "metadata": {},
   "outputs": [
    {
     "data": {
      "text/html": [
       "<div>\n",
       "<style scoped>\n",
       "    .dataframe tbody tr th:only-of-type {\n",
       "        vertical-align: middle;\n",
       "    }\n",
       "\n",
       "    .dataframe tbody tr th {\n",
       "        vertical-align: top;\n",
       "    }\n",
       "\n",
       "    .dataframe thead th {\n",
       "        text-align: right;\n",
       "    }\n",
       "</style>\n",
       "<table border=\"1\" class=\"dataframe\">\n",
       "  <thead>\n",
       "    <tr style=\"text-align: right;\">\n",
       "      <th></th>\n",
       "      <th>manufacturer</th>\n",
       "      <th>model</th>\n",
       "      <th>displ</th>\n",
       "      <th>year</th>\n",
       "      <th>cyl</th>\n",
       "      <th>trans</th>\n",
       "      <th>drv</th>\n",
       "      <th>cty</th>\n",
       "      <th>hwy</th>\n",
       "      <th>fl</th>\n",
       "      <th>class</th>\n",
       "      <th>average_mileage</th>\n",
       "    </tr>\n",
       "  </thead>\n",
       "  <tbody>\n",
       "    <tr>\n",
       "      <th>1</th>\n",
       "      <td>audi</td>\n",
       "      <td>a4</td>\n",
       "      <td>1.8</td>\n",
       "      <td>1999</td>\n",
       "      <td>4</td>\n",
       "      <td>auto(l5)</td>\n",
       "      <td>f</td>\n",
       "      <td>18</td>\n",
       "      <td>29</td>\n",
       "      <td>p</td>\n",
       "      <td>compact</td>\n",
       "      <td>23.5</td>\n",
       "    </tr>\n",
       "    <tr>\n",
       "      <th>2</th>\n",
       "      <td>audi</td>\n",
       "      <td>a4</td>\n",
       "      <td>1.8</td>\n",
       "      <td>1999</td>\n",
       "      <td>4</td>\n",
       "      <td>manual(m5)</td>\n",
       "      <td>f</td>\n",
       "      <td>21</td>\n",
       "      <td>29</td>\n",
       "      <td>p</td>\n",
       "      <td>compact</td>\n",
       "      <td>25.0</td>\n",
       "    </tr>\n",
       "    <tr>\n",
       "      <th>3</th>\n",
       "      <td>audi</td>\n",
       "      <td>a4</td>\n",
       "      <td>2.0</td>\n",
       "      <td>2008</td>\n",
       "      <td>4</td>\n",
       "      <td>manual(m6)</td>\n",
       "      <td>f</td>\n",
       "      <td>20</td>\n",
       "      <td>31</td>\n",
       "      <td>p</td>\n",
       "      <td>compact</td>\n",
       "      <td>25.5</td>\n",
       "    </tr>\n",
       "    <tr>\n",
       "      <th>4</th>\n",
       "      <td>audi</td>\n",
       "      <td>a4</td>\n",
       "      <td>2.0</td>\n",
       "      <td>2008</td>\n",
       "      <td>4</td>\n",
       "      <td>auto(av)</td>\n",
       "      <td>f</td>\n",
       "      <td>21</td>\n",
       "      <td>30</td>\n",
       "      <td>p</td>\n",
       "      <td>compact</td>\n",
       "      <td>25.5</td>\n",
       "    </tr>\n",
       "    <tr>\n",
       "      <th>5</th>\n",
       "      <td>audi</td>\n",
       "      <td>a4</td>\n",
       "      <td>2.8</td>\n",
       "      <td>1999</td>\n",
       "      <td>6</td>\n",
       "      <td>auto(l5)</td>\n",
       "      <td>f</td>\n",
       "      <td>16</td>\n",
       "      <td>26</td>\n",
       "      <td>p</td>\n",
       "      <td>compact</td>\n",
       "      <td>21.0</td>\n",
       "    </tr>\n",
       "  </tbody>\n",
       "</table>\n",
       "</div>"
      ],
      "text/plain": [
       "  manufacturer model  displ  year  cyl       trans drv  cty  hwy fl    class  \\\n",
       "1         audi    a4    1.8  1999    4    auto(l5)   f   18   29  p  compact   \n",
       "2         audi    a4    1.8  1999    4  manual(m5)   f   21   29  p  compact   \n",
       "3         audi    a4    2.0  2008    4  manual(m6)   f   20   31  p  compact   \n",
       "4         audi    a4    2.0  2008    4    auto(av)   f   21   30  p  compact   \n",
       "5         audi    a4    2.8  1999    6    auto(l5)   f   16   26  p  compact   \n",
       "\n",
       "   average_mileage  \n",
       "1             23.5  \n",
       "2             25.0  \n",
       "3             25.5  \n",
       "4             25.5  \n",
       "5             21.0  "
      ]
     },
     "execution_count": 13,
     "metadata": {},
     "output_type": "execute_result"
    }
   ],
   "source": [
    "mpg['average_mileage'] = mpg[['cty', 'hwy']].mean(axis = 1)\n",
    "mpg.head()"
   ]
  },
  {
   "cell_type": "code",
   "execution_count": 14,
   "id": "4378619a",
   "metadata": {},
   "outputs": [
    {
     "data": {
      "text/html": [
       "<div>\n",
       "<style scoped>\n",
       "    .dataframe tbody tr th:only-of-type {\n",
       "        vertical-align: middle;\n",
       "    }\n",
       "\n",
       "    .dataframe tbody tr th {\n",
       "        vertical-align: top;\n",
       "    }\n",
       "\n",
       "    .dataframe thead th {\n",
       "        text-align: right;\n",
       "    }\n",
       "</style>\n",
       "<table border=\"1\" class=\"dataframe\">\n",
       "  <thead>\n",
       "    <tr style=\"text-align: right;\">\n",
       "      <th></th>\n",
       "      <th>manufacturer</th>\n",
       "      <th>model</th>\n",
       "      <th>displ</th>\n",
       "      <th>year</th>\n",
       "      <th>cyl</th>\n",
       "      <th>trans</th>\n",
       "      <th>drv</th>\n",
       "      <th>cty</th>\n",
       "      <th>hwy</th>\n",
       "      <th>fl</th>\n",
       "      <th>class</th>\n",
       "      <th>average_mileage</th>\n",
       "    </tr>\n",
       "  </thead>\n",
       "  <tbody>\n",
       "    <tr>\n",
       "      <th>1</th>\n",
       "      <td>audi</td>\n",
       "      <td>a4</td>\n",
       "      <td>1.8</td>\n",
       "      <td>1999</td>\n",
       "      <td>4</td>\n",
       "      <td>auto(l5)</td>\n",
       "      <td>f</td>\n",
       "      <td>18</td>\n",
       "      <td>29</td>\n",
       "      <td>p</td>\n",
       "      <td>compact</td>\n",
       "      <td>23.5</td>\n",
       "    </tr>\n",
       "    <tr>\n",
       "      <th>2</th>\n",
       "      <td>audi</td>\n",
       "      <td>a4</td>\n",
       "      <td>1.8</td>\n",
       "      <td>1999</td>\n",
       "      <td>4</td>\n",
       "      <td>manual(m5)</td>\n",
       "      <td>f</td>\n",
       "      <td>21</td>\n",
       "      <td>29</td>\n",
       "      <td>p</td>\n",
       "      <td>compact</td>\n",
       "      <td>25.0</td>\n",
       "    </tr>\n",
       "    <tr>\n",
       "      <th>5</th>\n",
       "      <td>audi</td>\n",
       "      <td>a4</td>\n",
       "      <td>2.8</td>\n",
       "      <td>1999</td>\n",
       "      <td>6</td>\n",
       "      <td>auto(l5)</td>\n",
       "      <td>f</td>\n",
       "      <td>16</td>\n",
       "      <td>26</td>\n",
       "      <td>p</td>\n",
       "      <td>compact</td>\n",
       "      <td>21.0</td>\n",
       "    </tr>\n",
       "    <tr>\n",
       "      <th>6</th>\n",
       "      <td>audi</td>\n",
       "      <td>a4</td>\n",
       "      <td>2.8</td>\n",
       "      <td>1999</td>\n",
       "      <td>6</td>\n",
       "      <td>manual(m5)</td>\n",
       "      <td>f</td>\n",
       "      <td>18</td>\n",
       "      <td>26</td>\n",
       "      <td>p</td>\n",
       "      <td>compact</td>\n",
       "      <td>22.0</td>\n",
       "    </tr>\n",
       "    <tr>\n",
       "      <th>8</th>\n",
       "      <td>audi</td>\n",
       "      <td>a4 quattro</td>\n",
       "      <td>1.8</td>\n",
       "      <td>1999</td>\n",
       "      <td>4</td>\n",
       "      <td>manual(m5)</td>\n",
       "      <td>4</td>\n",
       "      <td>18</td>\n",
       "      <td>26</td>\n",
       "      <td>p</td>\n",
       "      <td>compact</td>\n",
       "      <td>22.0</td>\n",
       "    </tr>\n",
       "  </tbody>\n",
       "</table>\n",
       "</div>"
      ],
      "text/plain": [
       "  manufacturer       model  displ  year  cyl       trans drv  cty  hwy fl  \\\n",
       "1         audi          a4    1.8  1999    4    auto(l5)   f   18   29  p   \n",
       "2         audi          a4    1.8  1999    4  manual(m5)   f   21   29  p   \n",
       "5         audi          a4    2.8  1999    6    auto(l5)   f   16   26  p   \n",
       "6         audi          a4    2.8  1999    6  manual(m5)   f   18   26  p   \n",
       "8         audi  a4 quattro    1.8  1999    4  manual(m5)   4   18   26  p   \n",
       "\n",
       "     class  average_mileage  \n",
       "1  compact             23.5  \n",
       "2  compact             25.0  \n",
       "5  compact             21.0  \n",
       "6  compact             22.0  \n",
       "8  compact             22.0  "
      ]
     },
     "execution_count": 14,
     "metadata": {},
     "output_type": "execute_result"
    }
   ],
   "source": [
    "models_2008 = mpg[mpg.year == 2008]\n",
    "models_1999 = mpg[mpg.year == 1999]\n",
    "models_1999.head()"
   ]
  },
  {
   "cell_type": "code",
   "execution_count": 15,
   "id": "32d47fde",
   "metadata": {},
   "outputs": [],
   "source": [
    "#null hypothesis: There is no difference in fuel efficiency.\n",
    "#alternate hypothesis: The year of manufacture does affect the fuel efficiency of the car"
   ]
  },
  {
   "cell_type": "code",
   "execution_count": 16,
   "id": "95b65fca",
   "metadata": {},
   "outputs": [
    {
     "data": {
      "text/plain": [
       "(27.122605363984682, 24.097480106100797)"
      ]
     },
     "execution_count": 16,
     "metadata": {},
     "output_type": "execute_result"
    }
   ],
   "source": [
    "α = .05\n",
    "models_1999.average_mileage.var(), models_2008.average_mileage.var()\n",
    "#variance is less than 4"
   ]
  },
  {
   "cell_type": "code",
   "execution_count": 17,
   "id": "372e5ee6",
   "metadata": {},
   "outputs": [
    {
     "data": {
      "text/plain": [
       "(-0.21960177245940962, 0.8263744040323578, 0.05)"
      ]
     },
     "execution_count": 17,
     "metadata": {},
     "output_type": "execute_result"
    }
   ],
   "source": [
    "t, p = stats.ttest_ind(models_2008.average_mileage, models_1999.average_mileage)\n",
    "t, p, α"
   ]
  },
  {
   "cell_type": "code",
   "execution_count": 18,
   "id": "ceec9e61",
   "metadata": {},
   "outputs": [
    {
     "name": "stdout",
     "output_type": "stream",
     "text": [
      "Failed to reject: Null hypothesis\n"
     ]
    }
   ],
   "source": [
    "if p < α:\n",
    "    print('REJECTED: Null hypothesis')\n",
    "else:\n",
    "    print('Failed to reject: Null hypothesis')"
   ]
  },
  {
   "cell_type": "code",
   "execution_count": 19,
   "id": "116bc821",
   "metadata": {},
   "outputs": [],
   "source": [
    "#There is no difference in fuel efficiency between 2008 cars and 1999 cars"
   ]
  },
  {
   "cell_type": "markdown",
   "id": "aa389ad7",
   "metadata": {},
   "source": [
    "#### B. Are compact cars more fuel-efficient than the average car?"
   ]
  },
  {
   "cell_type": "code",
   "execution_count": 20,
   "id": "b5c1b87e",
   "metadata": {},
   "outputs": [
    {
     "data": {
      "text/plain": [
       "20.14957264957265"
      ]
     },
     "execution_count": 20,
     "metadata": {},
     "output_type": "execute_result"
    }
   ],
   "source": [
    "#null hypothesis: compact cars and average cars have the same fuel efficiency\n",
    "#alternate hypothesis: compact cars are more fuel-efficient than the average car\n",
    "α = .05\n",
    "compact_cars = mpg[mpg['class'] == 'compact']\n",
    "mpg.average_mileage.mean()"
   ]
  },
  {
   "cell_type": "code",
   "execution_count": 21,
   "id": "5cfa3ed9",
   "metadata": {},
   "outputs": [
    {
     "data": {
      "text/plain": [
       "(7.896888573132535, 4.1985637943171336e-10, 0.05)"
      ]
     },
     "execution_count": 21,
     "metadata": {},
     "output_type": "execute_result"
    }
   ],
   "source": [
    "t, p = stats.ttest_1samp(compact_cars.average_mileage, mpg.average_mileage.mean())\n",
    "t, p , α"
   ]
  },
  {
   "cell_type": "code",
   "execution_count": 22,
   "id": "1c0ef4cd",
   "metadata": {},
   "outputs": [
    {
     "name": "stdout",
     "output_type": "stream",
     "text": [
      "REJECTED: Null hypothesis\n"
     ]
    }
   ],
   "source": [
    "if p < α:\n",
    "    print('REJECTED: Null hypothesis')\n",
    "else:\n",
    "    print('Failed to reject: Null hypothesis')"
   ]
  },
  {
   "cell_type": "code",
   "execution_count": 23,
   "id": "957d3815",
   "metadata": {},
   "outputs": [],
   "source": [
    "#Compact cars are more fuel-efficient "
   ]
  },
  {
   "cell_type": "markdown",
   "id": "15e87368",
   "metadata": {},
   "source": [
    "#### C. Do manual cars get better gas mileage than automatic cars?"
   ]
  },
  {
   "cell_type": "code",
   "execution_count": 24,
   "id": "cf87faa2",
   "metadata": {},
   "outputs": [
    {
     "data": {
      "text/plain": [
       "(26.635167464114826, 21.942777233382337)"
      ]
     },
     "execution_count": 24,
     "metadata": {},
     "output_type": "execute_result"
    }
   ],
   "source": [
    "#null hypothesis: automatic cars and manual cars have the same gas mileage\n",
    "#alternate hypothesis: manual cars have better gas mileage than automatic cars\n",
    "α = .05\n",
    "manual_average = mpg[mpg.trans.str.contains('manual')].average_mileage\n",
    "auto_average = mpg[mpg.trans.str.contains('auto')].average_mileage\n",
    "manual_average.var(), auto_average.var()\n",
    "#variances are roughly the same (variance1:variance2 < 4)"
   ]
  },
  {
   "cell_type": "code",
   "execution_count": 25,
   "id": "14f1f2d5",
   "metadata": {},
   "outputs": [
    {
     "data": {
      "text/plain": [
       "(4.593437735750014, 7.154374401145683e-06, 0.05)"
      ]
     },
     "execution_count": 25,
     "metadata": {},
     "output_type": "execute_result"
    }
   ],
   "source": [
    "t, p = stats.ttest_ind(manual_average, auto_average)\n",
    "t, p, α"
   ]
  },
  {
   "cell_type": "code",
   "execution_count": 26,
   "id": "a1a2198b",
   "metadata": {},
   "outputs": [
    {
     "name": "stdout",
     "output_type": "stream",
     "text": [
      "REJECTED: Null hypothesis\n"
     ]
    }
   ],
   "source": [
    "if p < α:\n",
    "    print('REJECTED: Null hypothesis')\n",
    "else:\n",
    "    print('Failed to reject: Null hypothesis')"
   ]
  },
  {
   "cell_type": "code",
   "execution_count": 27,
   "id": "cb1b3e73",
   "metadata": {},
   "outputs": [],
   "source": [
    "#manual cars have better gas mileage"
   ]
  }
 ],
 "metadata": {
  "kernelspec": {
   "display_name": "Python 3",
   "language": "python",
   "name": "python3"
  },
  "language_info": {
   "codemirror_mode": {
    "name": "ipython",
    "version": 3
   },
   "file_extension": ".py",
   "mimetype": "text/x-python",
   "name": "python",
   "nbconvert_exporter": "python",
   "pygments_lexer": "ipython3",
   "version": "3.8.8"
  }
 },
 "nbformat": 4,
 "nbformat_minor": 5
}
